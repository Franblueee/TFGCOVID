{
 "cells": [
  {
   "cell_type": "code",
   "execution_count": 1,
   "metadata": {
    "scrolled": true
   },
   "outputs": [
    {
     "name": "stderr",
     "output_type": "stream",
     "text": [
      "/mnt/sdd/fcastro/envs/TF/lib/python3.6/site-packages/tensorflow/python/framework/dtypes.py:516: FutureWarning: Passing (type, 1) or '1type' as a synonym of type is deprecated; in a future version of numpy, it will be understood as (type, (1,)) / '(1,)type'.\n",
      "  _np_qint8 = np.dtype([(\"qint8\", np.int8, 1)])\n",
      "/mnt/sdd/fcastro/envs/TF/lib/python3.6/site-packages/tensorflow/python/framework/dtypes.py:517: FutureWarning: Passing (type, 1) or '1type' as a synonym of type is deprecated; in a future version of numpy, it will be understood as (type, (1,)) / '(1,)type'.\n",
      "  _np_quint8 = np.dtype([(\"quint8\", np.uint8, 1)])\n",
      "/mnt/sdd/fcastro/envs/TF/lib/python3.6/site-packages/tensorflow/python/framework/dtypes.py:518: FutureWarning: Passing (type, 1) or '1type' as a synonym of type is deprecated; in a future version of numpy, it will be understood as (type, (1,)) / '(1,)type'.\n",
      "  _np_qint16 = np.dtype([(\"qint16\", np.int16, 1)])\n",
      "/mnt/sdd/fcastro/envs/TF/lib/python3.6/site-packages/tensorflow/python/framework/dtypes.py:519: FutureWarning: Passing (type, 1) or '1type' as a synonym of type is deprecated; in a future version of numpy, it will be understood as (type, (1,)) / '(1,)type'.\n",
      "  _np_quint16 = np.dtype([(\"quint16\", np.uint16, 1)])\n",
      "/mnt/sdd/fcastro/envs/TF/lib/python3.6/site-packages/tensorflow/python/framework/dtypes.py:520: FutureWarning: Passing (type, 1) or '1type' as a synonym of type is deprecated; in a future version of numpy, it will be understood as (type, (1,)) / '(1,)type'.\n",
      "  _np_qint32 = np.dtype([(\"qint32\", np.int32, 1)])\n",
      "/mnt/sdd/fcastro/envs/TF/lib/python3.6/site-packages/tensorflow/python/framework/dtypes.py:525: FutureWarning: Passing (type, 1) or '1type' as a synonym of type is deprecated; in a future version of numpy, it will be understood as (type, (1,)) / '(1,)type'.\n",
      "  np_resource = np.dtype([(\"resource\", np.ubyte, 1)])\n"
     ]
    }
   ],
   "source": [
    "import os\n",
    "os.environ[\"CUDA_DEVICE_ORDER\"]=\"PCI_BUS_ID\"\n",
    "os.environ[\"CUDA_VISIBLE_DEVICES\"]=\"1\"\n",
    "import shfl\n",
    "import torch\n",
    "import copy\n",
    "import numpy as np\n",
    "import tensorflow as tf\n",
    "\n",
    "from sklearn.preprocessing import LabelBinarizer\n",
    "\n",
    "from shfl.private import UnprotectedAccess\n",
    "from CIT.model import CITModel\n",
    "from utils import get_federated_data_csv\n",
    "from ClassifierModel import ClassifierModel"
   ]
  },
  {
   "cell_type": "code",
   "execution_count": 2,
   "metadata": {},
   "outputs": [],
   "source": [
    "#\"../data/COVIDGR1.0/centralized/cropped\"\n",
    "#partition_iid_3nodes_1.csv\n",
    "args = {\"data_path\":\"../data/COVIDGR1.0-Segmentadas\", \n",
    "        \"csv_path\": \"../partitions/partition_iid_3nodes_1.csv\",\n",
    "        \"output_path\": \"../weights\",\n",
    "        \"input_path\": \"\",\n",
    "        \"model_name\":\"transferlearning.model\", \n",
    "        \"label_bin\": \"lb.pickle\", \n",
    "        \"batch_size\": 1,\n",
    "        \"federated_rounds\": 10,\n",
    "        \"epochs_per_FL_round\": 5,\n",
    "        \"num_nodes\": 3,\n",
    "        \"size_averaging\": 1,\n",
    "        \"random_rotation\": 0,\n",
    "        \"random_shift\": 0, \n",
    "        \"random_zoom\": 0,\n",
    "        \"horizontal_flip\": False,        \n",
    "        \"finetune\": True,\n",
    "        \"train_network\": True}\n",
    "\n",
    "device = torch.device('cuda' if torch.cuda.is_available() else 'cpu')\n",
    "#device = 'cpu'"
   ]
  },
  {
   "cell_type": "code",
   "execution_count": 3,
   "metadata": {},
   "outputs": [],
   "source": [
    "a = ['N', 'P']\n",
    "b = ['NTN', 'NTP', 'PTP', 'PTN']\n",
    "lb1 = LabelBinarizer()\n",
    "lb2 = LabelBinarizer()\n",
    "lb1.fit(a)\n",
    "lb2.fit(b)\n",
    "\n",
    "dict_labels = { 'PTP' : np.argmax(lb2.transform(['PTP'])[0]) , 'PTN' : np.argmax(lb2.transform(['PTN'])[0]) , \n",
    "                'NTP' : np.argmax(lb2.transform(['NTP'])[0]) , 'NTN' : np.argmax(lb2.transform(['NTN'])[0]), \n",
    "                'P' : lb1.transform(['P'])[0][0], 'N' : lb1.transform(['N'])[0][0]\n",
    "              } \n",
    "\n"
   ]
  },
  {
   "cell_type": "code",
   "execution_count": 4,
   "metadata": {},
   "outputs": [],
   "source": [
    "def cit_builder():    \n",
    "    return CITModel(['N', 'P'], classifier_name = \"resnet18\", folds=1, lambda_values = [0.05], batch_size=args[\"batch_size\"], epochs=args[\"epochs_per_FL_round\"], device=device)\n",
    "\n",
    "def classifier_builder( G_dict ):\n",
    "    return ClassifierModel(G_dict, dict_labels, batch_size=args[\"batch_size\"], epochs=args[\"epochs_per_FL_round\"], finetune = args[\"finetune\"])\n",
    "\n",
    "def get_transformed_data(federated_data, cit_federated_government, lb1, lb2):\n",
    "    t_federated_data = copy.deepcopy(federated_data)\n",
    "\n",
    "    for i in range(federated_data.num_nodes()):\n",
    "        data_node = federated_data[i]\n",
    "        t_data_node = t_federated_data[i]\n",
    "        data = data_node.query()._data\n",
    "        labels = data_node.query()._label\n",
    "        t_data, t_labels = cit_federated_government.global_model.transform_data(data, labels, lb1, lb2)\n",
    "        t_data_node.query()._data = t_data\n",
    "        t_data_node.query()._label = t_labels\n",
    "\n",
    "\n",
    "    return t_federated_data"
   ]
  },
  {
   "cell_type": "code",
   "execution_count": 5,
   "metadata": {
    "scrolled": false
   },
   "outputs": [
    {
     "name": "stdout",
     "output_type": "stream",
     "text": [
      "[INFO] Fetching federated data...\n",
      "681\n",
      "171\n",
      "[INFO] done\n"
     ]
    }
   ],
   "source": [
    "print(\"[INFO] Fetching federated data...\")\n",
    "federated_data, train_data, train_label, test_data, test_label, train_files, test_files = get_federated_data_csv(args[\"data_path\"], args[\"csv_path\"], lb1)\n",
    "federated_data.configure_data_access(UnprotectedAccess())\n",
    "print(len(train_data))\n",
    "print(len(test_data))\n",
    "print(\"[INFO] done\")"
   ]
  },
  {
   "cell_type": "code",
   "execution_count": null,
   "metadata": {
    "scrolled": false
   },
   "outputs": [
    {
     "name": "stdout",
     "output_type": "stream",
     "text": [
      "Accuracy round 0\n",
      "Training node 0\n",
      "[INFO] weights = [1.         0.93965517]\n",
      "[INFO] LAMBDA: 0.05\n"
     ]
    },
    {
     "name": "stderr",
     "output_type": "stream",
     "text": [
      "[Validating]: Acc_D: 0.5217: 100%|██████████| 23/23 [00:00<00:00, 27.24it/s]\n",
      "[1/5] Loss_D: 0.3941 Acc_D: 0.5272 Loss_G_class1: 0.0241 Loss_G_class2: 0.0266: 100%|██████████| 202/202 [00:42<00:00,  4.75it/s]\n",
      "[Validating]: Acc_D: 0.5652: 100%|██████████| 23/23 [00:00<00:00, 31.55it/s]\n",
      "  0%|          | 0/202 [00:00<?, ?it/s]"
     ]
    },
    {
     "name": "stdout",
     "output_type": "stream",
     "text": [
      "\n",
      "Valid Acc = 0.5652173913043478\n",
      "Valid Loss = 0.6888010242710942\n"
     ]
    },
    {
     "name": "stderr",
     "output_type": "stream",
     "text": [
      "[2/5] Loss_D: 0.3826 Acc_D: 0.4851 Loss_G_class1: 0.0111 Loss_G_class2: 0.0111: 100%|██████████| 202/202 [00:42<00:00,  4.74it/s]\n",
      "[Validating]: Acc_D: 0.5217: 100%|██████████| 23/23 [00:00<00:00, 33.78it/s]\n",
      "  0%|          | 0/202 [00:00<?, ?it/s]"
     ]
    },
    {
     "name": "stdout",
     "output_type": "stream",
     "text": [
      "\n",
      "Valid Acc = 0.5217391304347826\n",
      "Valid Loss = 0.6899204798366713\n",
      "EarlyStopping counter: 1 out of 10\n"
     ]
    },
    {
     "name": "stderr",
     "output_type": "stream",
     "text": [
      "[3/5] Loss_D: 0.3801 Acc_D: 0.5173 Loss_G_class1: 0.0129 Loss_G_class2: 0.0112: 100%|██████████| 202/202 [00:42<00:00,  4.72it/s]\n",
      "[Validating]: Acc_D: 0.6087: 100%|██████████| 23/23 [00:01<00:00, 17.56it/s]\n",
      "  0%|          | 0/202 [00:00<?, ?it/s]"
     ]
    },
    {
     "name": "stdout",
     "output_type": "stream",
     "text": [
      "\n",
      "Valid Acc = 0.6086956521739131\n",
      "Valid Loss = 0.6757488069326981\n"
     ]
    },
    {
     "name": "stderr",
     "output_type": "stream",
     "text": [
      "[4/5] Loss_D: 0.3765 Acc_D: 0.4777 Loss_G_class1: 0.0112 Loss_G_class2: 0.0113: 100%|██████████| 202/202 [00:42<00:00,  4.71it/s]\n",
      "[Validating]: Acc_D: 0.5217: 100%|██████████| 23/23 [00:04<00:00,  5.56it/s]\n",
      "  0%|          | 0/202 [00:00<?, ?it/s]"
     ]
    },
    {
     "name": "stdout",
     "output_type": "stream",
     "text": [
      "\n",
      "Valid Acc = 0.5217391304347826\n",
      "Valid Loss = 0.6924401418022488\n",
      "EarlyStopping counter: 1 out of 10\n"
     ]
    },
    {
     "name": "stderr",
     "output_type": "stream",
     "text": [
      "[5/5] Loss_D: 0.3857 Acc_D: 0.4950 Loss_G_class1: 0.0119 Loss_G_class2: 0.0112: 100%|██████████| 202/202 [00:43<00:00,  4.69it/s]\n",
      "[Validating]: Acc_D: 0.5652: 100%|██████████| 23/23 [00:00<00:00, 32.75it/s]\n",
      "  0%|          | 0/23 [00:00<?, ?it/s]"
     ]
    },
    {
     "name": "stdout",
     "output_type": "stream",
     "text": [
      "\n",
      "Valid Acc = 0.5652173913043478\n",
      "Valid Loss = 0.6757292695667433\n"
     ]
    },
    {
     "name": "stderr",
     "output_type": "stream",
     "text": [
      "[Validating]: Acc_D: 0.5652: 100%|██████████| 23/23 [00:00<00:00, 34.66it/s]\n"
     ]
    },
    {
     "name": "stdout",
     "output_type": "stream",
     "text": [
      "[INFO] Summary of training for LAMBDA = 0.05 (best model values)\n",
      "Valid Acc = 0.5652173913043478\n",
      "Valid Loss = 0.6821506204812423\n",
      "Training node 1\n",
      "[INFO] weights = [0.83471074 1.        ]\n",
      "[INFO] LAMBDA: 0.05\n"
     ]
    },
    {
     "name": "stderr",
     "output_type": "stream",
     "text": [
      "[Validating]: Acc_D: 0.3478: 100%|██████████| 23/23 [00:00<00:00, 30.46it/s]\n",
      "[1/5] Loss_D: 0.3896 Acc_D: 0.4899 Loss_G_class1: 0.0236 Loss_G_class2: 0.0261: 100%|██████████| 199/199 [00:42<00:00,  4.70it/s]\n",
      "[Validating]: Acc_D: 0.6522: 100%|██████████| 23/23 [00:00<00:00, 33.16it/s]\n",
      "  0%|          | 0/199 [00:00<?, ?it/s]"
     ]
    },
    {
     "name": "stdout",
     "output_type": "stream",
     "text": [
      "\n",
      "Valid Acc = 0.6521739130434783\n",
      "Valid Loss = 0.9065980153239291\n"
     ]
    },
    {
     "name": "stderr",
     "output_type": "stream",
     "text": [
      "[2/5] Loss_D: 0.3779 Acc_D: 0.5025 Loss_G_class1: 0.0106 Loss_G_class2: 0.0122: 100%|██████████| 199/199 [00:41<00:00,  4.74it/s]\n",
      "[Validating]: Acc_D: 0.6522: 100%|██████████| 23/23 [00:00<00:00, 34.02it/s]\n",
      "  0%|          | 0/199 [00:00<?, ?it/s]"
     ]
    },
    {
     "name": "stdout",
     "output_type": "stream",
     "text": [
      "\n",
      "Valid Acc = 0.6521739130434783\n",
      "Valid Loss = 0.765133067317631\n"
     ]
    },
    {
     "name": "stderr",
     "output_type": "stream",
     "text": [
      "[3/5] Loss_D: 0.3747 Acc_D: 0.5377 Loss_G_class1: 0.0122 Loss_G_class2: 0.0137: 100%|██████████| 199/199 [00:41<00:00,  4.76it/s]\n",
      "[Validating]: Acc_D: 0.6522: 100%|██████████| 23/23 [00:00<00:00, 34.32it/s]\n",
      "  0%|          | 0/199 [00:00<?, ?it/s]"
     ]
    },
    {
     "name": "stdout",
     "output_type": "stream",
     "text": [
      "\n",
      "Valid Acc = 0.6521739130434783\n",
      "Valid Loss = 0.687414944819782\n"
     ]
    },
    {
     "name": "stderr",
     "output_type": "stream",
     "text": [
      "[4/5] Loss_D: 0.3725 Acc_D: 0.5126 Loss_G_class1: 0.0107 Loss_G_class2: 0.0119: 100%|██████████| 199/199 [00:42<00:00,  4.70it/s]\n",
      "[Validating]: Acc_D: 0.6522: 100%|██████████| 23/23 [00:00<00:00, 33.65it/s]\n",
      "  0%|          | 0/199 [00:00<?, ?it/s]"
     ]
    },
    {
     "name": "stdout",
     "output_type": "stream",
     "text": [
      "\n",
      "Valid Acc = 0.6521739130434783\n",
      "Valid Loss = 0.6489298751820689\n"
     ]
    },
    {
     "name": "stderr",
     "output_type": "stream",
     "text": [
      "[5/5] Loss_D: 0.3716 Acc_D: 0.5050 Loss_G_class1: 0.0133 Loss_G_class2: 0.0109: 100%|██████████| 199/199 [00:42<00:00,  4.72it/s]\n",
      "[Validating]: Acc_D: 0.6522: 100%|██████████| 23/23 [00:00<00:00, 33.87it/s]\n",
      "  0%|          | 0/23 [00:00<?, ?it/s]"
     ]
    },
    {
     "name": "stdout",
     "output_type": "stream",
     "text": [
      "\n",
      "Valid Acc = 0.6521739130434783\n",
      "Valid Loss = 0.720081739127636\n",
      "EarlyStopping counter: 1 out of 10\n"
     ]
    },
    {
     "name": "stderr",
     "output_type": "stream",
     "text": [
      "[Validating]: Acc_D: 0.6522: 100%|██████████| 23/23 [00:00<00:00, 34.89it/s]\n"
     ]
    },
    {
     "name": "stdout",
     "output_type": "stream",
     "text": [
      "[INFO] Summary of training for LAMBDA = 0.05 (best model values)\n",
      "Valid Acc = 0.6521739130434783\n",
      "Valid Loss = 0.7481023465161738\n",
      "Training node 2\n",
      "[INFO] weights = [1.       0.828125]\n",
      "[INFO] LAMBDA: 0.05\n"
     ]
    },
    {
     "name": "stderr",
     "output_type": "stream",
     "text": [
      "[Validating]: Acc_D: 0.5417: 100%|██████████| 24/24 [00:00<00:00, 31.77it/s]\n",
      "[1/5] Loss_D: 0.3952 Acc_D: 0.5667 Loss_G_class1: 0.0234 Loss_G_class2: 0.0248: 100%|██████████| 210/210 [00:44<00:00,  4.69it/s]\n",
      "[Validating]: Acc_D: 0.4583: 100%|██████████| 24/24 [00:00<00:00, 34.40it/s]\n",
      "  0%|          | 0/210 [00:00<?, ?it/s]"
     ]
    },
    {
     "name": "stdout",
     "output_type": "stream",
     "text": [
      "\n",
      "Valid Acc = 0.4583333333333333\n",
      "Valid Loss = 0.8513900749385357\n"
     ]
    },
    {
     "name": "stderr",
     "output_type": "stream",
     "text": [
      "[2/5] Loss_D: 0.3847 Acc_D: 0.5310 Loss_G_class1: 0.0121 Loss_G_class2: 0.0115: 100%|██████████| 210/210 [00:44<00:00,  4.73it/s]\n",
      "[Validating]: Acc_D: 0.4583: 100%|██████████| 24/24 [00:00<00:00, 34.13it/s]\n",
      "  0%|          | 0/210 [00:00<?, ?it/s]"
     ]
    },
    {
     "name": "stdout",
     "output_type": "stream",
     "text": [
      "\n",
      "Valid Acc = 0.4583333333333333\n",
      "Valid Loss = 0.7293867506086826\n"
     ]
    },
    {
     "name": "stderr",
     "output_type": "stream",
     "text": [
      "[3/5] Loss_D: 0.3773 Acc_D: 0.5286 Loss_G_class1: 0.0122 Loss_G_class2: 0.0102: 100%|██████████| 210/210 [00:44<00:00,  4.68it/s]\n",
      "[Validating]: Acc_D: 0.4583: 100%|██████████| 24/24 [00:00<00:00, 32.48it/s]\n",
      "  0%|          | 0/210 [00:00<?, ?it/s]"
     ]
    },
    {
     "name": "stdout",
     "output_type": "stream",
     "text": [
      "\n",
      "Valid Acc = 0.4583333333333333\n",
      "Valid Loss = 0.7757052009304365\n",
      "EarlyStopping counter: 1 out of 10\n"
     ]
    },
    {
     "name": "stderr",
     "output_type": "stream",
     "text": [
      "[4/5] Loss_D: 0.3708 Acc_D: 0.5048 Loss_G_class1: 0.0113 Loss_G_class2: 0.0099: 100%|██████████| 210/210 [00:44<00:00,  4.72it/s]\n",
      "[Validating]: Acc_D: 0.4583: 100%|██████████| 24/24 [00:00<00:00, 32.09it/s]\n",
      "  0%|          | 0/210 [00:00<?, ?it/s]"
     ]
    },
    {
     "name": "stdout",
     "output_type": "stream",
     "text": [
      "\n",
      "Valid Acc = 0.4583333333333333\n",
      "Valid Loss = 0.7594288438558578\n",
      "EarlyStopping counter: 2 out of 10\n"
     ]
    },
    {
     "name": "stderr",
     "output_type": "stream",
     "text": [
      "[5/5] Loss_D: 0.3693 Acc_D: 0.5262 Loss_G_class1: 0.0117 Loss_G_class2: 0.0096: 100%|██████████| 210/210 [00:44<00:00,  4.69it/s]\n",
      "[Validating]: Acc_D: 0.4583: 100%|██████████| 24/24 [00:00<00:00, 34.53it/s]\n",
      "  0%|          | 0/24 [00:00<?, ?it/s]"
     ]
    },
    {
     "name": "stdout",
     "output_type": "stream",
     "text": [
      "\n",
      "Valid Acc = 0.4583333333333333\n",
      "Valid Loss = 0.769500787059466\n",
      "EarlyStopping counter: 3 out of 10\n"
     ]
    },
    {
     "name": "stderr",
     "output_type": "stream",
     "text": [
      "[Validating]: Acc_D: 0.5417: 100%|██████████| 24/24 [00:00<00:00, 35.55it/s]\n"
     ]
    },
    {
     "name": "stdout",
     "output_type": "stream",
     "text": [
      "[INFO] Summary of training for LAMBDA = 0.05 (best model values)\n",
      "Valid Acc = 0.5416666666666666\n",
      "Valid Loss = 0.6835181886951128\n",
      "Test performance client <shfl.private.federated_operation.FederatedDataNode object at 0x7fb82347dc50>: [0.6911254838893288, 0.4853801169590643, '              precision    recall  f1-score   support\\n\\n           0    0.14444   0.54167   0.22807        24\\n           1    0.86420   0.47619   0.61404       147\\n\\n    accuracy                        0.48538       171\\n   macro avg    0.50432   0.50893   0.42105       171\\nweighted avg    0.76318   0.48538   0.55986       171\\n']\n",
      "Test performance client <shfl.private.federated_operation.FederatedDataNode object at 0x7fb82347dda0>: [0.8498756669418156, 0.5263157894736842, '              precision    recall  f1-score   support\\n\\n           0    1.00000   0.52632   0.68966       171\\n           1    0.00000   0.00000   0.00000         0\\n\\n    accuracy                        0.52632       171\\n   macro avg    0.50000   0.26316   0.34483       171\\nweighted avg    1.00000   0.52632   0.68966       171\\n']\n"
     ]
    },
    {
     "name": "stderr",
     "output_type": "stream",
     "text": [
      "/mnt/sdd/fcastro/envs/TF/lib/python3.6/site-packages/sklearn/metrics/_classification.py:1221: UndefinedMetricWarning: Recall and F-score are ill-defined and being set to 0.0 in labels with no true samples. Use `zero_division` parameter to control this behavior.\n",
      "  _warn_prf(average, modifier, msg_start, len(result))\n"
     ]
    },
    {
     "name": "stdout",
     "output_type": "stream",
     "text": [
      "Test performance client <shfl.private.federated_operation.FederatedDataNode object at 0x7fb82347ddd8>: [0.7034700160835221, 0.45614035087719296, '              precision    recall  f1-score   support\\n\\n           0    0.00000   0.00000   0.00000         3\\n           1    0.96296   0.46429   0.62651       168\\n\\n    accuracy                        0.45614       171\\n   macro avg    0.48148   0.23214   0.31325       171\\nweighted avg    0.94607   0.45614   0.61551       171\\n']\n",
      "Global model test performance : [83.52331547430384, 0.5263157894736842, '              precision    recall  f1-score   support\\n\\n           0    1.00000   0.52632   0.68966       171\\n           1    0.00000   0.00000   0.00000         0\\n\\n    accuracy                        0.52632       171\\n   macro avg    0.50000   0.26316   0.34483       171\\nweighted avg    1.00000   0.52632   0.68966       171\\n']\n",
      "\n",
      "\n",
      "\n",
      "Accuracy round 1\n",
      "Training node 0\n",
      "[INFO] weights = [1.         0.93965517]\n",
      "[INFO] LAMBDA: 0.05\n"
     ]
    },
    {
     "name": "stderr",
     "output_type": "stream",
     "text": [
      "[Validating]: Acc_D: 0.4783: 100%|██████████| 23/23 [00:00<00:00, 31.80it/s]\n",
      "[1/5] Loss_D: 0.3822 Acc_D: 0.5347 Loss_G_class1: 0.0113 Loss_G_class2: 0.0116: 100%|██████████| 202/202 [00:43<00:00,  4.69it/s]\n",
      "[Validating]: Acc_D: 0.5652: 100%|██████████| 23/23 [00:00<00:00, 32.57it/s]\n",
      "  0%|          | 0/202 [00:00<?, ?it/s]"
     ]
    },
    {
     "name": "stdout",
     "output_type": "stream",
     "text": [
      "\n",
      "Valid Acc = 0.5652173913043478\n",
      "Valid Loss = 0.7627395702444989\n"
     ]
    },
    {
     "name": "stderr",
     "output_type": "stream",
     "text": [
      "[2/5] Loss_D: 0.3740 Acc_D: 0.5322 Loss_G_class1: 0.0112 Loss_G_class2: 0.0116: 100%|██████████| 202/202 [00:42<00:00,  4.73it/s]\n",
      "[Validating]: Acc_D: 0.4783: 100%|██████████| 23/23 [00:00<00:00, 33.90it/s]\n",
      "  0%|          | 0/202 [00:00<?, ?it/s]"
     ]
    },
    {
     "name": "stdout",
     "output_type": "stream",
     "text": [
      "\n",
      "Valid Acc = 0.4782608695652174\n",
      "Valid Loss = 0.7147895771524181\n"
     ]
    },
    {
     "name": "stderr",
     "output_type": "stream",
     "text": [
      "[3/5] Loss_D: 0.3701 Acc_D: 0.5272 Loss_G_class1: 0.0109 Loss_G_class2: 0.0101: 100%|██████████| 202/202 [00:43<00:00,  4.69it/s]\n",
      "[Validating]: Acc_D: 0.4783: 100%|██████████| 23/23 [00:00<00:00, 32.63it/s]\n",
      "  0%|          | 0/202 [00:00<?, ?it/s]"
     ]
    },
    {
     "name": "stdout",
     "output_type": "stream",
     "text": [
      "\n",
      "Valid Acc = 0.4782608695652174\n",
      "Valid Loss = 0.7058358982853268\n"
     ]
    },
    {
     "name": "stderr",
     "output_type": "stream",
     "text": [
      "[4/5] Loss_D: 0.3709 Acc_D: 0.5322 Loss_G_class1: 0.0106 Loss_G_class2: 0.0099: 100%|██████████| 202/202 [00:43<00:00,  4.70it/s]\n",
      "[Validating]: Acc_D: 0.4783: 100%|██████████| 23/23 [00:00<00:00, 32.08it/s]\n",
      "  0%|          | 0/202 [00:00<?, ?it/s]"
     ]
    },
    {
     "name": "stdout",
     "output_type": "stream",
     "text": [
      "\n",
      "Valid Acc = 0.4782608695652174\n",
      "Valid Loss = 0.7154773020226023\n",
      "EarlyStopping counter: 1 out of 10\n"
     ]
    },
    {
     "name": "stderr",
     "output_type": "stream",
     "text": [
      "[5/5] Loss_D: 0.3639 Acc_D: 0.5470 Loss_G_class1: 0.0102 Loss_G_class2: 0.0100: 100%|██████████| 202/202 [00:42<00:00,  4.70it/s]\n",
      "[Validating]: Acc_D: 0.4783: 100%|██████████| 23/23 [00:00<00:00, 32.30it/s]\n",
      "  0%|          | 0/23 [00:00<?, ?it/s]"
     ]
    },
    {
     "name": "stdout",
     "output_type": "stream",
     "text": [
      "\n",
      "Valid Acc = 0.4782608695652174\n",
      "Valid Loss = 0.6947129135546477\n"
     ]
    },
    {
     "name": "stderr",
     "output_type": "stream",
     "text": [
      "[Validating]: Acc_D: 0.6087: 100%|██████████| 23/23 [00:00<00:00, 33.52it/s]\n"
     ]
    },
    {
     "name": "stdout",
     "output_type": "stream",
     "text": [
      "[INFO] Summary of training for LAMBDA = 0.05 (best model values)\n",
      "Valid Acc = 0.6086956521739131\n",
      "Valid Loss = 0.758739261523537\n",
      "Training node 1\n",
      "[INFO] weights = [0.83471074 1.        ]\n",
      "[INFO] LAMBDA: 0.05\n"
     ]
    },
    {
     "name": "stderr",
     "output_type": "stream",
     "text": [
      "[Validating]: Acc_D: 0.4783: 100%|██████████| 23/23 [00:00<00:00, 28.63it/s]\n",
      "[1/5] Loss_D: 0.3874 Acc_D: 0.5176 Loss_G_class1: 0.0116 Loss_G_class2: 0.0114: 100%|██████████| 199/199 [00:42<00:00,  4.68it/s]\n",
      "[Validating]: Acc_D: 0.5217: 100%|██████████| 23/23 [00:00<00:00, 31.14it/s]\n",
      "  0%|          | 0/199 [00:00<?, ?it/s]"
     ]
    },
    {
     "name": "stdout",
     "output_type": "stream",
     "text": [
      "\n",
      "Valid Acc = 0.5217391304347826\n",
      "Valid Loss = 0.7109272169030231\n"
     ]
    },
    {
     "name": "stderr",
     "output_type": "stream",
     "text": [
      "[2/5] Loss_D: 0.3808 Acc_D: 0.4799 Loss_G_class1: 0.0102 Loss_G_class2: 0.0111: 100%|██████████| 199/199 [00:42<00:00,  4.69it/s]\n",
      "[Validating]: Acc_D: 0.5217: 100%|██████████| 23/23 [00:00<00:00, 31.92it/s]\n",
      "  0%|          | 0/199 [00:00<?, ?it/s]"
     ]
    },
    {
     "name": "stdout",
     "output_type": "stream",
     "text": [
      "\n",
      "Valid Acc = 0.5217391304347826\n",
      "Valid Loss = 0.7079899129660233\n"
     ]
    },
    {
     "name": "stderr",
     "output_type": "stream",
     "text": [
      "[3/5] Loss_D: 0.3722 Acc_D: 0.4899 Loss_G_class1: 0.0097 Loss_G_class2: 0.0105: 100%|██████████| 199/199 [00:42<00:00,  4.70it/s]\n",
      "[Validating]: Acc_D: 0.5217: 100%|██████████| 23/23 [00:00<00:00, 34.08it/s]\n",
      "  0%|          | 0/199 [00:00<?, ?it/s]"
     ]
    },
    {
     "name": "stdout",
     "output_type": "stream",
     "text": [
      "\n",
      "Valid Acc = 0.5217391304347826\n",
      "Valid Loss = 0.7019391513389089\n"
     ]
    },
    {
     "name": "stderr",
     "output_type": "stream",
     "text": [
      "[4/5] Loss_D: 0.3618 Acc_D: 0.4899 Loss_G_class1: 0.0099 Loss_G_class2: 0.0098: 100%|██████████| 199/199 [00:42<00:00,  4.70it/s]\n",
      "[Validating]: Acc_D: 0.5217: 100%|██████████| 23/23 [00:00<00:00, 31.43it/s]\n",
      "  0%|          | 0/199 [00:00<?, ?it/s]"
     ]
    },
    {
     "name": "stdout",
     "output_type": "stream",
     "text": [
      "\n",
      "Valid Acc = 0.5217391304347826\n",
      "Valid Loss = 0.7062261519224747\n",
      "EarlyStopping counter: 1 out of 10\n"
     ]
    },
    {
     "name": "stderr",
     "output_type": "stream",
     "text": [
      "[5/5] Loss_D: 0.3656 Acc_D: 0.4975 Loss_G_class1: 0.0101 Loss_G_class2: 0.0129: 100%|██████████| 199/199 [00:42<00:00,  4.71it/s]\n",
      "[Validating]: Acc_D: 0.5217: 100%|██████████| 23/23 [00:00<00:00, 33.36it/s]\n",
      "  0%|          | 0/23 [00:00<?, ?it/s]"
     ]
    },
    {
     "name": "stdout",
     "output_type": "stream",
     "text": [
      "\n",
      "Valid Acc = 0.5217391304347826\n",
      "Valid Loss = 0.7577470087486765\n",
      "EarlyStopping counter: 2 out of 10\n"
     ]
    },
    {
     "name": "stderr",
     "output_type": "stream",
     "text": [
      "[Validating]: Acc_D: 0.5217: 100%|██████████| 23/23 [00:00<00:00, 33.85it/s]\n"
     ]
    },
    {
     "name": "stdout",
     "output_type": "stream",
     "text": [
      "[INFO] Summary of training for LAMBDA = 0.05 (best model values)\n",
      "Valid Acc = 0.5217391304347826\n",
      "Valid Loss = 0.7799863711647366\n",
      "Training node 2\n",
      "[INFO] weights = [1.       0.828125]\n",
      "[INFO] LAMBDA: 0.05\n"
     ]
    },
    {
     "name": "stderr",
     "output_type": "stream",
     "text": [
      "[Validating]: Acc_D: 0.5833: 100%|██████████| 24/24 [00:00<00:00, 30.89it/s]\n",
      "[1/5] Loss_D: 0.3950 Acc_D: 0.5167 Loss_G_class1: 0.0114 Loss_G_class2: 0.0118: 100%|██████████| 210/210 [00:44<00:00,  4.70it/s]\n",
      "[Validating]: Acc_D: 0.4167: 100%|██████████| 24/24 [00:00<00:00, 31.19it/s]\n",
      "  0%|          | 0/210 [00:00<?, ?it/s]"
     ]
    },
    {
     "name": "stdout",
     "output_type": "stream",
     "text": [
      "\n",
      "Valid Acc = 0.4166666666666667\n",
      "Valid Loss = 0.8458394731084505\n"
     ]
    },
    {
     "name": "stderr",
     "output_type": "stream",
     "text": [
      "[2/5] Loss_D: 0.3711 Acc_D: 0.5190 Loss_G_class1: 0.0108 Loss_G_class2: 0.0101: 100%|██████████| 210/210 [00:44<00:00,  4.71it/s]\n",
      "[Validating]: Acc_D: 0.4167: 100%|██████████| 24/24 [00:00<00:00, 33.99it/s]\n",
      "  0%|          | 0/210 [00:00<?, ?it/s]"
     ]
    },
    {
     "name": "stdout",
     "output_type": "stream",
     "text": [
      "\n",
      "Valid Acc = 0.4166666666666667\n",
      "Valid Loss = 1.095878350858887\n",
      "EarlyStopping counter: 1 out of 10\n"
     ]
    },
    {
     "name": "stderr",
     "output_type": "stream",
     "text": [
      "[3/5] Loss_D: 0.3658 Acc_D: 0.5500 Loss_G_class1: 0.0117 Loss_G_class2: 0.0097: 100%|██████████| 210/210 [00:44<00:00,  4.70it/s]\n",
      "[Validating]: Acc_D: 0.4167: 100%|██████████| 24/24 [00:00<00:00, 31.91it/s]\n",
      "  0%|          | 0/210 [00:00<?, ?it/s]"
     ]
    },
    {
     "name": "stdout",
     "output_type": "stream",
     "text": [
      "\n",
      "Valid Acc = 0.4166666666666667\n",
      "Valid Loss = 0.7583061580856642\n"
     ]
    },
    {
     "name": "stderr",
     "output_type": "stream",
     "text": [
      "[4/5] Loss_D: 0.3579 Acc_D: 0.5429 Loss_G_class1: 0.0112 Loss_G_class2: 0.0105: 100%|██████████| 210/210 [00:44<00:00,  4.71it/s]\n",
      "[Validating]: Acc_D: 0.4167: 100%|██████████| 24/24 [00:00<00:00, 35.41it/s]\n",
      "  0%|          | 0/210 [00:00<?, ?it/s]"
     ]
    },
    {
     "name": "stdout",
     "output_type": "stream",
     "text": [
      "\n",
      "Valid Acc = 0.4166666666666667\n",
      "Valid Loss = 0.7618878396848837\n",
      "EarlyStopping counter: 1 out of 10\n"
     ]
    },
    {
     "name": "stderr",
     "output_type": "stream",
     "text": [
      "[5/5] Loss_D: 0.3521 Acc_D: 0.5429 Loss_G_class1: 0.0100 Loss_G_class2: 0.0101: 100%|██████████| 210/210 [00:44<00:00,  4.72it/s]\n",
      "[Validating]: Acc_D: 0.4167: 100%|██████████| 24/24 [00:00<00:00, 32.32it/s]\n",
      "  0%|          | 0/24 [00:00<?, ?it/s]"
     ]
    },
    {
     "name": "stdout",
     "output_type": "stream",
     "text": [
      "\n",
      "Valid Acc = 0.4166666666666667\n",
      "Valid Loss = 0.7655296040078005\n",
      "EarlyStopping counter: 2 out of 10\n"
     ]
    },
    {
     "name": "stderr",
     "output_type": "stream",
     "text": [
      "[Validating]: Acc_D: 0.5833: 100%|██████████| 24/24 [00:00<00:00, 34.55it/s]\n"
     ]
    },
    {
     "name": "stdout",
     "output_type": "stream",
     "text": [
      "[INFO] Summary of training for LAMBDA = 0.05 (best model values)\n",
      "Valid Acc = 0.5833333333333334\n",
      "Valid Loss = 83.18435033162434\n",
      "Test performance client <shfl.private.federated_operation.FederatedDataNode object at 0x7fb82347dc50>: [0.8039254675134581, 0.4152046783625731, '              precision    recall  f1-score   support\\n\\n           0    0.15556   0.36842   0.21875        38\\n           1    0.70370   0.42857   0.53271       133\\n\\n    accuracy                        0.41520       171\\n   macro avg    0.42963   0.39850   0.37573       171\\nweighted avg    0.58189   0.41520   0.46294       171\\n']\n",
      "Test performance client <shfl.private.federated_operation.FederatedDataNode object at 0x7fb82347dda0>: [0.7004523437622695, 0.5263157894736842, '              precision    recall  f1-score   support\\n\\n           0    1.00000   0.52632   0.68966       171\\n           1    0.00000   0.00000   0.00000         0\\n\\n    accuracy                        0.52632       171\\n   macro avg    0.50000   0.26316   0.34483       171\\nweighted avg    1.00000   0.52632   0.68966       171\\n']\n",
      "Test performance client <shfl.private.federated_operation.FederatedDataNode object at 0x7fb82347ddd8>: [83.5233157420019, 0.5263157894736842, '              precision    recall  f1-score   support\\n\\n           0    1.00000   0.52632   0.68966       171\\n           1    0.00000   0.00000   0.00000         0\\n\\n    accuracy                        0.52632       171\\n   macro avg    0.50000   0.26316   0.34483       171\\nweighted avg    1.00000   0.52632   0.68966       171\\n']\n",
      "Global model test performance : [953.9269434164839, 0.47368421052631576, '              precision    recall  f1-score   support\\n\\n           0    0.00000   0.00000   0.00000         0\\n           1    1.00000   0.47368   0.64286       171\\n\\n    accuracy                        0.47368       171\\n   macro avg    0.50000   0.23684   0.32143       171\\nweighted avg    1.00000   0.47368   0.64286       171\\n']\n",
      "\n",
      "\n",
      "\n",
      "Accuracy round 2\n",
      "Training node 0\n",
      "[INFO] weights = [1.         0.93965517]\n",
      "[INFO] LAMBDA: 0.05\n"
     ]
    },
    {
     "name": "stderr",
     "output_type": "stream",
     "text": [
      "[Validating]: Acc_D: 0.3478: 100%|██████████| 23/23 [00:00<00:00, 29.70it/s]\n",
      "[1/5] Loss_D: 0.3857 Acc_D: 0.4653 Loss_G_class1: 0.0113 Loss_G_class2: 0.0114: 100%|██████████| 202/202 [00:42<00:00,  4.70it/s]\n",
      "[Validating]: Acc_D: 0.3478: 100%|██████████| 23/23 [00:00<00:00, 32.88it/s]\n",
      "  0%|          | 0/202 [00:00<?, ?it/s]"
     ]
    },
    {
     "name": "stdout",
     "output_type": "stream",
     "text": [
      "\n",
      "Valid Acc = 0.34782608695652173\n",
      "Valid Loss = 0.7014034027638643\n"
     ]
    },
    {
     "name": "stderr",
     "output_type": "stream",
     "text": [
      "[2/5] Loss_D: 0.3797 Acc_D: 0.4678 Loss_G_class1: 0.0107 Loss_G_class2: 0.0109: 100%|██████████| 202/202 [00:42<00:00,  4.71it/s]\n",
      "[Validating]: Acc_D: 0.3478: 100%|██████████| 23/23 [00:00<00:00, 30.70it/s]\n",
      "  0%|          | 0/202 [00:00<?, ?it/s]"
     ]
    },
    {
     "name": "stdout",
     "output_type": "stream",
     "text": [
      "\n",
      "Valid Acc = 0.34782608695652173\n",
      "Valid Loss = 0.7121112450309421\n",
      "EarlyStopping counter: 1 out of 10\n"
     ]
    },
    {
     "name": "stderr",
     "output_type": "stream",
     "text": [
      "[3/5] Loss_D: 0.3689 Acc_D: 0.4728 Loss_G_class1: 0.0098 Loss_G_class2: 0.0100: 100%|██████████| 202/202 [00:42<00:00,  4.71it/s]\n",
      "[Validating]: Acc_D: 0.3478: 100%|██████████| 23/23 [00:00<00:00, 32.75it/s]\n",
      "  0%|          | 0/202 [00:00<?, ?it/s]"
     ]
    },
    {
     "name": "stdout",
     "output_type": "stream",
     "text": [
      "\n",
      "Valid Acc = 0.34782608695652173\n",
      "Valid Loss = 0.7170370454373567\n",
      "EarlyStopping counter: 2 out of 10\n"
     ]
    },
    {
     "name": "stderr",
     "output_type": "stream",
     "text": [
      "[4/5] Loss_D: 0.3667 Acc_D: 0.4678 Loss_G_class1: 0.0100 Loss_G_class2: 0.0098: 100%|██████████| 202/202 [00:42<00:00,  4.71it/s]\n",
      "[Validating]: Acc_D: 0.3478: 100%|██████████| 23/23 [00:00<00:00, 32.36it/s]\n",
      "  0%|          | 0/202 [00:00<?, ?it/s]"
     ]
    },
    {
     "name": "stdout",
     "output_type": "stream",
     "text": [
      "\n",
      "Valid Acc = 0.34782608695652173\n",
      "Valid Loss = 0.7081453800201416\n",
      "EarlyStopping counter: 3 out of 10\n"
     ]
    },
    {
     "name": "stderr",
     "output_type": "stream",
     "text": [
      "[5/5] Loss_D: 0.3656 Acc_D: 0.4703 Loss_G_class1: 0.0099 Loss_G_class2: 0.0095: 100%|██████████| 202/202 [00:43<00:00,  4.70it/s]\n",
      "[Validating]: Acc_D: 0.3913: 100%|██████████| 23/23 [00:00<00:00, 31.53it/s]\n",
      "  0%|          | 0/23 [00:00<?, ?it/s]"
     ]
    },
    {
     "name": "stdout",
     "output_type": "stream",
     "text": [
      "\n",
      "Valid Acc = 0.391304347826087\n",
      "Valid Loss = 0.7127003099607385\n",
      "EarlyStopping counter: 4 out of 10\n"
     ]
    },
    {
     "name": "stderr",
     "output_type": "stream",
     "text": [
      "[Validating]: Acc_D: 0.3913: 100%|██████████| 23/23 [00:00<00:00, 31.37it/s]\n"
     ]
    },
    {
     "name": "stdout",
     "output_type": "stream",
     "text": [
      "[INFO] Summary of training for LAMBDA = 0.05 (best model values)\n",
      "Valid Acc = 0.391304347826087\n",
      "Valid Loss = 0.7093759956567184\n",
      "Training node 1\n",
      "[INFO] weights = [0.83471074 1.        ]\n",
      "[INFO] LAMBDA: 0.05\n"
     ]
    },
    {
     "name": "stderr",
     "output_type": "stream",
     "text": [
      "[Validating]: Acc_D: 0.4783: 100%|██████████| 23/23 [00:00<00:00, 29.61it/s]\n",
      "[1/5] Loss_D: 0.3802 Acc_D: 0.5352 Loss_G_class1: 0.0098 Loss_G_class2: 0.0121: 100%|██████████| 199/199 [00:42<00:00,  4.72it/s]\n",
      "[Validating]: Acc_D: 0.5217: 100%|██████████| 23/23 [00:03<00:00,  6.07it/s]\n",
      "  0%|          | 0/199 [00:00<?, ?it/s]"
     ]
    },
    {
     "name": "stdout",
     "output_type": "stream",
     "text": [
      "\n",
      "Valid Acc = 0.5217391304347826\n",
      "Valid Loss = 0.7064466320950052\n"
     ]
    },
    {
     "name": "stderr",
     "output_type": "stream",
     "text": [
      "[2/5] Loss_D: 0.3645 Acc_D: 0.5327 Loss_G_class1: 0.0093 Loss_G_class2: 0.0109: 100%|██████████| 199/199 [00:42<00:00,  4.74it/s]\n",
      "[Validating]: Acc_D: 0.3913: 100%|██████████| 23/23 [00:00<00:00, 31.03it/s]\n",
      "  0%|          | 0/199 [00:00<?, ?it/s]"
     ]
    },
    {
     "name": "stdout",
     "output_type": "stream",
     "text": [
      "\n",
      "Valid Acc = 0.391304347826087\n",
      "Valid Loss = 0.8548524936904078\n",
      "EarlyStopping counter: 1 out of 10\n"
     ]
    },
    {
     "name": "stderr",
     "output_type": "stream",
     "text": [
      "[3/5] Loss_D: 0.3628 Acc_D: 0.4849 Loss_G_class1: 0.0095 Loss_G_class2: 0.0105: 100%|██████████| 199/199 [00:42<00:00,  4.65it/s]\n",
      "[Validating]: Acc_D: 0.4348: 100%|██████████| 23/23 [00:00<00:00, 30.89it/s]\n",
      "  0%|          | 0/199 [00:00<?, ?it/s]"
     ]
    },
    {
     "name": "stdout",
     "output_type": "stream",
     "text": [
      "\n",
      "Valid Acc = 0.43478260869565216\n",
      "Valid Loss = 0.7463819254999575\n",
      "EarlyStopping counter: 2 out of 10\n"
     ]
    },
    {
     "name": "stderr",
     "output_type": "stream",
     "text": [
      "[4/5] Loss_D: 0.3583 Acc_D: 0.5075 Loss_G_class1: 0.0091 Loss_G_class2: 0.0102: 100%|██████████| 199/199 [00:42<00:00,  4.72it/s]\n",
      "[Validating]: Acc_D: 0.5217: 100%|██████████| 23/23 [00:00<00:00, 29.20it/s]\n",
      "  0%|          | 0/199 [00:00<?, ?it/s]"
     ]
    },
    {
     "name": "stdout",
     "output_type": "stream",
     "text": [
      "\n",
      "Valid Acc = 0.5217391304347826\n",
      "Valid Loss = 0.8511606364146523\n",
      "EarlyStopping counter: 3 out of 10\n"
     ]
    },
    {
     "name": "stderr",
     "output_type": "stream",
     "text": [
      "[5/5] Loss_D: 0.3613 Acc_D: 0.5126 Loss_G_class1: 0.0096 Loss_G_class2: 0.0107: 100%|██████████| 199/199 [00:42<00:00,  4.71it/s]\n",
      "[Validating]: Acc_D: 0.5217: 100%|██████████| 23/23 [00:00<00:00, 31.30it/s]\n",
      "  0%|          | 0/23 [00:00<?, ?it/s]"
     ]
    },
    {
     "name": "stdout",
     "output_type": "stream",
     "text": [
      "\n",
      "Valid Acc = 0.5217391304347826\n",
      "Valid Loss = 0.7725526716398157\n",
      "EarlyStopping counter: 4 out of 10\n"
     ]
    },
    {
     "name": "stderr",
     "output_type": "stream",
     "text": [
      "[Validating]: Acc_D: 0.5217: 100%|██████████| 23/23 [00:00<00:00, 31.97it/s]\n"
     ]
    },
    {
     "name": "stdout",
     "output_type": "stream",
     "text": [
      "[INFO] Summary of training for LAMBDA = 0.05 (best model values)\n",
      "Valid Acc = 0.5217391304347826\n",
      "Valid Loss = 0.7451427280902863\n",
      "Training node 2\n",
      "[INFO] weights = [1.       0.828125]\n",
      "[INFO] LAMBDA: 0.05\n"
     ]
    },
    {
     "name": "stderr",
     "output_type": "stream",
     "text": [
      "[Validating]: Acc_D: 0.3750: 100%|██████████| 24/24 [00:00<00:00, 29.79it/s]\n",
      "[1/5] Loss_D: 0.3764 Acc_D: 0.4976 Loss_G_class1: 0.0119 Loss_G_class2: 0.0105: 100%|██████████| 210/210 [00:44<00:00,  4.67it/s]\n",
      "[Validating]: Acc_D: 0.3750: 100%|██████████| 24/24 [00:00<00:00, 33.01it/s]\n",
      "  0%|          | 0/210 [00:00<?, ?it/s]"
     ]
    },
    {
     "name": "stdout",
     "output_type": "stream",
     "text": [
      "\n",
      "Valid Acc = 0.375\n",
      "Valid Loss = 1.203017206241687\n"
     ]
    },
    {
     "name": "stderr",
     "output_type": "stream",
     "text": [
      "[2/5] Loss_D: 0.3662 Acc_D: 0.5333 Loss_G_class1: 0.0113 Loss_G_class2: 0.0097: 100%|██████████| 210/210 [00:44<00:00,  4.70it/s]\n",
      "[Validating]: Acc_D: 0.3750: 100%|██████████| 24/24 [00:00<00:00, 31.60it/s]\n",
      "  0%|          | 0/210 [00:00<?, ?it/s]"
     ]
    },
    {
     "name": "stdout",
     "output_type": "stream",
     "text": [
      "\n",
      "Valid Acc = 0.375\n",
      "Valid Loss = 0.9413552184899648\n"
     ]
    },
    {
     "name": "stderr",
     "output_type": "stream",
     "text": [
      "[3/5] Loss_D: 0.3589 Acc_D: 0.5286 Loss_G_class1: 0.0110 Loss_G_class2: 0.0105: 100%|██████████| 210/210 [00:44<00:00,  4.69it/s]\n",
      "[Validating]: Acc_D: 0.3750: 100%|██████████| 24/24 [00:00<00:00, 32.80it/s]\n",
      "  0%|          | 0/210 [00:00<?, ?it/s]"
     ]
    },
    {
     "name": "stdout",
     "output_type": "stream",
     "text": [
      "\n",
      "Valid Acc = 0.375\n",
      "Valid Loss = 0.8777667731046677\n"
     ]
    },
    {
     "name": "stderr",
     "output_type": "stream",
     "text": [
      "[4/5] Loss_D: 0.3585 Acc_D: 0.5381 Loss_G_class1: 0.0106 Loss_G_class2: 0.0116: 100%|██████████| 210/210 [00:44<00:00,  4.70it/s]\n",
      "[Validating]: Acc_D: 0.3750: 100%|██████████| 24/24 [00:00<00:00, 33.10it/s]\n",
      "  0%|          | 0/210 [00:00<?, ?it/s]"
     ]
    },
    {
     "name": "stdout",
     "output_type": "stream",
     "text": [
      "\n",
      "Valid Acc = 0.375\n",
      "Valid Loss = 1.292495546862483\n",
      "EarlyStopping counter: 1 out of 10\n"
     ]
    },
    {
     "name": "stderr",
     "output_type": "stream",
     "text": [
      "[5/5] Loss_D: 0.3405 Acc_D: 0.5690 Loss_G_class1: 0.0101 Loss_G_class2: 0.0093: 100%|██████████| 210/210 [00:44<00:00,  4.72it/s]\n",
      "[Validating]: Acc_D: 0.3750: 100%|██████████| 24/24 [00:00<00:00, 32.47it/s]\n",
      "  0%|          | 0/24 [00:00<?, ?it/s]"
     ]
    },
    {
     "name": "stdout",
     "output_type": "stream",
     "text": [
      "\n",
      "Valid Acc = 0.375\n",
      "Valid Loss = 0.8533608528474966\n"
     ]
    },
    {
     "name": "stderr",
     "output_type": "stream",
     "text": [
      "[Validating]: Acc_D: 0.3750: 100%|██████████| 24/24 [00:00<00:00, 32.89it/s]\n"
     ]
    },
    {
     "name": "stdout",
     "output_type": "stream",
     "text": [
      "[INFO] Summary of training for LAMBDA = 0.05 (best model values)\n",
      "Valid Acc = 0.375\n",
      "Valid Loss = 0.8753625340759754\n",
      "Test performance client <shfl.private.federated_operation.FederatedDataNode object at 0x7fb82347dc50>: [0.6952828294352481, 0.5263157894736842, '              precision    recall  f1-score   support\\n\\n           0    1.00000   0.52632   0.68966       171\\n           1    0.00000   0.00000   0.00000         0\\n\\n    accuracy                        0.52632       171\\n   macro avg    0.50000   0.26316   0.34483       171\\nweighted avg    1.00000   0.52632   0.68966       171\\n']\n",
      "Test performance client <shfl.private.federated_operation.FederatedDataNode object at 0x7fb82347dda0>: [0.6966685321595933, 0.5263157894736842, '              precision    recall  f1-score   support\\n\\n           0    1.00000   0.52632   0.68966       171\\n           1    0.00000   0.00000   0.00000         0\\n\\n    accuracy                        0.52632       171\\n   macro avg    0.50000   0.26316   0.34483       171\\nweighted avg    1.00000   0.52632   0.68966       171\\n']\n",
      "Test performance client <shfl.private.federated_operation.FederatedDataNode object at 0x7fb82347ddd8>: [953.9269434164839, 0.47368421052631576, '              precision    recall  f1-score   support\\n\\n           0    0.00000   0.00000   0.00000         0\\n           1    1.00000   0.47368   0.64286       171\\n\\n    accuracy                        0.47368       171\\n   macro avg    0.50000   0.23684   0.32143       171\\nweighted avg    1.00000   0.47368   0.64286       171\\n']\n",
      "Global model test performance : [953.9269434164839, 0.47368421052631576, '              precision    recall  f1-score   support\\n\\n           0    0.00000   0.00000   0.00000         0\\n           1    1.00000   0.47368   0.64286       171\\n\\n    accuracy                        0.47368       171\\n   macro avg    0.50000   0.23684   0.32143       171\\nweighted avg    1.00000   0.47368   0.64286       171\\n']\n",
      "\n",
      "\n",
      "\n",
      "Accuracy round 3\n",
      "Training node 0\n",
      "[INFO] weights = [1.         0.93965517]\n",
      "[INFO] LAMBDA: 0.05\n"
     ]
    },
    {
     "name": "stderr",
     "output_type": "stream",
     "text": [
      "[Validating]: Acc_D: 0.3913: 100%|██████████| 23/23 [00:00<00:00, 27.18it/s]\n",
      "[1/5] Loss_D: 0.3815 Acc_D: 0.5000 Loss_G_class1: 0.0097 Loss_G_class2: 0.0127: 100%|██████████| 202/202 [00:42<00:00,  4.72it/s]\n",
      "[Validating]: Acc_D: 0.6087: 100%|██████████| 23/23 [00:00<00:00, 31.41it/s]\n",
      "  0%|          | 0/202 [00:00<?, ?it/s]"
     ]
    },
    {
     "name": "stdout",
     "output_type": "stream",
     "text": [
      "\n",
      "Valid Acc = 0.6086956521739131\n",
      "Valid Loss = 0.8148927772822587\n"
     ]
    },
    {
     "name": "stderr",
     "output_type": "stream",
     "text": [
      "[2/5] Loss_D: 0.3824 Acc_D: 0.5025 Loss_G_class1: 0.0106 Loss_G_class2: 0.0120: 100%|██████████| 202/202 [00:42<00:00,  4.72it/s]\n",
      "[Validating]: Acc_D: 0.6087: 100%|██████████| 23/23 [00:00<00:00, 31.39it/s]\n",
      "  0%|          | 0/202 [00:00<?, ?it/s]"
     ]
    },
    {
     "name": "stdout",
     "output_type": "stream",
     "text": [
      "\n",
      "Valid Acc = 0.6086956521739131\n",
      "Valid Loss = 0.7877958773270898\n"
     ]
    },
    {
     "name": "stderr",
     "output_type": "stream",
     "text": [
      "[3/5] Loss_D: 0.3791 Acc_D: 0.5099 Loss_G_class1: 0.0105 Loss_G_class2: 0.0111: 100%|██████████| 202/202 [00:42<00:00,  4.72it/s]\n",
      "[Validating]: Acc_D: 0.6087: 100%|██████████| 23/23 [00:00<00:00, 31.21it/s]\n",
      "  0%|          | 0/202 [00:00<?, ?it/s]"
     ]
    },
    {
     "name": "stdout",
     "output_type": "stream",
     "text": [
      "\n",
      "Valid Acc = 0.6086956521739131\n",
      "Valid Loss = 0.7859245441530062\n"
     ]
    },
    {
     "name": "stderr",
     "output_type": "stream",
     "text": [
      "[4/5] Loss_D: 0.3835 Acc_D: 0.4802 Loss_G_class1: 0.0110 Loss_G_class2: 0.0108: 100%|██████████| 202/202 [00:42<00:00,  4.71it/s]\n",
      "[Validating]: Acc_D: 0.6087: 100%|██████████| 23/23 [00:00<00:00, 31.59it/s]\n",
      "  0%|          | 0/202 [00:00<?, ?it/s]"
     ]
    },
    {
     "name": "stdout",
     "output_type": "stream",
     "text": [
      "\n",
      "Valid Acc = 0.6086956521739131\n",
      "Valid Loss = 0.7725690778182901\n"
     ]
    },
    {
     "name": "stderr",
     "output_type": "stream",
     "text": [
      "[5/5] Loss_D: 0.3691 Acc_D: 0.5025 Loss_G_class1: 0.0102 Loss_G_class2: 0.0115: 100%|██████████| 202/202 [00:42<00:00,  4.74it/s]\n",
      "[Validating]: Acc_D: 0.6087: 100%|██████████| 23/23 [00:00<00:00, 31.25it/s]\n",
      "  0%|          | 0/23 [00:00<?, ?it/s]"
     ]
    },
    {
     "name": "stdout",
     "output_type": "stream",
     "text": [
      "\n",
      "Valid Acc = 0.6086956521739131\n",
      "Valid Loss = 0.716349298539369\n"
     ]
    },
    {
     "name": "stderr",
     "output_type": "stream",
     "text": [
      "[Validating]: Acc_D: 0.6087: 100%|██████████| 23/23 [00:00<00:00, 32.76it/s]\n"
     ]
    },
    {
     "name": "stdout",
     "output_type": "stream",
     "text": [
      "[INFO] Summary of training for LAMBDA = 0.05 (best model values)\n",
      "Valid Acc = 0.6086956521739131\n",
      "Valid Loss = 0.7082570797723272\n",
      "Training node 1\n",
      "[INFO] weights = [0.83471074 1.        ]\n",
      "[INFO] LAMBDA: 0.05\n"
     ]
    },
    {
     "name": "stderr",
     "output_type": "stream",
     "text": [
      "[Validating]: Acc_D: 0.4348: 100%|██████████| 23/23 [00:00<00:00, 28.71it/s]\n",
      "[1/5] Loss_D: 0.3814 Acc_D: 0.5176 Loss_G_class1: 0.0098 Loss_G_class2: 0.0118: 100%|██████████| 199/199 [00:42<00:00,  4.71it/s]\n",
      "[Validating]: Acc_D: 0.5652: 100%|██████████| 23/23 [00:00<00:00, 30.99it/s]\n",
      "  0%|          | 0/199 [00:00<?, ?it/s]"
     ]
    },
    {
     "name": "stdout",
     "output_type": "stream",
     "text": [
      "\n",
      "Valid Acc = 0.5652173913043478\n",
      "Valid Loss = 0.7447408515474071\n"
     ]
    },
    {
     "name": "stderr",
     "output_type": "stream",
     "text": [
      "[2/5] Loss_D: 0.3736 Acc_D: 0.5000 Loss_G_class1: 0.0100 Loss_G_class2: 0.0114: 100%|██████████| 199/199 [00:42<00:00,  4.70it/s]\n",
      "[Validating]: Acc_D: 0.4348: 100%|██████████| 23/23 [00:00<00:00, 32.51it/s]\n",
      "  0%|          | 0/199 [00:00<?, ?it/s]"
     ]
    },
    {
     "name": "stdout",
     "output_type": "stream",
     "text": [
      "\n",
      "Valid Acc = 0.43478260869565216\n",
      "Valid Loss = 0.6976092457771301\n"
     ]
    },
    {
     "name": "stderr",
     "output_type": "stream",
     "text": [
      "[3/5] Loss_D: 0.3653 Acc_D: 0.4950 Loss_G_class1: 0.0096 Loss_G_class2: 0.0111: 100%|██████████| 199/199 [00:42<00:00,  4.70it/s]\n",
      "[Validating]: Acc_D: 0.4348: 100%|██████████| 23/23 [00:00<00:00, 29.76it/s]\n",
      "  0%|          | 0/199 [00:00<?, ?it/s]"
     ]
    },
    {
     "name": "stdout",
     "output_type": "stream",
     "text": [
      "\n",
      "Valid Acc = 0.43478260869565216\n",
      "Valid Loss = 0.6918028696723606\n"
     ]
    },
    {
     "name": "stderr",
     "output_type": "stream",
     "text": [
      "[4/5] Loss_D: 0.3647 Acc_D: 0.4925 Loss_G_class1: 0.0098 Loss_G_class2: 0.0106: 100%|██████████| 199/199 [00:42<00:00,  4.70it/s]\n",
      "[Validating]: Acc_D: 0.4348: 100%|██████████| 23/23 [00:00<00:00, 32.35it/s]\n",
      "  0%|          | 0/199 [00:00<?, ?it/s]"
     ]
    },
    {
     "name": "stdout",
     "output_type": "stream",
     "text": [
      "\n",
      "Valid Acc = 0.43478260869565216\n",
      "Valid Loss = 0.6985353335090305\n",
      "EarlyStopping counter: 1 out of 10\n"
     ]
    },
    {
     "name": "stderr",
     "output_type": "stream",
     "text": [
      "[5/5] Loss_D: 0.3582 Acc_D: 0.5025 Loss_G_class1: 0.0087 Loss_G_class2: 0.0101: 100%|██████████| 199/199 [00:42<00:00,  4.72it/s]\n",
      "[Validating]: Acc_D: 0.4783: 100%|██████████| 23/23 [00:00<00:00, 31.58it/s]\n",
      "  0%|          | 0/23 [00:00<?, ?it/s]"
     ]
    },
    {
     "name": "stdout",
     "output_type": "stream",
     "text": [
      "\n",
      "Valid Acc = 0.4782608695652174\n",
      "Valid Loss = 0.6878928568052209\n"
     ]
    },
    {
     "name": "stderr",
     "output_type": "stream",
     "text": [
      "[Validating]: Acc_D: 0.6087: 100%|██████████| 23/23 [00:00<00:00, 33.07it/s]\n"
     ]
    },
    {
     "name": "stdout",
     "output_type": "stream",
     "text": [
      "[INFO] Summary of training for LAMBDA = 0.05 (best model values)\n",
      "Valid Acc = 0.6086956521739131\n",
      "Valid Loss = 0.7261783325153849\n",
      "Training node 2\n",
      "[INFO] weights = [1.       0.828125]\n",
      "[INFO] LAMBDA: 0.05\n"
     ]
    },
    {
     "name": "stderr",
     "output_type": "stream",
     "text": [
      "[Validating]: Acc_D: 0.4167: 100%|██████████| 24/24 [00:00<00:00, 27.91it/s]\n",
      "[1/5] Loss_D: 0.4002 Acc_D: 0.5167 Loss_G_class1: 0.0127 Loss_G_class2: 0.0117: 100%|██████████| 210/210 [00:44<00:00,  4.70it/s]\n",
      "[Validating]: Acc_D: 0.4167: 100%|██████████| 24/24 [00:00<00:00, 32.61it/s]\n"
     ]
    },
    {
     "name": "stdout",
     "output_type": "stream",
     "text": [
      "\n",
      "Valid Acc = 0.4166666666666667\n",
      "Valid Loss = 0.780303260932366\n"
     ]
    },
    {
     "name": "stderr",
     "output_type": "stream",
     "text": [
      "[2/5] Loss_D: 0.3736 Acc_D: 0.5167 Loss_G_class1: 0.0112 Loss_G_class2: 0.0099: 100%|██████████| 210/210 [00:44<00:00,  4.71it/s]\n",
      "[Validating]: Acc_D: 0.4167: 100%|██████████| 24/24 [00:00<00:00, 32.08it/s]\n",
      "  0%|          | 0/210 [00:00<?, ?it/s]"
     ]
    },
    {
     "name": "stdout",
     "output_type": "stream",
     "text": [
      "\n",
      "Valid Acc = 0.4166666666666667\n",
      "Valid Loss = 0.8871680510540804\n",
      "EarlyStopping counter: 1 out of 10\n"
     ]
    },
    {
     "name": "stderr",
     "output_type": "stream",
     "text": [
      "[3/5] Loss_D: 0.3727 Acc_D: 0.5357 Loss_G_class1: 0.0115 Loss_G_class2: 0.0101: 100%|██████████| 210/210 [00:44<00:00,  4.72it/s]\n",
      "[Validating]: Acc_D: 0.4167: 100%|██████████| 24/24 [00:02<00:00, 11.66it/s]\n",
      "  0%|          | 0/210 [00:00<?, ?it/s]"
     ]
    },
    {
     "name": "stdout",
     "output_type": "stream",
     "text": [
      "\n",
      "Valid Acc = 0.4166666666666667\n",
      "Valid Loss = 0.7144350335001945\n"
     ]
    },
    {
     "name": "stderr",
     "output_type": "stream",
     "text": [
      "[4/5] Loss_D: 0.3696 Acc_D: 0.5143 Loss_G_class1: 0.0118 Loss_G_class2: 0.0113: 100%|██████████| 210/210 [00:44<00:00,  4.72it/s]\n",
      "[Validating]: Acc_D: 0.4167: 100%|██████████| 24/24 [00:00<00:00, 32.08it/s]\n",
      "  0%|          | 0/210 [00:00<?, ?it/s]"
     ]
    },
    {
     "name": "stdout",
     "output_type": "stream",
     "text": [
      "\n",
      "Valid Acc = 0.4166666666666667\n",
      "Valid Loss = 0.7511193566024303\n",
      "EarlyStopping counter: 1 out of 10\n"
     ]
    },
    {
     "name": "stderr",
     "output_type": "stream",
     "text": [
      "[5/5] Loss_D: 0.3715 Acc_D: 0.5214 Loss_G_class1: 0.0113 Loss_G_class2: 0.0097: 100%|██████████| 210/210 [00:44<00:00,  4.72it/s]\n",
      "[Validating]: Acc_D: 0.4167: 100%|██████████| 24/24 [00:00<00:00, 27.46it/s]\n",
      "  0%|          | 0/24 [00:00<?, ?it/s]"
     ]
    },
    {
     "name": "stdout",
     "output_type": "stream",
     "text": [
      "\n",
      "Valid Acc = 0.4166666666666667\n",
      "Valid Loss = 0.8289749883115292\n",
      "EarlyStopping counter: 2 out of 10\n"
     ]
    },
    {
     "name": "stderr",
     "output_type": "stream",
     "text": [
      "[Validating]: Acc_D: 0.4167: 100%|██████████| 24/24 [00:00<00:00, 31.01it/s]\n"
     ]
    },
    {
     "name": "stdout",
     "output_type": "stream",
     "text": [
      "[INFO] Summary of training for LAMBDA = 0.05 (best model values)\n",
      "Valid Acc = 0.4166666666666667\n",
      "Valid Loss = 0.825839934249719\n",
      "Test performance client <shfl.private.federated_operation.FederatedDataNode object at 0x7fb82347dc50>: [0.9068920597085479, 0.47368421052631576, '              precision    recall  f1-score   support\\n\\n           0    0.00000   0.00000   0.00000         0\\n           1    1.00000   0.47368   0.64286       171\\n\\n    accuracy                        0.47368       171\\n   macro avg    0.50000   0.23684   0.32143       171\\nweighted avg    1.00000   0.47368   0.64286       171\\n']\n",
      "Test performance client <shfl.private.federated_operation.FederatedDataNode object at 0x7fb82347dda0>: [0.6966685321595933, 0.5263157894736842, '              precision    recall  f1-score   support\\n\\n           0    1.00000   0.52632   0.68966       171\\n           1    0.00000   0.00000   0.00000         0\\n\\n    accuracy                        0.52632       171\\n   macro avg    0.50000   0.26316   0.34483       171\\nweighted avg    1.00000   0.52632   0.68966       171\\n']\n",
      "Test performance client <shfl.private.federated_operation.FederatedDataNode object at 0x7fb82347ddd8>: [953.9269434164839, 0.47368421052631576, '              precision    recall  f1-score   support\\n\\n           0    0.00000   0.00000   0.00000         0\\n           1    1.00000   0.47368   0.64286       171\\n\\n    accuracy                        0.47368       171\\n   macro avg    0.50000   0.23684   0.32143       171\\nweighted avg    1.00000   0.47368   0.64286       171\\n']\n",
      "Global model test performance : [9461.69487276133, 0.47368421052631576, '              precision    recall  f1-score   support\\n\\n           0    0.00000   0.00000   0.00000         0\\n           1    1.00000   0.47368   0.64286       171\\n\\n    accuracy                        0.47368       171\\n   macro avg    0.50000   0.23684   0.32143       171\\nweighted avg    1.00000   0.47368   0.64286       171\\n']\n",
      "\n",
      "\n",
      "\n",
      "Accuracy round 4\n",
      "Training node 0\n",
      "[INFO] weights = [1.         0.93965517]\n",
      "[INFO] LAMBDA: 0.05\n"
     ]
    },
    {
     "name": "stderr",
     "output_type": "stream",
     "text": [
      "[Validating]: Acc_D: 0.3478: 100%|██████████| 23/23 [00:00<00:00, 28.69it/s]\n",
      "[1/5] Loss_D: 0.3645 Acc_D: 0.5347 Loss_G_class1: 0.0115 Loss_G_class2: 0.0099: 100%|██████████| 202/202 [00:42<00:00,  4.71it/s]\n",
      "[Validating]: Acc_D: 0.4783: 100%|██████████| 23/23 [00:00<00:00, 31.28it/s]\n",
      "  0%|          | 0/202 [00:00<?, ?it/s]"
     ]
    },
    {
     "name": "stdout",
     "output_type": "stream",
     "text": [
      "\n",
      "Valid Acc = 0.4782608695652174\n",
      "Valid Loss = 0.6923258071360381\n"
     ]
    },
    {
     "name": "stderr",
     "output_type": "stream",
     "text": [
      "[2/5] Loss_D: 0.3667 Acc_D: 0.4703 Loss_G_class1: 0.0099 Loss_G_class2: 0.0096: 100%|██████████| 202/202 [00:43<00:00,  4.68it/s]\n",
      "[Validating]: Acc_D: 0.3478: 100%|██████████| 23/23 [00:00<00:00, 31.71it/s]\n",
      "  0%|          | 0/202 [00:00<?, ?it/s]"
     ]
    },
    {
     "name": "stdout",
     "output_type": "stream",
     "text": [
      "\n",
      "Valid Acc = 0.34782608695652173\n",
      "Valid Loss = 0.6989305071208788\n",
      "EarlyStopping counter: 1 out of 10\n"
     ]
    },
    {
     "name": "stderr",
     "output_type": "stream",
     "text": [
      "[3/5] Loss_D: 0.3641 Acc_D: 0.4579 Loss_G_class1: 0.0099 Loss_G_class2: 0.0093: 100%|██████████| 202/202 [00:43<00:00,  4.66it/s]\n",
      "[Validating]: Acc_D: 0.3913: 100%|██████████| 23/23 [00:00<00:00, 31.27it/s]\n",
      "  0%|          | 0/202 [00:00<?, ?it/s]"
     ]
    },
    {
     "name": "stdout",
     "output_type": "stream",
     "text": [
      "\n",
      "Valid Acc = 0.391304347826087\n",
      "Valid Loss = 0.6972201233324797\n",
      "EarlyStopping counter: 2 out of 10\n"
     ]
    },
    {
     "name": "stderr",
     "output_type": "stream",
     "text": [
      "[4/5] Loss_D: 0.3657 Acc_D: 0.4678 Loss_G_class1: 0.0123 Loss_G_class2: 0.0095: 100%|██████████| 202/202 [00:42<00:00,  4.71it/s]\n",
      "[Validating]: Acc_D: 0.3478: 100%|██████████| 23/23 [00:00<00:00, 32.03it/s]\n",
      "  0%|          | 0/202 [00:00<?, ?it/s]"
     ]
    },
    {
     "name": "stdout",
     "output_type": "stream",
     "text": [
      "\n",
      "Valid Acc = 0.34782608695652173\n",
      "Valid Loss = 0.6931709284367769\n",
      "EarlyStopping counter: 3 out of 10\n"
     ]
    },
    {
     "name": "stderr",
     "output_type": "stream",
     "text": [
      "[5/5] Loss_D: 0.3619 Acc_D: 0.5000 Loss_G_class1: 0.0102 Loss_G_class2: 0.0095: 100%|██████████| 202/202 [00:43<00:00,  4.70it/s]\n",
      "[Validating]: Acc_D: 0.4783: 100%|██████████| 23/23 [00:00<00:00, 32.15it/s]\n",
      "  0%|          | 0/23 [00:00<?, ?it/s]"
     ]
    },
    {
     "name": "stdout",
     "output_type": "stream",
     "text": [
      "\n",
      "Valid Acc = 0.4782608695652174\n",
      "Valid Loss = 0.6812130731085072\n"
     ]
    },
    {
     "name": "stderr",
     "output_type": "stream",
     "text": [
      "[Validating]: Acc_D: 0.3913: 100%|██████████| 23/23 [00:00<00:00, 32.32it/s]\n"
     ]
    },
    {
     "name": "stdout",
     "output_type": "stream",
     "text": [
      "[INFO] Summary of training for LAMBDA = 0.05 (best model values)\n",
      "Valid Acc = 0.391304347826087\n",
      "Valid Loss = 0.6851714823556982\n",
      "Training node 1\n",
      "[INFO] weights = [0.83471074 1.        ]\n",
      "[INFO] LAMBDA: 0.05\n"
     ]
    },
    {
     "name": "stderr",
     "output_type": "stream",
     "text": [
      "[Validating]: Acc_D: 0.6087: 100%|██████████| 23/23 [00:00<00:00, 29.60it/s]\n",
      "[1/5] Loss_D: 0.3838 Acc_D: 0.4950 Loss_G_class1: 0.0101 Loss_G_class2: 0.0110: 100%|██████████| 199/199 [00:42<00:00,  4.66it/s]\n",
      "[Validating]: Acc_D: 0.4348: 100%|██████████| 23/23 [00:00<00:00, 30.51it/s]\n",
      "  0%|          | 0/199 [00:00<?, ?it/s]"
     ]
    },
    {
     "name": "stdout",
     "output_type": "stream",
     "text": [
      "\n",
      "Valid Acc = 0.43478260869565216\n",
      "Valid Loss = 0.6933594294216322\n"
     ]
    },
    {
     "name": "stderr",
     "output_type": "stream",
     "text": [
      "[2/5] Loss_D: 0.3803 Acc_D: 0.5126 Loss_G_class1: 0.0095 Loss_G_class2: 0.0113: 100%|██████████| 199/199 [00:42<00:00,  4.72it/s]\n",
      "[Validating]: Acc_D: 0.3913: 100%|██████████| 23/23 [00:02<00:00, 11.40it/s]\n",
      "  0%|          | 0/199 [00:00<?, ?it/s]"
     ]
    },
    {
     "name": "stdout",
     "output_type": "stream",
     "text": [
      "\n",
      "Valid Acc = 0.391304347826087\n",
      "Valid Loss = 0.7118099979732347\n",
      "EarlyStopping counter: 1 out of 10\n"
     ]
    },
    {
     "name": "stderr",
     "output_type": "stream",
     "text": [
      "[3/5] Loss_D: 0.3710 Acc_D: 0.5050 Loss_G_class1: 0.0090 Loss_G_class2: 0.0105: 100%|██████████| 199/199 [00:41<00:00,  4.75it/s]\n",
      "[Validating]: Acc_D: 0.3913: 100%|██████████| 23/23 [00:02<00:00,  7.94it/s]\n",
      "  0%|          | 0/199 [00:00<?, ?it/s]"
     ]
    },
    {
     "name": "stdout",
     "output_type": "stream",
     "text": [
      "\n",
      "Valid Acc = 0.391304347826087\n",
      "Valid Loss = 0.718346313289974\n",
      "EarlyStopping counter: 2 out of 10\n"
     ]
    },
    {
     "name": "stderr",
     "output_type": "stream",
     "text": [
      "[4/5] Loss_D: 0.3692 Acc_D: 0.5050 Loss_G_class1: 0.0094 Loss_G_class2: 0.0113: 100%|██████████| 199/199 [00:42<00:00,  4.73it/s]\n",
      "[Validating]: Acc_D: 0.3913: 100%|██████████| 23/23 [00:00<00:00, 32.42it/s]\n",
      "  0%|          | 0/199 [00:00<?, ?it/s]"
     ]
    },
    {
     "name": "stdout",
     "output_type": "stream",
     "text": [
      "\n",
      "Valid Acc = 0.391304347826087\n",
      "Valid Loss = 0.7247794814731764\n",
      "EarlyStopping counter: 3 out of 10\n"
     ]
    },
    {
     "name": "stderr",
     "output_type": "stream",
     "text": [
      "[5/5] Loss_D: 0.3678 Acc_D: 0.5050 Loss_G_class1: 0.0102 Loss_G_class2: 0.0113: 100%|██████████| 199/199 [00:42<00:00,  4.68it/s]\n",
      "[Validating]: Acc_D: 0.3913: 100%|██████████| 23/23 [00:00<00:00, 28.85it/s]\n",
      "  0%|          | 0/23 [00:00<?, ?it/s]"
     ]
    },
    {
     "name": "stdout",
     "output_type": "stream",
     "text": [
      "\n",
      "Valid Acc = 0.391304347826087\n",
      "Valid Loss = 0.7209710919338724\n",
      "EarlyStopping counter: 4 out of 10\n"
     ]
    },
    {
     "name": "stderr",
     "output_type": "stream",
     "text": [
      "[Validating]: Acc_D: 0.6087: 100%|██████████| 23/23 [00:00<00:00, 31.22it/s]\n"
     ]
    },
    {
     "name": "stdout",
     "output_type": "stream",
     "text": [
      "[INFO] Summary of training for LAMBDA = 0.05 (best model values)\n",
      "Valid Acc = 0.6086956521739131\n",
      "Valid Loss = 2.127423071342966\n",
      "Training node 2\n",
      "[INFO] weights = [1.       0.828125]\n",
      "[INFO] LAMBDA: 0.05\n"
     ]
    },
    {
     "name": "stderr",
     "output_type": "stream",
     "text": [
      "[Validating]: Acc_D: 0.5417: 100%|██████████| 24/24 [00:00<00:00, 30.89it/s]\n",
      "[1/5] Loss_D: 0.3780 Acc_D: 0.5548 Loss_G_class1: 0.0106 Loss_G_class2: 0.0103: 100%|██████████| 210/210 [00:44<00:00,  4.69it/s]\n",
      "[Validating]: Acc_D: 0.5000: 100%|██████████| 24/24 [00:00<00:00, 32.36it/s]\n",
      "  0%|          | 0/210 [00:00<?, ?it/s]"
     ]
    },
    {
     "name": "stdout",
     "output_type": "stream",
     "text": [
      "\n",
      "Valid Acc = 0.5\n",
      "Valid Loss = 0.7785367468992869\n"
     ]
    },
    {
     "name": "stderr",
     "output_type": "stream",
     "text": [
      "[2/5] Loss_D: 0.3598 Acc_D: 0.5643 Loss_G_class1: 0.0099 Loss_G_class2: 0.0095: 100%|██████████| 210/210 [00:44<00:00,  4.68it/s]\n",
      "[Validating]: Acc_D: 0.6250: 100%|██████████| 24/24 [00:00<00:00, 31.78it/s]\n",
      "  0%|          | 0/210 [00:00<?, ?it/s]"
     ]
    },
    {
     "name": "stdout",
     "output_type": "stream",
     "text": [
      "\n",
      "Valid Acc = 0.625\n",
      "Valid Loss = 0.7796268338958422\n",
      "EarlyStopping counter: 1 out of 10\n"
     ]
    },
    {
     "name": "stderr",
     "output_type": "stream",
     "text": [
      "[3/5] Loss_D: 0.3509 Acc_D: 0.5952 Loss_G_class1: 0.0101 Loss_G_class2: 0.0096: 100%|██████████| 210/210 [00:44<00:00,  4.69it/s]\n",
      "[Validating]: Acc_D: 0.5000: 100%|██████████| 24/24 [00:00<00:00, 31.88it/s]\n",
      "  0%|          | 0/210 [00:00<?, ?it/s]"
     ]
    },
    {
     "name": "stdout",
     "output_type": "stream",
     "text": [
      "\n",
      "Valid Acc = 0.5\n",
      "Valid Loss = 0.707779735326767\n"
     ]
    },
    {
     "name": "stderr",
     "output_type": "stream",
     "text": [
      "[4/5] Loss_D: 0.3483 Acc_D: 0.5690 Loss_G_class1: 0.0100 Loss_G_class2: 0.0099: 100%|██████████| 210/210 [00:44<00:00,  4.67it/s]\n",
      "[Validating]: Acc_D: 0.5000: 100%|██████████| 24/24 [00:00<00:00, 32.25it/s]\n",
      "  0%|          | 0/210 [00:00<?, ?it/s]"
     ]
    },
    {
     "name": "stdout",
     "output_type": "stream",
     "text": [
      "\n",
      "Valid Acc = 0.5\n",
      "Valid Loss = 0.7344953368107477\n",
      "EarlyStopping counter: 1 out of 10\n"
     ]
    },
    {
     "name": "stderr",
     "output_type": "stream",
     "text": [
      "[5/5] Loss_D: 0.3433 Acc_D: 0.5762 Loss_G_class1: 0.0120 Loss_G_class2: 0.0100: 100%|██████████| 210/210 [00:45<00:00,  4.66it/s]\n",
      "[Validating]: Acc_D: 0.5417: 100%|██████████| 24/24 [00:00<00:00, 30.09it/s]\n",
      "  0%|          | 0/24 [00:00<?, ?it/s]"
     ]
    },
    {
     "name": "stdout",
     "output_type": "stream",
     "text": [
      "\n",
      "Valid Acc = 0.5416666666666666\n",
      "Valid Loss = 0.696203609307607\n"
     ]
    },
    {
     "name": "stderr",
     "output_type": "stream",
     "text": [
      "[Validating]: Acc_D: 0.5417: 100%|██████████| 24/24 [00:00<00:00, 32.76it/s]"
     ]
    },
    {
     "name": "stdout",
     "output_type": "stream",
     "text": [
      "[INFO] Summary of training for LAMBDA = 0.05 (best model values)\n",
      "Valid Acc = 0.5416666666666666\n",
      "Valid Loss = 0.7628702881435553\n"
     ]
    },
    {
     "name": "stderr",
     "output_type": "stream",
     "text": [
      "\n"
     ]
    },
    {
     "name": "stdout",
     "output_type": "stream",
     "text": [
      "Test performance client <shfl.private.federated_operation.FederatedDataNode object at 0x7fb82347dc50>: [0.6986566307949044, 0.47368421052631576, '              precision    recall  f1-score   support\\n\\n           0    0.00000   0.00000   0.00000         0\\n           1    1.00000   0.47368   0.64286       171\\n\\n    accuracy                        0.47368       171\\n   macro avg    0.50000   0.23684   0.32143       171\\nweighted avg    1.00000   0.47368   0.64286       171\\n']\n",
      "Test performance client <shfl.private.federated_operation.FederatedDataNode object at 0x7fb82347dda0>: [3.0827595493946855, 0.47368421052631576, '              precision    recall  f1-score   support\\n\\n           0    0.00000   0.00000   0.00000         0\\n           1    1.00000   0.47368   0.64286       171\\n\\n    accuracy                        0.47368       171\\n   macro avg    0.50000   0.23684   0.32143       171\\nweighted avg    1.00000   0.47368   0.64286       171\\n']\n",
      "Test performance client <shfl.private.federated_operation.FederatedDataNode object at 0x7fb82347ddd8>: [9461.69487276133, 0.47368421052631576, '              precision    recall  f1-score   support\\n\\n           0    0.00000   0.00000   0.00000         0\\n           1    1.00000   0.47368   0.64286       171\\n\\n    accuracy                        0.47368       171\\n   macro avg    0.50000   0.23684   0.32143       171\\nweighted avg    1.00000   0.47368   0.64286       171\\n']\n",
      "Global model test performance : [9461.69487276133, 0.47368421052631576, '              precision    recall  f1-score   support\\n\\n           0    0.00000   0.00000   0.00000         0\\n           1    1.00000   0.47368   0.64286       171\\n\\n    accuracy                        0.47368       171\\n   macro avg    0.50000   0.23684   0.32143       171\\nweighted avg    1.00000   0.47368   0.64286       171\\n']\n",
      "\n",
      "\n",
      "\n",
      "Accuracy round 5\n",
      "Training node 0\n",
      "[INFO] weights = [1.         0.93965517]\n",
      "[INFO] LAMBDA: 0.05\n"
     ]
    },
    {
     "name": "stderr",
     "output_type": "stream",
     "text": [
      "[Validating]: Acc_D: 0.4783: 100%|██████████| 23/23 [00:00<00:00, 27.48it/s]\n",
      "[1/5] Loss_D: 0.3627 Acc_D: 0.5569 Loss_G_class1: 0.0101 Loss_G_class2: 0.0098: 100%|██████████| 202/202 [00:43<00:00,  4.60it/s]\n",
      "[Validating]: Acc_D: 0.4783: 100%|██████████| 23/23 [00:00<00:00, 32.17it/s]\n",
      "  0%|          | 0/202 [00:00<?, ?it/s]"
     ]
    },
    {
     "name": "stdout",
     "output_type": "stream",
     "text": [
      "\n",
      "Valid Acc = 0.4782608695652174\n",
      "Valid Loss = 0.7348755623983301\n"
     ]
    },
    {
     "name": "stderr",
     "output_type": "stream",
     "text": [
      "[2/5] Loss_D: 0.3659 Acc_D: 0.5248 Loss_G_class1: 0.0105 Loss_G_class2: 0.0099: 100%|██████████| 202/202 [01:31<00:00,  2.21it/s]\n",
      "[Validating]: Acc_D: 0.4783: 100%|██████████| 23/23 [00:01<00:00, 18.00it/s]\n",
      "  0%|          | 0/202 [00:00<?, ?it/s]"
     ]
    },
    {
     "name": "stdout",
     "output_type": "stream",
     "text": [
      "\n",
      "Valid Acc = 0.4782608695652174\n",
      "Valid Loss = 0.7144710577052572\n"
     ]
    },
    {
     "name": "stderr",
     "output_type": "stream",
     "text": [
      "[3/5] Loss_D: 0.3577 Acc_D: 0.5520 Loss_G_class1: 0.0099 Loss_G_class2: 0.0103: 100%|██████████| 202/202 [01:46<00:00,  1.90it/s]\n",
      "[Validating]: Acc_D: 0.4783: 100%|██████████| 23/23 [00:01<00:00, 17.52it/s]\n",
      "  0%|          | 0/202 [00:00<?, ?it/s]"
     ]
    },
    {
     "name": "stdout",
     "output_type": "stream",
     "text": [
      "\n",
      "Valid Acc = 0.4782608695652174\n",
      "Valid Loss = 0.7500765284766322\n",
      "EarlyStopping counter: 1 out of 10\n"
     ]
    },
    {
     "name": "stderr",
     "output_type": "stream",
     "text": [
      "[4/5] Loss_D: 0.3592 Acc_D: 0.5371 Loss_G_class1: 0.0100 Loss_G_class2: 0.0094: 100%|██████████| 202/202 [01:47<00:00,  1.88it/s]\n",
      "[Validating]: Acc_D: 0.4783: 100%|██████████| 23/23 [00:01<00:00, 17.52it/s]\n",
      "  0%|          | 0/202 [00:00<?, ?it/s]"
     ]
    },
    {
     "name": "stdout",
     "output_type": "stream",
     "text": [
      "\n",
      "Valid Acc = 0.4782608695652174\n",
      "Valid Loss = 0.7572447437307109\n",
      "EarlyStopping counter: 2 out of 10\n"
     ]
    },
    {
     "name": "stderr",
     "output_type": "stream",
     "text": [
      "[5/5] Loss_D: 0.3716 Acc_D: 0.4844 Loss_G_class1: 0.0099 Loss_G_class2: 0.0103:  16%|█▌        | 32/202 [00:17<01:29,  1.91it/s]"
     ]
    }
   ],
   "source": [
    "aggregator = shfl.federated_aggregator.FedAvgAggregator()\n",
    "cit_federated_government = shfl.federated_government.FederatedGovernment(cit_builder, federated_data, aggregator)\n",
    "cit_federated_government.run_rounds(args[\"federated_rounds\"], test_data, test_label)"
   ]
  },
  {
   "cell_type": "code",
   "execution_count": null,
   "metadata": {},
   "outputs": [],
   "source": [
    "metrics = cit_federated_government.global_model.evaluate(test_data, test_label)\n",
    "print(\"CIT Classifier Results:\")\n",
    "print(\"Loss: {}\".format(metrics[0]))\n",
    "print(\"Acc: {}\".format(metrics[1]))\n",
    "print(metrics[2])"
   ]
  },
  {
   "cell_type": "code",
   "execution_count": null,
   "metadata": {},
   "outputs": [],
   "source": [
    "t_federated_data = get_transformed_data(federated_data, cit_federated_government, lb1, lb2)"
   ]
  },
  {
   "cell_type": "code",
   "execution_count": null,
   "metadata": {},
   "outputs": [],
   "source": [
    "aggregator = shfl.federated_aggregator.FedAvgAggregator()\n",
    "G_dict = cit_federated_government.global_model._G_dict\n",
    "x = lambda : classifier_builder(G_dict)\n",
    "classifier_federated_government = shfl.federated_government.FederatedGovernment(x, t_federated_data, aggregator)\n",
    "#classifier_federated_government = FederatedGovernment_2(classifier_builder(G_dict), t_federated_data, aggregator)\n",
    "classifier_federated_government.run_rounds(args[\"federated_rounds\"], test_data, test_label)\n",
    "\n",
    "#print(\"[INFO] saving model ...\")\n",
    "#federated_government.global_model._model.save( os.path.join(args[\"output_path\"], args[\"model_name\"]) )\n",
    "print(\"[INFO] done\")"
   ]
  },
  {
   "cell_type": "code",
   "execution_count": null,
   "metadata": {},
   "outputs": [],
   "source": [
    "metrics = classifier_federated_government.global_model.evaluate(test_data, test_label)\n",
    "print(\"SDNET Classifier Results:\")\n",
    "print(\"Acc: {}\".format(metrics[0]))\n",
    "print(\"Acc_4: {}\".format(metrics[1]))\n",
    "print(\"No concuerda: {}\".format(metrics[2]))\n",
    "print(metrics[3])"
   ]
  },
  {
   "cell_type": "code",
   "execution_count": null,
   "metadata": {},
   "outputs": [],
   "source": []
  }
 ],
 "metadata": {
  "kernelspec": {
   "display_name": "Python 3",
   "language": "python",
   "name": "python3"
  },
  "language_info": {
   "codemirror_mode": {
    "name": "ipython",
    "version": 3
   },
   "file_extension": ".py",
   "mimetype": "text/x-python",
   "name": "python",
   "nbconvert_exporter": "python",
   "pygments_lexer": "ipython3",
   "version": "3.6.10"
  }
 },
 "nbformat": 4,
 "nbformat_minor": 4
}
