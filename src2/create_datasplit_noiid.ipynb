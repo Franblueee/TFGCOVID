{
 "cells": [
  {
   "cell_type": "code",
   "execution_count": 3,
   "metadata": {},
   "outputs": [],
   "source": [
    "import numpy as np\n",
    "import os\n",
    "from imutils import paths\n",
    "import csv\n",
    "import copy\n",
    "from utils import *"
   ]
  },
  {
   "cell_type": "code",
   "execution_count": 4,
   "metadata": {
    "tags": []
   },
   "outputs": [
    {
     "output_type": "execute_result",
     "data": {
      "text/plain": [
       "'\\nfor k in puntos_rale_dict.keys():\\n    print(str(k) + \": \" + str( len(puntos_rale_dict[k]) ) )\\nfor k in demograf_dict.keys():\\n    print(str(k) + \": \" + str( len(demograf_dict[k]) ) )\\n'"
      ]
     },
     "metadata": {},
     "execution_count": 4
    }
   ],
   "source": [
    "metadata_file = \"../data/Metadatos.csv\"\n",
    "#data_path = \"../data/COVIDGR1.0-Segmentadas\"\n",
    "data_path = \"../data/Revisadas-Clasificadas\"\n",
    "\n",
    "hospital_dict = get_hospital_dict(data_path, metadata_file)\n",
    "niveles_rale_dict, puntos_rale_dict = get_rale_dict(data_path, metadata_file)\n",
    "demograf_dict = get_demograf_dict(data_path, metadata_file)\n",
    "\n",
    "\"\"\"\n",
    "for k in puntos_rale_dict.keys():\n",
    "    print(str(k) + \": \" + str( len(puntos_rale_dict[k]) ) )\n",
    "for k in demograf_dict.keys():\n",
    "    print(str(k) + \": \" + str( len(demograf_dict[k]) ) )\n",
    "\"\"\""
   ]
  },
  {
   "cell_type": "code",
   "execution_count": 11,
   "metadata": {},
   "outputs": [
    {
     "output_type": "stream",
     "name": "stdout",
     "text": [
      "Hombres<=50 N: 112 P: 60\nMujeres<=50 N: 166 P: 62\nHombres(50,65] N: 46 P: 89\nMujeres(50,65] N: 79 P: 69\nHombres>65 N: 57 P: 101\nMujeres>65 N: 30 P: 69\nSan Cecilio N: 449 P: 334\nMOTRIL N: 29 P: 68\nELCHE N: 8 P: 24\nBAZA N: 2 P: 19\n"
     ]
    }
   ],
   "source": [
    "def get_neg_pos(image_paths):\n",
    "    neg = 0\n",
    "    pos = 0\n",
    "    for img in image_paths:\n",
    "        label = img.split(os.sep)[-2]\n",
    "        if label == 'N':\n",
    "            neg = neg + 1\n",
    "        else:\n",
    "            pos = pos + 1\n",
    "    \n",
    "    return neg, pos\n",
    "\n",
    "for k in [\"San Cecilio\", \"MOTRIL\", \"ELCHE\", \"BAZA\"]:\n",
    "    image_paths = hospital_dict[k]\n",
    "    neg, pos = get_neg_pos(image_paths)\n",
    "    print(k + \" N: \" + str(neg) + \" P: \" + str(pos))"
   ]
  },
  {
   "cell_type": "code",
   "execution_count": 7,
   "metadata": {
    "tags": []
   },
   "outputs": [
    {
     "output_type": "stream",
     "name": "stdout",
     "text": [
      "0 N: 357 P: 269\n1 N: 21 P: 56\n2 N: 6 P: 19\n3 N: 1 P: 15\n"
     ]
    }
   ],
   "source": [
    "np.random.seed(1)\n",
    "federated_data, test_data = federate_data_hospital(hospital_dict)\n",
    "\n",
    "for i in range(len(federated_data)):\n",
    "    image_paths = federated_data[i]\n",
    "    neg, pos = get_neg_pos(image_paths)\n",
    "    print(str(i) + \" N: \" + str(neg) + \" P: \" + str(pos))\n",
    "\n",
    "csv_file_path = \"../partitions/partition_noniid_hospital.csv\"\n",
    "#write_csv_file(federated_data, test_data, csv_file_path)"
   ]
  },
  {
   "cell_type": "code",
   "execution_count": 8,
   "metadata": {},
   "outputs": [
    {
     "output_type": "stream",
     "name": "stdout",
     "text": [
      "0 N: 54 P: 66\n1 N: 123 P: 81\n2 N: 143 P: 149\n3 N: 64 P: 70\n"
     ]
    }
   ],
   "source": [
    "federated_data, test_data = federate_data_nivelesrale(niveles_rale_dict)\n",
    "\n",
    "for i in range(len(federated_data)):\n",
    "    image_paths = federated_data[i]\n",
    "    neg, pos = get_neg_pos(image_paths)\n",
    "    print(str(i) + \" N: \" + str(neg) + \" P: \" + str(pos))\n",
    "\n",
    "csv_file_path = \"../partitions/partition_noniid_nivelesrale_1.csv\"\n",
    "#write_csv_file(federated_data, test_data, csv_file_path)"
   ]
  },
  {
   "cell_type": "code",
   "execution_count": 9,
   "metadata": {},
   "outputs": [
    {
     "output_type": "stream",
     "name": "stdout",
     "text": [
      "0 N: 56 P: 65\n1 N: 56 P: 39\n2 N: 68 P: 40\n3 N: 52 P: 57\n4 N: 42 P: 40\n5 N: 47 P: 51\n6 N: 36 P: 38\n7 N: 16 P: 21\n8 N: 11 P: 13\n"
     ]
    }
   ],
   "source": [
    "federated_data, test_data = federate_data_puntosrale(puntos_rale_dict)\n",
    "\n",
    "for i in range(len(federated_data)):\n",
    "    image_paths = federated_data[i]\n",
    "    neg, pos = get_neg_pos(image_paths)\n",
    "    print(str(i) + \" N: \" + str(neg) + \" P: \" + str(pos))\n",
    "\n",
    "csv_file_path = \"../partitions/partition_noniid_puntosrale_1.csv\"\n",
    "#write_csv_file(federated_data, test_data, csv_file_path)"
   ]
  },
  {
   "cell_type": "code",
   "execution_count": 12,
   "metadata": {},
   "outputs": [
    {
     "output_type": "stream",
     "name": "stdout",
     "text": [
      "0 N: 87 P: 50\n1 N: 131 P: 51\n2 N: 37 P: 71\n3 N: 64 P: 54\n4 N: 44 P: 82\n5 N: 25 P: 54\n"
     ]
    }
   ],
   "source": [
    "federated_data, test_data = federate_data_demograf(demograf_dict)\n",
    "\n",
    "for i in range(len(federated_data)):\n",
    "    image_paths = federated_data[i]\n",
    "    neg, pos = get_neg_pos(image_paths)\n",
    "    print(str(i) + \" N: \" + str(neg) + \" P: \" + str(pos))\n",
    "\n",
    "csv_file_path = \"../partitions/partition_noniid_demograf_1.csv\"\n",
    "#write_csv_file(federated_data, test_data, csv_file_path)"
   ]
  },
  {
   "cell_type": "code",
   "execution_count": null,
   "metadata": {},
   "outputs": [],
   "source": []
  }
 ],
 "metadata": {
  "kernelspec": {
   "display_name": "Python 3",
   "language": "python",
   "name": "python3"
  },
  "language_info": {
   "codemirror_mode": {
    "name": "ipython",
    "version": 3
   },
   "file_extension": ".py",
   "mimetype": "text/x-python",
   "name": "python",
   "nbconvert_exporter": "python",
   "pygments_lexer": "ipython3",
   "version": "3.6.10-final"
  }
 },
 "nbformat": 4,
 "nbformat_minor": 5
}