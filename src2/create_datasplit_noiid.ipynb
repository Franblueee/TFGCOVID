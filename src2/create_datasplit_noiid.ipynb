{
 "cells": [
  {
   "cell_type": "code",
   "execution_count": 28,
   "metadata": {},
   "outputs": [],
   "source": [
    "import numpy as np\n",
    "import os\n",
    "from imutils import paths\n",
    "import csv\n",
    "import copy\n",
    "from utils import get_hospital_dict, get_rale_dict, get_demograf_dict, shuffle, write_csv_file"
   ]
  },
  {
   "cell_type": "code",
   "execution_count": 39,
   "metadata": {
    "tags": []
   },
   "outputs": [],
   "source": [
    "metadata_file = \"../data/Metadatos.csv\"\n",
    "#data_path = \"../data/COVIDGR1.0-Segmentadas\"\n",
    "data_path = \"../data/Revisadas-Clasificadas\"\n",
    "\n",
    "hospital_dict = get_hospital_dict(data_path, metadata_file)\n",
    "niveles_rale_dict, puntos_rale_dict = get_rale_dict(data_path, metadata_file)\n",
    "demograf_dict = get_demograf_dict(data_path, metadata_file)"
   ]
  },
  {
   "cell_type": "code",
   "execution_count": 16,
   "metadata": {},
   "outputs": [
    {
     "output_type": "stream",
     "name": "stdout",
     "text": [
      "San Cecilio N: 426 P: 357\nMOTRIL N: 13 P: 84\nELCHE N: 8 P: 24\nBAZA N: 1 P: 20\n"
     ]
    }
   ],
   "source": [
    "def get_neg_pos(image_paths):\n",
    "    neg = 0\n",
    "    pos = 0\n",
    "    for img in image_paths:\n",
    "        label = img.split(os.sep)[-2]\n",
    "        if label == 'N':\n",
    "            neg = neg + 1\n",
    "        else:\n",
    "            pos = pos + 1\n",
    "    \n",
    "    return neg, pos\n",
    "\n",
    "\n",
    "for k in [\"San Cecilio\", \"MOTRIL\", \"ELCHE\", \"BAZA\"]:\n",
    "    image_paths = hospital_dict[k]\n",
    "    neg, pos = get_neg_pos(image_paths)\n",
    "    print(k + \" N: \" + str(neg) + \" P: \" + str(pos))"
   ]
  },
  {
   "cell_type": "code",
   "execution_count": 11,
   "metadata": {
    "tags": []
   },
   "outputs": [],
   "source": [
    "federated_data = []\n",
    "test_data = []\n",
    "train_prop = 0.8\n",
    "for k in [\"San Cecilio\", \"MOTRIL\", \"ELCHE\", \"BAZA\"]:\n",
    "    image_paths = hospital_dict[k]\n",
    "    image_paths = shuffle(image_paths)\n",
    "    train_dim = int(train_prop * len(image_paths))\n",
    "    train_image_paths = image_paths[0:train_dim]\n",
    "    test_image_paths = image_paths[train_dim:]\n",
    "\n",
    "    federated_data.append(train_image_paths)\n",
    "    test_data.extend(test_image_paths)\n",
    "\n",
    "csv_file_path = \"../partitions/partition_noniid_hospital.csv\"\n",
    "write_csv_file(federated_data, test_data, csv_file_path)\n",
    "\n"
   ]
  },
  {
   "cell_type": "code",
   "execution_count": 48,
   "metadata": {},
   "outputs": [
    {
     "output_type": "stream",
     "name": "stdout",
     "text": [
      "72\n122\n176\n80\n"
     ]
    }
   ],
   "source": [
    "neg_imgs = shuffle(copy.deepcopy(niveles_rale_dict[\"NEGATIVE\"]))\n",
    "num_pos = len(niveles_rale_dict[\"NORMAL-PCR+\"]) + len(niveles_rale_dict[\"LEVE\"]) + len(niveles_rale_dict[\"MODERADO\"]) + len(niveles_rale_dict[\"GRAVE\"])\n",
    "num_neg = len(neg_imgs)\n",
    "neg_imgs_dict = {}\n",
    "for k in [\"NORMAL-PCR+\", \"LEVE\", \"MODERADO\", \"GRAVE\"]:\n",
    "    num = int((len(niveles_rale_dict[k])/num_pos) * num_neg)\n",
    "    a = []\n",
    "    for i in range(num):\n",
    "        a.append(neg_imgs[-1])\n",
    "        neg_imgs.pop()\n",
    "    neg_imgs_dict[k] = a\n",
    "\n",
    "keys = [\"NORMAL-PCR+\", \"LEVE\", \"MODERADO\", \"GRAVE\"]\n",
    "while neg_imgs:\n",
    "    q = np.random.randint(1,5)\n",
    "    neg_imgs_dict[keys[q]].append(neg_imgs[-1])\n",
    "    neg_imgs.pop()\n",
    "\n",
    "for k in neg_imgs_dict.keys():\n",
    "    print(len(neg_imgs_dict[k]))\n"
   ]
  },
  {
   "cell_type": "code",
   "execution_count": 49,
   "metadata": {},
   "outputs": [],
   "source": [
    "federated_data = []\n",
    "test_data = []\n",
    "train_prop = 0.8\n",
    "for k in [\"NORMAL-PCR+\", \"LEVE\", \"MODERADO\", \"GRAVE\"]:\n",
    "    pos_imgs = niveles_rale_dict[k]\n",
    "    total = []\n",
    "    total.extend(pos_imgs)\n",
    "    total.extend(neg_imgs_dict[k])\n",
    "    train_dim = int(train_prop * len(total))\n",
    "    total = shuffle(total)\n",
    "    train_image_paths = total[0:train_dim]\n",
    "    test_image_paths = total[train_dim:]\n",
    "\n",
    "    federated_data.append(train_image_paths)\n",
    "    test_data.extend(test_image_paths)\n",
    "\n",
    "csv_file_path = \"../partitions/partition_noniid_nivelesrale_1.csv\"\n",
    "write_csv_file(federated_data, test_data, csv_file_path)"
   ]
  },
  {
   "cell_type": "code",
   "execution_count": 5,
   "metadata": {},
   "outputs": [
    {
     "output_type": "stream",
     "name": "stdout",
     "text": [
      "NEGATIVE: 450\nNORMAL-PCR+: 79\nLEVE: 133\nMODERADO: 191\nGRAVE: 87\n"
     ]
    }
   ],
   "source": [
    "for k in niveles_rale_dict.keys():\n",
    "    print(str(k) + \": \" + str( len(niveles_rale_dict[k]) ) )"
   ]
  },
  {
   "cell_type": "code",
   "execution_count": 6,
   "metadata": {},
   "outputs": [
    {
     "output_type": "stream",
     "name": "stdout",
     "text": [
      "0: 79\n1: 62\n2: 71\n3: 71\n4: 54\n5: 64\n6: 48\n7: 25\n8: 16\nN: 450\n"
     ]
    }
   ],
   "source": [
    "for k in puntos_rale_dict.keys():\n",
    "    print(str(k) + \": \" + str( len(puntos_rale_dict[k]) ) )"
   ]
  },
  {
   "cell_type": "code",
   "execution_count": 9,
   "metadata": {},
   "outputs": [
    {
     "output_type": "stream",
     "name": "stdout",
     "text": [
      "Hombres<=50: 172\nMujeres<=50: 228\nHombres(50,65]: 135\nMujeres(50,65]: 148\nHombres>65: 158\nMujeres>65: 99\n"
     ]
    }
   ],
   "source": [
    "for k in demograf_dict.keys():\n",
    "    print(str(k) + \": \" + str( len(demograf_dict[k]) ) )"
   ]
  },
  {
   "cell_type": "code",
   "execution_count": null,
   "metadata": {},
   "outputs": [],
   "source": []
  }
 ],
 "metadata": {
  "kernelspec": {
   "display_name": "Python 3",
   "language": "python",
   "name": "python3"
  },
  "language_info": {
   "codemirror_mode": {
    "name": "ipython",
    "version": 3
   },
   "file_extension": ".py",
   "mimetype": "text/x-python",
   "name": "python",
   "nbconvert_exporter": "python",
   "pygments_lexer": "ipython3",
   "version": "3.6.10-final"
  }
 },
 "nbformat": 4,
 "nbformat_minor": 5
}