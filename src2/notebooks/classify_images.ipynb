{
 "cells": [
  {
   "cell_type": "code",
   "execution_count": 2,
   "metadata": {},
   "outputs": [],
   "source": [
    "import numpy as np\n",
    "import os\n",
    "from imutils import paths\n",
    "from shutil import copyfile\n",
    "import csv\n",
    "\n",
    "from utils import calculate_label, classify_images"
   ]
  },
  {
   "cell_type": "code",
   "execution_count": 3,
   "metadata": {
    "tags": []
   },
   "outputs": [],
   "source": [
    "metadata_file = \"../data/Metadatos.csv\"\n",
    "#data_path = \"../data/COVIDGR1.0-Segmentadas\"\n",
    "data_path = \"../data/Revisadas\"\n",
    "classifier_data_path = \"../data/Revisadas-Clasificadas\"\n",
    "\n",
    "classify_images(metadata_file, data_path, classifier_data_path)"
   ]
  },
  {
   "cell_type": "code",
   "execution_count": 7,
   "metadata": {},
   "outputs": [
    {
     "output_type": "stream",
     "name": "stdout",
     "text": [
      "490\n450\n"
     ]
    }
   ],
   "source": [
    "print(len(os.listdir(classifier_data_path+\"/N\")))\n",
    "print(len(os.listdir(classifier_data_path+\"/P\")))"
   ]
  },
  {
   "cell_type": "code",
   "execution_count": 4,
   "metadata": {},
   "outputs": [],
   "source": [
    "metadata_file = \"../data/Metadatos.csv\"\n",
    "#data_path = \"../data/COVIDGR1.0-Segmentadas\"\n",
    "data_path = \"../data/Revisadas\"\n",
    "old_data_path = \"../data/COVIDGR1.0-Segmentadas\"\n",
    "\n",
    "with open(metadata_file, mode='r') as csv_file:\n",
    "        csv_reader = csv.DictReader(csv_file)\n",
    "        no_concuerda = 0\n",
    "        for row in csv_reader:\n",
    "            tipo = row['Nombre de la imagen (ID-Fecha-Tipo)'].split('-')[-1]\n",
    "            if (tipo == 'PA'):\n",
    "                name = row['ID (10 dígitos)'] + '-' + row['Fecha radiografía (DDMMAA)']\n",
    "                pos_path = old_data_path + os.sep + 'P' + os.sep + name + '.jpg'\n",
    "                neg_path = old_data_path + os.sep + 'N' + os.sep + name + '.jpg'\n",
    "\n",
    "                if os.path.isfile(pos_path) or os.path.isfile(neg_path):\n",
    "\n",
    "                    if os.path.isfile(pos_path):\n",
    "                        true_label = 'P'\n",
    "                    else:\n",
    "                        true_label = 'N'\n",
    "                    label = calculate_label(row)\n",
    "\n",
    "                    if label != true_label:\n",
    "                        no_concuerda = no_concuerda + 1\n",
    "                        print(\"fail\")\n",
    "                        print(true_label)\n",
    "                        print(name)"
   ]
  },
  {
   "cell_type": "code",
   "execution_count": null,
   "metadata": {},
   "outputs": [],
   "source": []
  }
 ],
 "metadata": {
  "kernelspec": {
   "display_name": "Python 3",
   "language": "python",
   "name": "python3"
  },
  "language_info": {
   "codemirror_mode": {
    "name": "ipython",
    "version": 3
   },
   "file_extension": ".py",
   "mimetype": "text/x-python",
   "name": "python",
   "nbconvert_exporter": "python",
   "pygments_lexer": "ipython3",
   "version": "3.6.10-final"
  }
 },
 "nbformat": 4,
 "nbformat_minor": 5
}