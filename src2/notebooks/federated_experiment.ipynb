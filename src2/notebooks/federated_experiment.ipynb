{
 "cells": [
  {
   "cell_type": "code",
   "execution_count": 1,
   "metadata": {
    "scrolled": true
   },
   "outputs": [
    {
     "name": "stderr",
     "output_type": "stream",
     "text": [
      "/mnt/sdd/fcastro/envs/TF/lib/python3.6/site-packages/tensorflow/python/framework/dtypes.py:516: FutureWarning: Passing (type, 1) or '1type' as a synonym of type is deprecated; in a future version of numpy, it will be understood as (type, (1,)) / '(1,)type'.\n",
      "  _np_qint8 = np.dtype([(\"qint8\", np.int8, 1)])\n",
      "/mnt/sdd/fcastro/envs/TF/lib/python3.6/site-packages/tensorflow/python/framework/dtypes.py:517: FutureWarning: Passing (type, 1) or '1type' as a synonym of type is deprecated; in a future version of numpy, it will be understood as (type, (1,)) / '(1,)type'.\n",
      "  _np_quint8 = np.dtype([(\"quint8\", np.uint8, 1)])\n",
      "/mnt/sdd/fcastro/envs/TF/lib/python3.6/site-packages/tensorflow/python/framework/dtypes.py:518: FutureWarning: Passing (type, 1) or '1type' as a synonym of type is deprecated; in a future version of numpy, it will be understood as (type, (1,)) / '(1,)type'.\n",
      "  _np_qint16 = np.dtype([(\"qint16\", np.int16, 1)])\n",
      "/mnt/sdd/fcastro/envs/TF/lib/python3.6/site-packages/tensorflow/python/framework/dtypes.py:519: FutureWarning: Passing (type, 1) or '1type' as a synonym of type is deprecated; in a future version of numpy, it will be understood as (type, (1,)) / '(1,)type'.\n",
      "  _np_quint16 = np.dtype([(\"quint16\", np.uint16, 1)])\n",
      "/mnt/sdd/fcastro/envs/TF/lib/python3.6/site-packages/tensorflow/python/framework/dtypes.py:520: FutureWarning: Passing (type, 1) or '1type' as a synonym of type is deprecated; in a future version of numpy, it will be understood as (type, (1,)) / '(1,)type'.\n",
      "  _np_qint32 = np.dtype([(\"qint32\", np.int32, 1)])\n",
      "/mnt/sdd/fcastro/envs/TF/lib/python3.6/site-packages/tensorflow/python/framework/dtypes.py:525: FutureWarning: Passing (type, 1) or '1type' as a synonym of type is deprecated; in a future version of numpy, it will be understood as (type, (1,)) / '(1,)type'.\n",
      "  np_resource = np.dtype([(\"resource\", np.ubyte, 1)])\n"
     ]
    }
   ],
   "source": [
    "import os\n",
    "os.environ[\"CUDA_DEVICE_ORDER\"]=\"PCI_BUS_ID\"\n",
    "os.environ[\"CUDA_VISIBLE_DEVICES\"]=\"1\"\n",
    "\n",
    "os.chdir(\"../\")\n",
    "\n",
    "import shfl\n",
    "import torch\n",
    "import copy\n",
    "import numpy as np\n",
    "import tensorflow as tf\n",
    "\n",
    "from sklearn.preprocessing import LabelBinarizer\n",
    "\n",
    "from shfl.private import UnprotectedAccess\n",
    "from CIT.model import CITModel\n",
    "from utils import get_federated_data_csv, get_transformed_data\n",
    "from ClassifierModel import ClassifierModel"
   ]
  },
  {
   "cell_type": "code",
   "execution_count": 2,
   "metadata": {},
   "outputs": [],
   "source": [
    "#\"../data/COVIDGR1.0/centralized/cropped\"\n",
    "#partition_iid_3nodes_1.csv\n",
    "args = {\"data_path\":\"../data/Revisadas-Clasificadas-Recortadas\", \n",
    "        \"csv_path\": \"../partitions/partition_iid_1nodes_2.csv\",\n",
    "        \"output_path\": \"../weights\",\n",
    "        \"input_path\": \"\",\n",
    "        \"model_name\":\"transferlearning.model\", \n",
    "        \"label_bin\": \"lb.pickle\", \n",
    "        \"batch_size\": 8,\n",
    "        \"federated_rounds\": 1,\n",
    "        \"epochs_per_FL_round\": 1,\n",
    "        \"num_nodes\": 3,\n",
    "        \"size_averaging\": 1,\n",
    "        \"random_rotation\": 0,\n",
    "        \"random_shift\": 0, \n",
    "        \"random_zoom\": 0,\n",
    "        \"horizontal_flip\": False,        \n",
    "        \"finetune\": True,\n",
    "        \"train_network\": True}\n",
    "\n",
    "device = torch.device('cuda' if torch.cuda.is_available() else 'cpu')\n",
    "#device = 'cpu'"
   ]
  },
  {
   "cell_type": "code",
   "execution_count": 3,
   "metadata": {},
   "outputs": [],
   "source": [
    "a = ['N', 'P']\n",
    "b = ['NTN', 'NTP', 'PTP', 'PTN']\n",
    "lb1 = LabelBinarizer()\n",
    "lb2 = LabelBinarizer()\n",
    "lb1.fit(a)\n",
    "lb2.fit(b)\n",
    "\n",
    "dict_labels = { 'PTP' : np.argmax(lb2.transform(['PTP'])[0]) , 'PTN' : np.argmax(lb2.transform(['PTN'])[0]) , \n",
    "                'NTP' : np.argmax(lb2.transform(['NTP'])[0]) , 'NTN' : np.argmax(lb2.transform(['NTN'])[0]), \n",
    "                'P' : lb1.transform(['P'])[0][0], 'N' : lb1.transform(['N'])[0][0]\n",
    "              } \n",
    "\n"
   ]
  },
  {
   "cell_type": "code",
   "execution_count": 4,
   "metadata": {},
   "outputs": [],
   "source": [
    "def cit_builder():    \n",
    "    return CITModel(['N', 'P'], classifier_name = \"resnet18\", lambda_values = [0.05], batch_size=args[\"batch_size\"], epochs=args[\"epochs_per_FL_round\"], device=device)\n",
    "\n",
    "def classifier_builder( G_dict ):\n",
    "    return ClassifierModel(G_dict, dict_labels, batch_size=args[\"batch_size\"], epochs=args[\"epochs_per_FL_round\"], finetune = args[\"finetune\"])"
   ]
  },
  {
   "cell_type": "code",
   "execution_count": 5,
   "metadata": {
    "scrolled": false
   },
   "outputs": [
    {
     "name": "stdout",
     "output_type": "stream",
     "text": [
      "[INFO] Fetching federated data...\n",
      "681\n",
      "171\n",
      "[INFO] done\n"
     ]
    }
   ],
   "source": [
    "print(\"[INFO] Fetching federated data...\")\n",
    "federated_data, train_data, train_label, test_data, test_label, train_files, test_files, args[\"num_nodes\"] = get_federated_data_csv(args[\"data_path\"], args[\"csv_path\"], lb1)\n",
    "federated_data.configure_data_access(UnprotectedAccess())\n",
    "print(len(train_data))\n",
    "print(len(test_data))\n",
    "print(\"[INFO] done\")"
   ]
  },
  {
   "cell_type": "code",
   "execution_count": 6,
   "metadata": {
    "scrolled": false
   },
   "outputs": [
    {
     "name": "stdout",
     "output_type": "stream",
     "text": [
      "Accuracy round 0\n",
      "Training node 0\n",
      "[INFO] weights = [1.         0.92917847]\n"
     ]
    },
    {
     "name": "stderr",
     "output_type": "stream",
     "text": [
      "[Validating]: Acc_D: 0.4348: 100%|██████████| 69/69 [00:02<00:00, 30.31it/s]\n"
     ]
    },
    {
     "name": "stdout",
     "output_type": "stream",
     "text": [
      "[INFO] Initial Valid Scores: \n",
      "Valid Acc = 0.43478260869565216\n",
      "Valid Loss = 0.7608250958332117\n",
      "[INFO] LAMBDA: 0.05\n"
     ]
    },
    {
     "name": "stderr",
     "output_type": "stream",
     "text": [
      "[1/1] Loss_D: 0.3607 Acc_D: 0.6070 Loss_G_class1: 0.0657 Loss_G_class2: 0.0582: 100%|██████████| 77/77 [01:51<00:00,  1.44s/it]\n",
      "[Validating]: Acc_D: 0.7681: 100%|██████████| 69/69 [00:01<00:00, 49.50it/s]\n",
      "  0%|          | 0/69 [00:00<?, ?it/s]"
     ]
    },
    {
     "name": "stdout",
     "output_type": "stream",
     "text": [
      "\n",
      "Valid Acc = 0.7681159420289855\n",
      "Valid Loss = 0.5452676468893237\n"
     ]
    },
    {
     "name": "stderr",
     "output_type": "stream",
     "text": [
      "[Validating]: Acc_D: 0.7536: 100%|██████████| 69/69 [00:01<00:00, 49.52it/s]\n"
     ]
    },
    {
     "name": "stdout",
     "output_type": "stream",
     "text": [
      "[INFO] Summary of training for LAMBDA = 0.05 (best model values)\n",
      "Valid Acc = 0.7536231884057971\n",
      "Valid Loss = 0.5587751281218253\n",
      "Test performance client <shfl.private.federated_operation.FederatedDataNode object at 0x7f1aeb406470>: [0.5026990312385803, 0.8187134502923976, {'0': {'precision': 0.9795918367346939, 'recall': 0.768, 'f1-score': 0.8609865470852017, 'support': 125}, '1': {'precision': 0.6027397260273972, 'recall': 0.9565217391304348, 'f1-score': 0.7394957983193277, 'support': 46}, 'accuracy': 0.8187134502923976, 'macro avg': {'precision': 0.7911657813810455, 'recall': 0.8622608695652174, 'f1-score': 0.8002411727022647, 'support': 171}, 'weighted avg': {'precision': 0.8782164151409181, 'recall': 0.8187134502923976, 'f1-score': 0.8283048251949667, 'support': 171}}]\n",
      "Global model test performance : [0.5026990312385803, 0.8187134502923976, {'0': {'precision': 0.9795918367346939, 'recall': 0.768, 'f1-score': 0.8609865470852017, 'support': 125}, '1': {'precision': 0.6027397260273972, 'recall': 0.9565217391304348, 'f1-score': 0.7394957983193277, 'support': 46}, 'accuracy': 0.8187134502923976, 'macro avg': {'precision': 0.7911657813810455, 'recall': 0.8622608695652174, 'f1-score': 0.8002411727022647, 'support': 171}, 'weighted avg': {'precision': 0.8782164151409181, 'recall': 0.8187134502923976, 'f1-score': 0.8283048251949667, 'support': 171}}]\n",
      "\n",
      "\n",
      "\n"
     ]
    },
    {
     "data": {
      "text/plain": [
       "[[0.5026990312385803,\n",
       "  0.8187134502923976,\n",
       "  {'0': {'precision': 0.9795918367346939,\n",
       "    'recall': 0.768,\n",
       "    'f1-score': 0.8609865470852017,\n",
       "    'support': 125},\n",
       "   '1': {'precision': 0.6027397260273972,\n",
       "    'recall': 0.9565217391304348,\n",
       "    'f1-score': 0.7394957983193277,\n",
       "    'support': 46},\n",
       "   'accuracy': 0.8187134502923976,\n",
       "   'macro avg': {'precision': 0.7911657813810455,\n",
       "    'recall': 0.8622608695652174,\n",
       "    'f1-score': 0.8002411727022647,\n",
       "    'support': 171},\n",
       "   'weighted avg': {'precision': 0.8782164151409181,\n",
       "    'recall': 0.8187134502923976,\n",
       "    'f1-score': 0.8283048251949667,\n",
       "    'support': 171}}]]"
      ]
     },
     "execution_count": 6,
     "metadata": {},
     "output_type": "execute_result"
    }
   ],
   "source": [
    "aggregator = shfl.federated_aggregator.FedAvgAggregator()\n",
    "cit_federated_government = shfl.federated_government.FederatedGovernment(cit_builder, federated_data, aggregator)\n",
    "cit_federated_government.run_rounds(args[\"federated_rounds\"], test_data, test_label)"
   ]
  },
  {
   "cell_type": "code",
   "execution_count": 7,
   "metadata": {},
   "outputs": [
    {
     "name": "stdout",
     "output_type": "stream",
     "text": [
      "CIT Classifier Results:\n",
      "Loss: 0.5026990312385803\n",
      "Acc: 0.8187134502923976\n",
      "{'0': {'precision': 0.9795918367346939, 'recall': 0.768, 'f1-score': 0.8609865470852017, 'support': 125}, '1': {'precision': 0.6027397260273972, 'recall': 0.9565217391304348, 'f1-score': 0.7394957983193277, 'support': 46}, 'accuracy': 0.8187134502923976, 'macro avg': {'precision': 0.7911657813810455, 'recall': 0.8622608695652174, 'f1-score': 0.8002411727022647, 'support': 171}, 'weighted avg': {'precision': 0.8782164151409181, 'recall': 0.8187134502923976, 'f1-score': 0.8283048251949667, 'support': 171}}\n"
     ]
    }
   ],
   "source": [
    "metrics = cit_federated_government.global_model.evaluate(test_data, test_label)\n",
    "print(\"CIT Classifier Results:\")\n",
    "print(\"Loss: {}\".format(metrics[0]))\n",
    "print(\"Acc: {}\".format(metrics[1]))\n",
    "print(metrics[2])"
   ]
  },
  {
   "cell_type": "code",
   "execution_count": 8,
   "metadata": {},
   "outputs": [],
   "source": [
    "t_federated_data, t_test_data, t_test_label = get_transformed_data(federated_data, cit_federated_government, test_data, test_label, lb1, lb2)"
   ]
  },
  {
   "cell_type": "code",
   "execution_count": 9,
   "metadata": {},
   "outputs": [
    {
     "name": "stdout",
     "output_type": "stream",
     "text": [
      "WARNING:tensorflow:From /mnt/sdd/fcastro/envs/TF/lib/python3.6/site-packages/tensorflow/python/ops/init_ops.py:1251: calling VarianceScaling.__init__ (from tensorflow.python.ops.init_ops) with dtype is deprecated and will be removed in a future version.\n",
      "Instructions for updating:\n",
      "Call initializer instance with the dtype argument instead of passing it to the constructor\n",
      "WARNING:tensorflow:From /mnt/sdd/fcastro/envs/TF/lib/python3.6/site-packages/tensorflow/python/ops/init_ops.py:97: calling Zeros.__init__ (from tensorflow.python.ops.init_ops) with dtype is deprecated and will be removed in a future version.\n",
      "Instructions for updating:\n",
      "Call initializer instance with the dtype argument instead of passing it to the constructor\n",
      "WARNING:tensorflow:From /mnt/sdd/fcastro/envs/TF/lib/python3.6/site-packages/tensorflow/python/ops/init_ops.py:97: calling Ones.__init__ (from tensorflow.python.ops.init_ops) with dtype is deprecated and will be removed in a future version.\n",
      "Instructions for updating:\n",
      "Call initializer instance with the dtype argument instead of passing it to the constructor\n",
      "WARNING:tensorflow:From /mnt/sdd/fcastro/envs/TF/lib/python3.6/site-packages/tensorflow/python/ops/init_ops.py:97: calling GlorotUniform.__init__ (from tensorflow.python.ops.init_ops) with dtype is deprecated and will be removed in a future version.\n",
      "Instructions for updating:\n",
      "Call initializer instance with the dtype argument instead of passing it to the constructor\n",
      "Accuracy round 0\n",
      "Training node 0\n",
      "153/153 [==============================] - 28s 186ms/step - loss: 0.7510 - categorical_accuracy: 0.6429 - val_loss: 0.7957 - val_categorical_accuracy: 0.6324\n",
      "Test performance client <shfl.private.federated_operation.FederatedDataNode object at 0x7f1ae26e7438>: [0.5789473684210527, 0.5350877192982456, 58, {'0': {'precision': 0.825, 'recall': 0.336734693877551, 'f1-score': 0.47826086956521735, 'support': 98}, '1': {'precision': 0.5038167938931297, 'recall': 0.9041095890410958, 'f1-score': 0.6470588235294118, 'support': 73}, 'accuracy': 0.5789473684210527, 'macro avg': {'precision': 0.6644083969465648, 'recall': 0.6204221414593234, 'f1-score': 0.5626598465473146, 'support': 171}, 'weighted avg': {'precision': 0.6878867014865407, 'recall': 0.5789473684210527, 'f1-score': 0.5503208148247857, 'support': 171}}]\n",
      "Global model test performance : [0.5789473684210527, 0.5350877192982456, 58, {'0': {'precision': 0.825, 'recall': 0.336734693877551, 'f1-score': 0.47826086956521735, 'support': 98}, '1': {'precision': 0.5038167938931297, 'recall': 0.9041095890410958, 'f1-score': 0.6470588235294118, 'support': 73}, 'accuracy': 0.5789473684210527, 'macro avg': {'precision': 0.6644083969465648, 'recall': 0.6204221414593234, 'f1-score': 0.5626598465473146, 'support': 171}, 'weighted avg': {'precision': 0.6878867014865407, 'recall': 0.5789473684210527, 'f1-score': 0.5503208148247857, 'support': 171}}]\n",
      "\n",
      "\n",
      "\n",
      "[INFO] done\n"
     ]
    }
   ],
   "source": [
    "aggregator = shfl.federated_aggregator.FedAvgAggregator()\n",
    "G_dict = cit_federated_government.global_model._G_dict\n",
    "x = lambda : classifier_builder(G_dict)\n",
    "classifier_federated_government = shfl.federated_government.FederatedGovernment(x, t_federated_data, aggregator)\n",
    "#classifier_federated_government = FederatedGovernment_2(classifier_builder(G_dict), t_federated_data, aggregator)\n",
    "classifier_federated_government.run_rounds(args[\"federated_rounds\"], t_test_data, t_test_label)\n",
    "\n",
    "#print(\"[INFO] saving model ...\")\n",
    "#federated_government.global_model._model.save( os.path.join(args[\"output_path\"], args[\"model_name\"]) )\n",
    "print(\"[INFO] done\")"
   ]
  },
  {
   "cell_type": "code",
   "execution_count": 10,
   "metadata": {},
   "outputs": [
    {
     "name": "stdout",
     "output_type": "stream",
     "text": [
      "SDNET Classifier Results:\n",
      "Acc: 0.5789473684210527\n",
      "Acc_4: 0.5350877192982456\n",
      "No concuerda: 58\n",
      "{'0': {'precision': 0.825, 'recall': 0.336734693877551, 'f1-score': 0.47826086956521735, 'support': 98}, '1': {'precision': 0.5038167938931297, 'recall': 0.9041095890410958, 'f1-score': 0.6470588235294118, 'support': 73}, 'accuracy': 0.5789473684210527, 'macro avg': {'precision': 0.6644083969465648, 'recall': 0.6204221414593234, 'f1-score': 0.5626598465473146, 'support': 171}, 'weighted avg': {'precision': 0.6878867014865407, 'recall': 0.5789473684210527, 'f1-score': 0.5503208148247857, 'support': 171}}\n"
     ]
    }
   ],
   "source": [
    "metrics = classifier_federated_government.global_model.evaluate2(test_data, test_label)\n",
    "print(\"SDNET Classifier Results:\")\n",
    "print(\"Acc: {}\".format(metrics[0]))\n",
    "print(\"Acc_4: {}\".format(metrics[1]))\n",
    "print(\"No concuerda: {}\".format(metrics[2]))\n",
    "print(metrics[3])"
   ]
  },
  {
   "cell_type": "code",
   "execution_count": 11,
   "metadata": {},
   "outputs": [
    {
     "name": "stdout",
     "output_type": "stream",
     "text": [
      "SDNET Classifier Results:\n",
      "Acc: 0.5789473684210527\n",
      "Acc_4: 0.5350877192982456\n",
      "No concuerda: 58\n",
      "{'0': {'precision': 0.825, 'recall': 0.336734693877551, 'f1-score': 0.47826086956521735, 'support': 98}, '1': {'precision': 0.5038167938931297, 'recall': 0.9041095890410958, 'f1-score': 0.6470588235294118, 'support': 73}, 'accuracy': 0.5789473684210527, 'macro avg': {'precision': 0.6644083969465648, 'recall': 0.6204221414593234, 'f1-score': 0.5626598465473146, 'support': 171}, 'weighted avg': {'precision': 0.6878867014865407, 'recall': 0.5789473684210527, 'f1-score': 0.5503208148247857, 'support': 171}}\n"
     ]
    }
   ],
   "source": [
    "metrics = classifier_federated_government.global_model.evaluate(t_test_data, t_test_label)\n",
    "print(\"SDNET Classifier Results:\")\n",
    "print(\"Acc: {}\".format(metrics[0]))\n",
    "print(\"Acc_4: {}\".format(metrics[1]))\n",
    "print(\"No concuerda: {}\".format(metrics[2]))\n",
    "print(metrics[3])"
   ]
  },
  {
   "cell_type": "code",
   "execution_count": 12,
   "metadata": {},
   "outputs": [
    {
     "name": "stdout",
     "output_type": "stream",
     "text": [
      "[[0]\n",
      " [1]\n",
      " [0]\n",
      " [0]\n",
      " [1]\n",
      " [1]\n",
      " [1]\n",
      " [0]\n",
      " [0]\n",
      " [1]\n",
      " [0]\n",
      " [0]\n",
      " [0]\n",
      " [1]\n",
      " [1]\n",
      " [0]\n",
      " [1]\n",
      " [0]\n",
      " [0]\n",
      " [1]\n",
      " [0]\n",
      " [0]\n",
      " [1]\n",
      " [0]\n",
      " [0]\n",
      " [0]\n",
      " [0]\n",
      " [0]\n",
      " [1]\n",
      " [1]\n",
      " [1]\n",
      " [1]\n",
      " [0]\n",
      " [1]\n",
      " [1]\n",
      " [0]\n",
      " [0]\n",
      " [0]\n",
      " [1]\n",
      " [0]\n",
      " [0]\n",
      " [0]\n",
      " [1]\n",
      " [0]\n",
      " [1]\n",
      " [0]\n",
      " [0]\n",
      " [0]\n",
      " [1]\n",
      " [0]\n",
      " [0]\n",
      " [1]\n",
      " [1]\n",
      " [1]\n",
      " [1]\n",
      " [0]\n",
      " [0]\n",
      " [0]\n",
      " [1]\n",
      " [0]\n",
      " [1]\n",
      " [1]\n",
      " [0]\n",
      " [0]\n",
      " [1]\n",
      " [0]\n",
      " [0]\n",
      " [0]\n",
      " [0]\n",
      " [0]\n",
      " [1]\n",
      " [0]\n",
      " [0]\n",
      " [0]\n",
      " [0]\n",
      " [0]\n",
      " [1]\n",
      " [0]\n",
      " [1]\n",
      " [1]\n",
      " [0]\n",
      " [1]\n",
      " [1]\n",
      " [0]\n",
      " [1]\n",
      " [1]\n",
      " [0]\n",
      " [1]\n",
      " [0]\n",
      " [0]\n",
      " [1]\n",
      " [1]\n",
      " [1]\n",
      " [0]\n",
      " [0]\n",
      " [0]\n",
      " [0]\n",
      " [0]\n",
      " [1]\n",
      " [1]\n",
      " [0]\n",
      " [0]\n",
      " [0]\n",
      " [1]\n",
      " [0]\n",
      " [0]\n",
      " [0]\n",
      " [0]\n",
      " [1]\n",
      " [0]\n",
      " [1]\n",
      " [0]\n",
      " [0]\n",
      " [1]\n",
      " [0]\n",
      " [0]\n",
      " [0]\n",
      " [0]\n",
      " [0]\n",
      " [1]\n",
      " [1]\n",
      " [0]\n",
      " [1]\n",
      " [1]\n",
      " [1]\n",
      " [0]\n",
      " [0]\n",
      " [0]\n",
      " [1]\n",
      " [1]\n",
      " [1]\n",
      " [1]\n",
      " [0]\n",
      " [1]\n",
      " [0]\n",
      " [1]\n",
      " [1]\n",
      " [1]\n",
      " [1]\n",
      " [0]\n",
      " [0]\n",
      " [0]\n",
      " [1]\n",
      " [1]\n",
      " [0]\n",
      " [1]\n",
      " [1]\n",
      " [0]\n",
      " [0]\n",
      " [0]\n",
      " [1]\n",
      " [1]\n",
      " [0]\n",
      " [1]\n",
      " [0]\n",
      " [1]\n",
      " [0]\n",
      " [0]\n",
      " [0]\n",
      " [0]\n",
      " [0]\n",
      " [1]\n",
      " [1]\n",
      " [1]\n",
      " [0]\n",
      " [1]\n",
      " [0]\n",
      " [0]\n",
      " [0]\n",
      " [0]\n",
      " [1]]\n"
     ]
    }
   ],
   "source": [
    "print(test_label)"
   ]
  },
  {
   "cell_type": "code",
   "execution_count": null,
   "metadata": {},
   "outputs": [],
   "source": []
  }
 ],
 "metadata": {
  "kernelspec": {
   "display_name": "Python 3",
   "language": "python",
   "name": "python3"
  },
  "language_info": {
   "codemirror_mode": {
    "name": "ipython",
    "version": 3
   },
   "file_extension": ".py",
   "mimetype": "text/x-python",
   "name": "python",
   "nbconvert_exporter": "python",
   "pygments_lexer": "ipython3",
   "version": "3.6.10"
  }
 },
 "nbformat": 4,
 "nbformat_minor": 4
}
