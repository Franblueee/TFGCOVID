{
 "cells": [
  {
   "cell_type": "code",
   "execution_count": 1,
   "metadata": {
    "scrolled": true
   },
   "outputs": [
    {
     "name": "stderr",
     "output_type": "stream",
     "text": [
      "/mnt/sdd/fcastro/envs/TF/lib/python3.6/site-packages/tensorflow/python/framework/dtypes.py:516: FutureWarning: Passing (type, 1) or '1type' as a synonym of type is deprecated; in a future version of numpy, it will be understood as (type, (1,)) / '(1,)type'.\n",
      "  _np_qint8 = np.dtype([(\"qint8\", np.int8, 1)])\n",
      "/mnt/sdd/fcastro/envs/TF/lib/python3.6/site-packages/tensorflow/python/framework/dtypes.py:517: FutureWarning: Passing (type, 1) or '1type' as a synonym of type is deprecated; in a future version of numpy, it will be understood as (type, (1,)) / '(1,)type'.\n",
      "  _np_quint8 = np.dtype([(\"quint8\", np.uint8, 1)])\n",
      "/mnt/sdd/fcastro/envs/TF/lib/python3.6/site-packages/tensorflow/python/framework/dtypes.py:518: FutureWarning: Passing (type, 1) or '1type' as a synonym of type is deprecated; in a future version of numpy, it will be understood as (type, (1,)) / '(1,)type'.\n",
      "  _np_qint16 = np.dtype([(\"qint16\", np.int16, 1)])\n",
      "/mnt/sdd/fcastro/envs/TF/lib/python3.6/site-packages/tensorflow/python/framework/dtypes.py:519: FutureWarning: Passing (type, 1) or '1type' as a synonym of type is deprecated; in a future version of numpy, it will be understood as (type, (1,)) / '(1,)type'.\n",
      "  _np_quint16 = np.dtype([(\"quint16\", np.uint16, 1)])\n",
      "/mnt/sdd/fcastro/envs/TF/lib/python3.6/site-packages/tensorflow/python/framework/dtypes.py:520: FutureWarning: Passing (type, 1) or '1type' as a synonym of type is deprecated; in a future version of numpy, it will be understood as (type, (1,)) / '(1,)type'.\n",
      "  _np_qint32 = np.dtype([(\"qint32\", np.int32, 1)])\n",
      "/mnt/sdd/fcastro/envs/TF/lib/python3.6/site-packages/tensorflow/python/framework/dtypes.py:525: FutureWarning: Passing (type, 1) or '1type' as a synonym of type is deprecated; in a future version of numpy, it will be understood as (type, (1,)) / '(1,)type'.\n",
      "  np_resource = np.dtype([(\"resource\", np.ubyte, 1)])\n"
     ]
    }
   ],
   "source": [
    "import os\n",
    "os.environ[\"CUDA_DEVICE_ORDER\"]=\"PCI_BUS_ID\"\n",
    "os.environ[\"CUDA_VISIBLE_DEVICES\"]=\"5\"\n",
    "import shfl\n",
    "import torch\n",
    "import copy\n",
    "import numpy as np\n",
    "import tensorflow as tf\n",
    "\n",
    "from sklearn.preprocessing import LabelBinarizer\n",
    "\n",
    "from shfl.private import UnprotectedAccess\n",
    "from CIT.model import CITModel\n",
    "from utils import get_federated_data_csv\n",
    "from ClassifierModel import ClassifierModel"
   ]
  },
  {
   "cell_type": "code",
   "execution_count": 2,
   "metadata": {},
   "outputs": [],
   "source": [
    "#\"../data/COVIDGR1.0/centralized/cropped\"\n",
    "#partition_iid_3nodes_1.csv\n",
    "args = {\"data_path\":\"../data/COVIDGR1.0-Segmentadas\", \n",
    "        \"csv_path\": \"../partitions/partition_iid_3nodes_1.csv\",\n",
    "        \"output_path\": \"../weights\",\n",
    "        \"input_path\": \"\",\n",
    "        \"model_name\":\"transferlearning.model\", \n",
    "        \"label_bin\": \"lb.pickle\", \n",
    "        \"batch_size\": 8,\n",
    "        \"federated_rounds\": 1,\n",
    "        \"epochs_per_FL_round\": 50,\n",
    "        \"num_nodes\": 3,\n",
    "        \"size_averaging\": 1,\n",
    "        \"random_rotation\": 0,\n",
    "        \"random_shift\": 0, \n",
    "        \"random_zoom\": 0,\n",
    "        \"horizontal_flip\": False,        \n",
    "        \"finetune\": True,\n",
    "        \"train_network\": True}\n",
    "\n",
    "device = torch.device('cuda' if torch.cuda.is_available() else 'cpu')\n",
    "#device = 'cpu'"
   ]
  },
  {
   "cell_type": "code",
   "execution_count": 3,
   "metadata": {},
   "outputs": [],
   "source": [
    "a = ['N', 'P']\n",
    "b = ['NTN', 'NTP', 'PTP', 'PTN']\n",
    "lb1 = LabelBinarizer()\n",
    "lb2 = LabelBinarizer()\n",
    "lb1.fit(a)\n",
    "lb2.fit(b)\n",
    "\n",
    "dict_labels = { 'PTP' : np.argmax(lb2.transform(['PTP'])[0]) , 'PTN' : np.argmax(lb2.transform(['PTN'])[0]) , \n",
    "                'NTP' : np.argmax(lb2.transform(['NTP'])[0]) , 'NTN' : np.argmax(lb2.transform(['NTN'])[0]), \n",
    "                'P' : lb1.transform(['P'])[0][0], 'N' : lb1.transform(['N'])[0][0]\n",
    "              } \n",
    "\n"
   ]
  },
  {
   "cell_type": "code",
   "execution_count": 4,
   "metadata": {},
   "outputs": [],
   "source": [
    "def cit_builder():    \n",
    "    return CITModel(['N', 'P'], classifier_name = \"resnet18\", folds=1, lambda_values = [0.05], batch_size=args[\"batch_size\"], epochs=args[\"epochs_per_FL_round\"], device=device)\n",
    "\n",
    "def classifier_builder( G_dict ):\n",
    "    return ClassifierModel(G_dict, dict_labels, batch_size=args[\"batch_size\"], epochs=args[\"epochs_per_FL_round\"], finetune = args[\"finetune\"])\n",
    "\n",
    "def get_transformed_data(federated_data, cit_federated_government, lb1, lb2):\n",
    "    t_federated_data = copy.deepcopy(federated_data)\n",
    "\n",
    "    for i in range(federated_data.num_nodes()):\n",
    "        data_node = federated_data[i]\n",
    "        t_data_node = t_federated_data[i]\n",
    "        data = data_node.query()._data\n",
    "        labels = data_node.query()._label\n",
    "        t_data, t_labels = cit_federated_government.global_model.transform_data(data, labels, lb1, lb2)\n",
    "        t_data_node.query()._data = t_data\n",
    "        t_data_node.query()._label = t_labels\n",
    "\n",
    "\n",
    "    return t_federated_data"
   ]
  },
  {
   "cell_type": "code",
   "execution_count": 5,
   "metadata": {
    "scrolled": false
   },
   "outputs": [
    {
     "name": "stdout",
     "output_type": "stream",
     "text": [
      "[INFO] Fetching federated data...\n",
      "681\n",
      "171\n",
      "[INFO] done\n"
     ]
    }
   ],
   "source": [
    "print(\"[INFO] Fetching federated data...\")\n",
    "federated_data, train_data, train_label, test_data, test_label, train_files, test_files, args[\"num_nodes\"] = get_federated_data_csv(args[\"data_path\"], args[\"csv_path\"], lb1)\n",
    "federated_data.configure_data_access(UnprotectedAccess())\n",
    "print(len(train_data))\n",
    "print(len(test_data))\n",
    "print(\"[INFO] done\")"
   ]
  },
  {
   "cell_type": "code",
   "execution_count": 6,
   "metadata": {
    "scrolled": false
   },
   "outputs": [
    {
     "name": "stdout",
     "output_type": "stream",
     "text": [
      "Accuracy round 0\n"
     ]
    },
    {
     "name": "stderr",
     "output_type": "stream",
     "text": [
      "\r",
      "  0%|          | 0/23 [00:00<?, ?it/s]"
     ]
    },
    {
     "name": "stdout",
     "output_type": "stream",
     "text": [
      "Training node 0\n",
      "[INFO] weights = [1.         0.93965517]\n"
     ]
    },
    {
     "name": "stderr",
     "output_type": "stream",
     "text": [
      "[Validating]: Acc_D: 0.2609: 100%|██████████| 23/23 [00:00<00:00, 28.40it/s]\n"
     ]
    },
    {
     "name": "stdout",
     "output_type": "stream",
     "text": [
      "[INFO] LAMBDA: 0.05\n"
     ]
    },
    {
     "name": "stderr",
     "output_type": "stream",
     "text": [
      "[Validating]: Acc_D: 0.2609: 100%|██████████| 23/23 [00:00<00:00, 28.64it/s]\n",
      "[1/50] Loss_D: 0.4433 Acc_D: 0.5470 Loss_G_class1: 0.1281 Loss_G_class2: 0.1363: 100%|██████████| 26/26 [00:36<00:00,  1.41s/it]\n",
      "[Validating]: Acc_D: 0.7391: 100%|██████████| 23/23 [00:00<00:00, 34.22it/s]\n",
      "  0%|          | 0/26 [00:00<?, ?it/s]"
     ]
    },
    {
     "name": "stdout",
     "output_type": "stream",
     "text": [
      "\n",
      "Valid Acc = 0.7391304347826086\n",
      "Valid Loss = 0.7412493876788927\n"
     ]
    },
    {
     "name": "stderr",
     "output_type": "stream",
     "text": [
      "[2/50] Loss_D: 0.2980 Acc_D: 0.7178 Loss_G_class1: 0.0262 Loss_G_class2: 0.0228: 100%|██████████| 26/26 [00:37<00:00,  1.43s/it]\n",
      "[Validating]: Acc_D: 0.7391: 100%|██████████| 23/23 [00:02<00:00,  8.05it/s]\n",
      "  0%|          | 0/26 [00:00<?, ?it/s]"
     ]
    },
    {
     "name": "stdout",
     "output_type": "stream",
     "text": [
      "\n",
      "Valid Acc = 0.7391304347826086\n",
      "Valid Loss = 0.9836041266503541\n",
      "EarlyStopping counter: 1 out of 10\n"
     ]
    },
    {
     "name": "stderr",
     "output_type": "stream",
     "text": [
      "[3/50] Loss_D: 0.2813 Acc_D: 0.7178 Loss_G_class1: 0.0203 Loss_G_class2: 0.0169: 100%|██████████| 26/26 [00:36<00:00,  1.39s/it]\n",
      "[Validating]: Acc_D: 0.7391: 100%|██████████| 23/23 [00:02<00:00,  8.59it/s]\n",
      "  0%|          | 0/26 [00:00<?, ?it/s]"
     ]
    },
    {
     "name": "stdout",
     "output_type": "stream",
     "text": [
      "\n",
      "Valid Acc = 0.7391304347826086\n",
      "Valid Loss = 0.6923403221627941\n"
     ]
    },
    {
     "name": "stderr",
     "output_type": "stream",
     "text": [
      "[4/50] Loss_D: 0.2857 Acc_D: 0.7129 Loss_G_class1: 0.0198 Loss_G_class2: 0.0170: 100%|██████████| 26/26 [00:38<00:00,  1.47s/it]\n",
      "[Validating]: Acc_D: 0.6957: 100%|██████████| 23/23 [00:02<00:00,  8.77it/s]\n",
      "  0%|          | 0/26 [00:00<?, ?it/s]"
     ]
    },
    {
     "name": "stdout",
     "output_type": "stream",
     "text": [
      "\n",
      "Valid Acc = 0.6956521739130435\n",
      "Valid Loss = 0.9339130488426789\n",
      "EarlyStopping counter: 1 out of 10\n"
     ]
    },
    {
     "name": "stderr",
     "output_type": "stream",
     "text": [
      "[5/50] Loss_D: 0.2675 Acc_D: 0.7450 Loss_G_class1: 0.0196 Loss_G_class2: 0.0141: 100%|██████████| 26/26 [00:37<00:00,  1.43s/it]\n",
      "[Validating]: Acc_D: 0.5217: 100%|██████████| 23/23 [00:00<00:00, 32.48it/s]\n",
      "  0%|          | 0/26 [00:00<?, ?it/s]"
     ]
    },
    {
     "name": "stdout",
     "output_type": "stream",
     "text": [
      "\n",
      "Valid Acc = 0.5217391304347826\n",
      "Valid Loss = 1.5391942844928608\n",
      "EarlyStopping counter: 2 out of 10\n"
     ]
    },
    {
     "name": "stderr",
     "output_type": "stream",
     "text": [
      "[6/50] Loss_D: 0.2537 Acc_D: 0.7252 Loss_G_class1: 0.0102 Loss_G_class2: 0.0207: 100%|██████████| 26/26 [00:36<00:00,  1.40s/it]\n",
      "[Validating]: Acc_D: 0.7826: 100%|██████████| 23/23 [00:02<00:00,  7.92it/s]\n",
      "  0%|          | 0/26 [00:00<?, ?it/s]"
     ]
    },
    {
     "name": "stdout",
     "output_type": "stream",
     "text": [
      "\n",
      "Valid Acc = 0.782608695652174\n",
      "Valid Loss = 0.6894416679506716\n"
     ]
    },
    {
     "name": "stderr",
     "output_type": "stream",
     "text": [
      "[7/50] Loss_D: 0.2062 Acc_D: 0.8144 Loss_G_class1: 0.0126 Loss_G_class2: 0.0127: 100%|██████████| 26/26 [00:36<00:00,  1.40s/it]\n",
      "[Validating]: Acc_D: 0.6087: 100%|██████████| 23/23 [00:01<00:00, 14.92it/s]\n",
      "  0%|          | 0/26 [00:00<?, ?it/s]"
     ]
    },
    {
     "name": "stdout",
     "output_type": "stream",
     "text": [
      "\n",
      "Valid Acc = 0.6086956521739131\n",
      "Valid Loss = 0.8978462504303973\n",
      "EarlyStopping counter: 1 out of 10\n"
     ]
    },
    {
     "name": "stderr",
     "output_type": "stream",
     "text": [
      "[8/50] Loss_D: 0.1773 Acc_D: 0.8614 Loss_G_class1: 0.0129 Loss_G_class2: 0.0107: 100%|██████████| 26/26 [00:37<00:00,  1.43s/it]\n",
      "[Validating]: Acc_D: 0.6522: 100%|██████████| 23/23 [00:03<00:00,  6.49it/s]\n",
      "  0%|          | 0/26 [00:00<?, ?it/s]"
     ]
    },
    {
     "name": "stdout",
     "output_type": "stream",
     "text": [
      "\n",
      "Valid Acc = 0.6521739130434783\n",
      "Valid Loss = 1.0729294420908326\n",
      "EarlyStopping counter: 2 out of 10\n"
     ]
    },
    {
     "name": "stderr",
     "output_type": "stream",
     "text": [
      "[9/50] Loss_D: 0.1806 Acc_D: 0.8366 Loss_G_class1: 0.0125 Loss_G_class2: 0.0114: 100%|██████████| 26/26 [00:36<00:00,  1.40s/it]\n",
      "[Validating]: Acc_D: 0.4348: 100%|██████████| 23/23 [00:00<00:00, 30.53it/s]\n",
      "  0%|          | 0/26 [00:00<?, ?it/s]"
     ]
    },
    {
     "name": "stdout",
     "output_type": "stream",
     "text": [
      "\n",
      "Valid Acc = 0.43478260869565216\n",
      "Valid Loss = 1.1331503903088362\n",
      "EarlyStopping counter: 3 out of 10\n"
     ]
    },
    {
     "name": "stderr",
     "output_type": "stream",
     "text": [
      "[10/50] Loss_D: 0.1699 Acc_D: 0.8416 Loss_G_class1: 0.0136 Loss_G_class2: 0.0107: 100%|██████████| 26/26 [00:36<00:00,  1.40s/it]\n",
      "[Validating]: Acc_D: 0.6087: 100%|██████████| 23/23 [00:02<00:00, 10.32it/s]\n",
      "  0%|          | 0/26 [00:00<?, ?it/s]"
     ]
    },
    {
     "name": "stdout",
     "output_type": "stream",
     "text": [
      "\n",
      "Valid Acc = 0.6086956521739131\n",
      "Valid Loss = 0.873130450754062\n",
      "EarlyStopping counter: 4 out of 10\n"
     ]
    },
    {
     "name": "stderr",
     "output_type": "stream",
     "text": [
      "[11/50] Loss_D: 0.1365 Acc_D: 0.8861 Loss_G_class1: 0.0099 Loss_G_class2: 0.0089: 100%|██████████| 26/26 [00:36<00:00,  1.41s/it]\n",
      "[Validating]: Acc_D: 0.6522: 100%|██████████| 23/23 [00:01<00:00, 17.80it/s]\n",
      "  0%|          | 0/26 [00:00<?, ?it/s]"
     ]
    },
    {
     "name": "stdout",
     "output_type": "stream",
     "text": [
      "\n",
      "Valid Acc = 0.6521739130434783\n",
      "Valid Loss = 1.302487801598466\n",
      "EarlyStopping counter: 5 out of 10\n"
     ]
    },
    {
     "name": "stderr",
     "output_type": "stream",
     "text": [
      "[12/50] Loss_D: 0.1460 Acc_D: 0.8688 Loss_G_class1: 0.0103 Loss_G_class2: 0.0098: 100%|██████████| 26/26 [00:36<00:00,  1.40s/it]\n",
      "[Validating]: Acc_D: 0.6957: 100%|██████████| 23/23 [00:00<00:00, 31.24it/s]\n",
      "  0%|          | 0/26 [00:00<?, ?it/s]"
     ]
    },
    {
     "name": "stdout",
     "output_type": "stream",
     "text": [
      "\n",
      "Valid Acc = 0.6956521739130435\n",
      "Valid Loss = 0.9600926832012509\n",
      "EarlyStopping counter: 6 out of 10\n"
     ]
    },
    {
     "name": "stderr",
     "output_type": "stream",
     "text": [
      "[13/50] Loss_D: 0.1296 Acc_D: 0.8985 Loss_G_class1: 0.0095 Loss_G_class2: 0.0093: 100%|██████████| 26/26 [00:36<00:00,  1.40s/it]\n",
      "[Validating]: Acc_D: 0.4783: 100%|██████████| 23/23 [00:00<00:00, 32.21it/s]\n",
      "  0%|          | 0/26 [00:00<?, ?it/s]"
     ]
    },
    {
     "name": "stdout",
     "output_type": "stream",
     "text": [
      "\n",
      "Valid Acc = 0.4782608695652174\n",
      "Valid Loss = 1.2366683487982855\n",
      "EarlyStopping counter: 7 out of 10\n"
     ]
    },
    {
     "name": "stderr",
     "output_type": "stream",
     "text": [
      "[14/50] Loss_D: 0.1212 Acc_D: 0.9035 Loss_G_class1: 0.0088 Loss_G_class2: 0.0094: 100%|██████████| 26/26 [00:36<00:00,  1.42s/it]\n",
      "[Validating]: Acc_D: 0.6957: 100%|██████████| 23/23 [00:02<00:00, 10.65it/s]\n",
      "  0%|          | 0/26 [00:00<?, ?it/s]"
     ]
    },
    {
     "name": "stdout",
     "output_type": "stream",
     "text": [
      "\n",
      "Valid Acc = 0.6956521739130435\n",
      "Valid Loss = 0.998969194681748\n",
      "EarlyStopping counter: 8 out of 10\n"
     ]
    },
    {
     "name": "stderr",
     "output_type": "stream",
     "text": [
      "[15/50] Loss_D: 0.0936 Acc_D: 0.9381 Loss_G_class1: 0.0073 Loss_G_class2: 0.0073: 100%|██████████| 26/26 [00:36<00:00,  1.40s/it]\n",
      "[Validating]: Acc_D: 0.5652: 100%|██████████| 23/23 [00:01<00:00, 11.91it/s]\n",
      "  0%|          | 0/26 [00:00<?, ?it/s]"
     ]
    },
    {
     "name": "stdout",
     "output_type": "stream",
     "text": [
      "\n",
      "Valid Acc = 0.5652173913043478\n",
      "Valid Loss = 1.4431310088738152\n",
      "EarlyStopping counter: 9 out of 10\n"
     ]
    },
    {
     "name": "stderr",
     "output_type": "stream",
     "text": [
      "[16/50] Loss_D: 0.1244 Acc_D: 0.9010 Loss_G_class1: 0.0104 Loss_G_class2: 0.0080: 100%|██████████| 26/26 [00:36<00:00,  1.42s/it]\n",
      "[Validating]: Acc_D: 0.6087: 100%|██████████| 23/23 [00:00<00:00, 34.40it/s]\n",
      "  0%|          | 0/23 [00:00<?, ?it/s]"
     ]
    },
    {
     "name": "stdout",
     "output_type": "stream",
     "text": [
      "\n",
      "Valid Acc = 0.6086956521739131\n",
      "Valid Loss = 1.6001119107493889\n",
      "EarlyStopping counter: 10 out of 10\n",
      "Early stopping, epoch 16\n"
     ]
    },
    {
     "name": "stderr",
     "output_type": "stream",
     "text": [
      "[Validating]: Acc_D: 0.6087: 100%|██████████| 23/23 [00:00<00:00, 34.74it/s]\n",
      "  0%|          | 0/23 [00:00<?, ?it/s]"
     ]
    },
    {
     "name": "stdout",
     "output_type": "stream",
     "text": [
      "[INFO] Summary of training for LAMBDA = 0.05 (best model values)\n",
      "Valid Acc = 0.6086956521739131\n",
      "Valid Loss = 0.6995087175265603\n",
      "Training node 1\n",
      "[INFO] weights = [0.83471074 1.        ]\n"
     ]
    },
    {
     "name": "stderr",
     "output_type": "stream",
     "text": [
      "[Validating]: Acc_D: 0.3913: 100%|██████████| 23/23 [00:00<00:00, 35.48it/s]\n"
     ]
    },
    {
     "name": "stdout",
     "output_type": "stream",
     "text": [
      "[INFO] LAMBDA: 0.05\n"
     ]
    },
    {
     "name": "stderr",
     "output_type": "stream",
     "text": [
      "[Validating]: Acc_D: 0.3913: 100%|██████████| 23/23 [00:01<00:00, 17.01it/s]\n",
      "[1/50] Loss_D: 0.4482 Acc_D: 0.5779 Loss_G_class1: 0.1172 Loss_G_class2: 0.1459: 100%|██████████| 25/25 [00:35<00:00,  1.44s/it]\n",
      "[Validating]: Acc_D: 0.6522: 100%|██████████| 23/23 [00:00<00:00, 33.60it/s]\n",
      "  0%|          | 0/25 [00:00<?, ?it/s]"
     ]
    },
    {
     "name": "stdout",
     "output_type": "stream",
     "text": [
      "\n",
      "Valid Acc = 0.6521739130434783\n",
      "Valid Loss = 0.8111272778200067\n"
     ]
    },
    {
     "name": "stderr",
     "output_type": "stream",
     "text": [
      "[2/50] Loss_D: 0.2831 Acc_D: 0.7161 Loss_G_class1: 0.0223 Loss_G_class2: 0.0269: 100%|██████████| 25/25 [00:35<00:00,  1.44s/it]\n",
      "[Validating]: Acc_D: 0.8261: 100%|██████████| 23/23 [00:01<00:00, 13.86it/s]\n",
      "  0%|          | 0/25 [00:00<?, ?it/s]"
     ]
    },
    {
     "name": "stdout",
     "output_type": "stream",
     "text": [
      "\n",
      "Valid Acc = 0.8260869565217391\n",
      "Valid Loss = 0.45015015258737234\n"
     ]
    },
    {
     "name": "stderr",
     "output_type": "stream",
     "text": [
      "[3/50] Loss_D: 0.2495 Acc_D: 0.7613 Loss_G_class1: 0.0179 Loss_G_class2: 0.0177: 100%|██████████| 25/25 [00:39<00:00,  1.60s/it]\n",
      "[Validating]: Acc_D: 0.6957: 100%|██████████| 23/23 [00:01<00:00, 14.97it/s]\n",
      "  0%|          | 0/25 [00:00<?, ?it/s]"
     ]
    },
    {
     "name": "stdout",
     "output_type": "stream",
     "text": [
      "\n",
      "Valid Acc = 0.6956521739130435\n",
      "Valid Loss = 0.6683615439611933\n",
      "EarlyStopping counter: 1 out of 10\n"
     ]
    },
    {
     "name": "stderr",
     "output_type": "stream",
     "text": [
      "[4/50] Loss_D: 0.2196 Acc_D: 0.7990 Loss_G_class1: 0.0151 Loss_G_class2: 0.0150: 100%|██████████| 25/25 [00:36<00:00,  1.45s/it]\n",
      "[Validating]: Acc_D: 0.8261: 100%|██████████| 23/23 [00:00<00:00, 32.72it/s]\n",
      "  0%|          | 0/25 [00:00<?, ?it/s]"
     ]
    },
    {
     "name": "stdout",
     "output_type": "stream",
     "text": [
      "\n",
      "Valid Acc = 0.8260869565217391\n",
      "Valid Loss = 0.541494655220405\n",
      "EarlyStopping counter: 2 out of 10\n"
     ]
    },
    {
     "name": "stderr",
     "output_type": "stream",
     "text": [
      "[5/50] Loss_D: 0.1995 Acc_D: 0.7940 Loss_G_class1: 0.0128 Loss_G_class2: 0.0141: 100%|██████████| 25/25 [00:35<00:00,  1.43s/it]\n",
      "[Validating]: Acc_D: 0.6957: 100%|██████████| 23/23 [00:00<00:00, 33.50it/s]\n",
      "  0%|          | 0/25 [00:00<?, ?it/s]"
     ]
    },
    {
     "name": "stdout",
     "output_type": "stream",
     "text": [
      "\n",
      "Valid Acc = 0.6956521739130435\n",
      "Valid Loss = 0.8837818412677102\n",
      "EarlyStopping counter: 3 out of 10\n"
     ]
    },
    {
     "name": "stderr",
     "output_type": "stream",
     "text": [
      "[6/50] Loss_D: 0.1644 Acc_D: 0.8618 Loss_G_class1: 0.0144 Loss_G_class2: 0.0120: 100%|██████████| 25/25 [00:35<00:00,  1.44s/it]\n",
      "[Validating]: Acc_D: 0.7826: 100%|██████████| 23/23 [00:01<00:00, 14.36it/s]\n",
      "  0%|          | 0/25 [00:00<?, ?it/s]"
     ]
    },
    {
     "name": "stdout",
     "output_type": "stream",
     "text": [
      "\n",
      "Valid Acc = 0.782608695652174\n",
      "Valid Loss = 0.6207274286197904\n",
      "EarlyStopping counter: 4 out of 10\n"
     ]
    },
    {
     "name": "stderr",
     "output_type": "stream",
     "text": [
      "[7/50] Loss_D: 0.1184 Acc_D: 0.8920 Loss_G_class1: 0.0089 Loss_G_class2: 0.0107: 100%|██████████| 25/25 [00:37<00:00,  1.49s/it]\n",
      "[Validating]: Acc_D: 0.7826: 100%|██████████| 23/23 [00:00<00:00, 33.42it/s]\n",
      "  0%|          | 0/25 [00:00<?, ?it/s]"
     ]
    },
    {
     "name": "stdout",
     "output_type": "stream",
     "text": [
      "\n",
      "Valid Acc = 0.782608695652174\n",
      "Valid Loss = 0.43684717729363753\n"
     ]
    },
    {
     "name": "stderr",
     "output_type": "stream",
     "text": [
      "[8/50] Loss_D: 0.1218 Acc_D: 0.8995 Loss_G_class1: 0.0091 Loss_G_class2: 0.0098: 100%|██████████| 25/25 [00:37<00:00,  1.50s/it]\n",
      "[Validating]: Acc_D: 0.6522: 100%|██████████| 23/23 [00:00<00:00, 31.77it/s]\n",
      "  0%|          | 0/25 [00:00<?, ?it/s]"
     ]
    },
    {
     "name": "stdout",
     "output_type": "stream",
     "text": [
      "\n",
      "Valid Acc = 0.6521739130434783\n",
      "Valid Loss = 1.2815020822960397\n",
      "EarlyStopping counter: 1 out of 10\n"
     ]
    },
    {
     "name": "stderr",
     "output_type": "stream",
     "text": [
      "[9/50] Loss_D: 0.1141 Acc_D: 0.8995 Loss_G_class1: 0.0101 Loss_G_class2: 0.0087: 100%|██████████| 25/25 [00:36<00:00,  1.47s/it]\n",
      "[Validating]: Acc_D: 0.8261: 100%|██████████| 23/23 [00:00<00:00, 33.69it/s]\n",
      "  0%|          | 0/25 [00:00<?, ?it/s]"
     ]
    },
    {
     "name": "stdout",
     "output_type": "stream",
     "text": [
      "\n",
      "Valid Acc = 0.8260869565217391\n",
      "Valid Loss = 0.6781988402261682\n",
      "EarlyStopping counter: 2 out of 10\n"
     ]
    },
    {
     "name": "stderr",
     "output_type": "stream",
     "text": [
      "[10/50] Loss_D: 0.0912 Acc_D: 0.9121 Loss_G_class1: 0.0076 Loss_G_class2: 0.0084: 100%|██████████| 25/25 [00:35<00:00,  1.44s/it]\n",
      "[Validating]: Acc_D: 0.6957: 100%|██████████| 23/23 [00:03<00:00,  7.57it/s]\n",
      "  0%|          | 0/25 [00:00<?, ?it/s]"
     ]
    },
    {
     "name": "stdout",
     "output_type": "stream",
     "text": [
      "\n",
      "Valid Acc = 0.6956521739130435\n",
      "Valid Loss = 0.7863435639959314\n",
      "EarlyStopping counter: 3 out of 10\n"
     ]
    },
    {
     "name": "stderr",
     "output_type": "stream",
     "text": [
      "[11/50] Loss_D: 0.0835 Acc_D: 0.9372 Loss_G_class1: 0.0088 Loss_G_class2: 0.0064: 100%|██████████| 25/25 [00:37<00:00,  1.51s/it]\n",
      "[Validating]: Acc_D: 0.6522: 100%|██████████| 23/23 [00:00<00:00, 32.29it/s]\n",
      "  0%|          | 0/25 [00:00<?, ?it/s]"
     ]
    },
    {
     "name": "stdout",
     "output_type": "stream",
     "text": [
      "\n",
      "Valid Acc = 0.6521739130434783\n",
      "Valid Loss = 1.2101526058724392\n",
      "EarlyStopping counter: 4 out of 10\n"
     ]
    },
    {
     "name": "stderr",
     "output_type": "stream",
     "text": [
      "[12/50] Loss_D: 0.0655 Acc_D: 0.9523 Loss_G_class1: 0.0072 Loss_G_class2: 0.0058: 100%|██████████| 25/25 [00:36<00:00,  1.45s/it]\n",
      "[Validating]: Acc_D: 0.6957: 100%|██████████| 23/23 [00:00<00:00, 33.44it/s]\n",
      "  0%|          | 0/25 [00:00<?, ?it/s]"
     ]
    },
    {
     "name": "stdout",
     "output_type": "stream",
     "text": [
      "\n",
      "Valid Acc = 0.6956521739130435\n",
      "Valid Loss = 0.7641653081847598\n",
      "EarlyStopping counter: 5 out of 10\n"
     ]
    },
    {
     "name": "stderr",
     "output_type": "stream",
     "text": [
      "[13/50] Loss_D: 0.0831 Acc_D: 0.9347 Loss_G_class1: 0.0075 Loss_G_class2: 0.0073: 100%|██████████| 25/25 [00:36<00:00,  1.46s/it]\n",
      "[Validating]: Acc_D: 0.6957: 100%|██████████| 23/23 [00:03<00:00,  7.13it/s]\n",
      "  0%|          | 0/25 [00:00<?, ?it/s]"
     ]
    },
    {
     "name": "stdout",
     "output_type": "stream",
     "text": [
      "\n",
      "Valid Acc = 0.6956521739130435\n",
      "Valid Loss = 0.876377747013264\n",
      "EarlyStopping counter: 6 out of 10\n"
     ]
    },
    {
     "name": "stderr",
     "output_type": "stream",
     "text": [
      "[14/50] Loss_D: 0.0655 Acc_D: 0.9523 Loss_G_class1: 0.0065 Loss_G_class2: 0.0054: 100%|██████████| 25/25 [00:36<00:00,  1.47s/it]\n",
      "[Validating]: Acc_D: 0.7391: 100%|██████████| 23/23 [00:02<00:00, 10.43it/s]\n",
      "  0%|          | 0/25 [00:00<?, ?it/s]"
     ]
    },
    {
     "name": "stdout",
     "output_type": "stream",
     "text": [
      "\n",
      "Valid Acc = 0.7391304347826086\n",
      "Valid Loss = 1.0602057983500266\n",
      "EarlyStopping counter: 7 out of 10\n"
     ]
    },
    {
     "name": "stderr",
     "output_type": "stream",
     "text": [
      "[15/50] Loss_D: 0.0908 Acc_D: 0.9171 Loss_G_class1: 0.0073 Loss_G_class2: 0.0079: 100%|██████████| 25/25 [00:35<00:00,  1.43s/it]\n",
      "[Validating]: Acc_D: 0.6957: 100%|██████████| 23/23 [00:01<00:00, 15.45it/s]\n",
      "  0%|          | 0/25 [00:00<?, ?it/s]"
     ]
    },
    {
     "name": "stdout",
     "output_type": "stream",
     "text": [
      "\n",
      "Valid Acc = 0.6956521739130435\n",
      "Valid Loss = 0.6898005203060482\n",
      "EarlyStopping counter: 8 out of 10\n"
     ]
    },
    {
     "name": "stderr",
     "output_type": "stream",
     "text": [
      "[16/50] Loss_D: 0.0732 Acc_D: 0.9497 Loss_G_class1: 0.0061 Loss_G_class2: 0.0072: 100%|██████████| 25/25 [00:35<00:00,  1.43s/it]\n",
      "[Validating]: Acc_D: 0.7391: 100%|██████████| 23/23 [00:02<00:00,  9.82it/s]\n",
      "  0%|          | 0/25 [00:00<?, ?it/s]"
     ]
    },
    {
     "name": "stdout",
     "output_type": "stream",
     "text": [
      "\n",
      "Valid Acc = 0.7391304347826086\n",
      "Valid Loss = 0.9097748606297461\n",
      "EarlyStopping counter: 9 out of 10\n"
     ]
    },
    {
     "name": "stderr",
     "output_type": "stream",
     "text": [
      "[17/50] Loss_D: 0.0694 Acc_D: 0.9548 Loss_G_class1: 0.0058 Loss_G_class2: 0.0053: 100%|██████████| 25/25 [00:35<00:00,  1.43s/it]\n",
      "[Validating]: Acc_D: 0.8261: 100%|██████████| 23/23 [00:00<00:00, 33.19it/s]\n",
      "  0%|          | 0/23 [00:00<?, ?it/s]"
     ]
    },
    {
     "name": "stdout",
     "output_type": "stream",
     "text": [
      "\n",
      "Valid Acc = 0.8260869565217391\n",
      "Valid Loss = 0.805582619920049\n",
      "EarlyStopping counter: 10 out of 10\n",
      "Early stopping, epoch 17\n"
     ]
    },
    {
     "name": "stderr",
     "output_type": "stream",
     "text": [
      "[Validating]: Acc_D: 0.7826: 100%|██████████| 23/23 [00:00<00:00, 31.94it/s]\n",
      "  0%|          | 0/24 [00:00<?, ?it/s]"
     ]
    },
    {
     "name": "stdout",
     "output_type": "stream",
     "text": [
      "[INFO] Summary of training for LAMBDA = 0.05 (best model values)\n",
      "Valid Acc = 0.782608695652174\n",
      "Valid Loss = 0.8547412001568339\n",
      "Training node 2\n",
      "[INFO] weights = [1.       0.828125]\n"
     ]
    },
    {
     "name": "stderr",
     "output_type": "stream",
     "text": [
      "[Validating]: Acc_D: 0.4583: 100%|██████████| 24/24 [00:00<00:00, 34.92it/s]\n"
     ]
    },
    {
     "name": "stdout",
     "output_type": "stream",
     "text": [
      "[INFO] LAMBDA: 0.05\n"
     ]
    },
    {
     "name": "stderr",
     "output_type": "stream",
     "text": [
      "[Validating]: Acc_D: 0.4583: 100%|██████████| 24/24 [00:00<00:00, 27.22it/s]\n",
      "[1/50] Loss_D: 0.4319 Acc_D: 0.6119 Loss_G_class1: 0.1240 Loss_G_class2: 0.1389: 100%|██████████| 27/27 [00:37<00:00,  1.40s/it]\n",
      "[Validating]: Acc_D: 0.7500: 100%|██████████| 24/24 [00:02<00:00, 10.10it/s]\n",
      "  0%|          | 0/27 [00:00<?, ?it/s]"
     ]
    },
    {
     "name": "stdout",
     "output_type": "stream",
     "text": [
      "\n",
      "Valid Acc = 0.75\n",
      "Valid Loss = 0.5936628505587578\n"
     ]
    },
    {
     "name": "stderr",
     "output_type": "stream",
     "text": [
      "[2/50] Loss_D: 0.2960 Acc_D: 0.6881 Loss_G_class1: 0.0262 Loss_G_class2: 0.0237: 100%|██████████| 27/27 [00:37<00:00,  1.40s/it]\n",
      "[Validating]: Acc_D: 0.7500: 100%|██████████| 24/24 [00:05<00:00,  4.27it/s]\n",
      "  0%|          | 0/27 [00:00<?, ?it/s]"
     ]
    },
    {
     "name": "stdout",
     "output_type": "stream",
     "text": [
      "\n",
      "Valid Acc = 0.75\n",
      "Valid Loss = 0.5385719755043586\n"
     ]
    },
    {
     "name": "stderr",
     "output_type": "stream",
     "text": [
      "[3/50] Loss_D: 0.2473 Acc_D: 0.7667 Loss_G_class1: 0.0176 Loss_G_class2: 0.0169: 100%|██████████| 27/27 [00:40<00:00,  1.51s/it]\n",
      "[Validating]: Acc_D: 0.6250: 100%|██████████| 24/24 [00:02<00:00, 11.80it/s]\n",
      "  0%|          | 0/27 [00:00<?, ?it/s]"
     ]
    },
    {
     "name": "stdout",
     "output_type": "stream",
     "text": [
      "\n",
      "Valid Acc = 0.625\n",
      "Valid Loss = 0.6689012253967425\n",
      "EarlyStopping counter: 1 out of 10\n"
     ]
    },
    {
     "name": "stderr",
     "output_type": "stream",
     "text": [
      "[4/50] Loss_D: 0.2504 Acc_D: 0.7571 Loss_G_class1: 0.0184 Loss_G_class2: 0.0152: 100%|██████████| 27/27 [00:38<00:00,  1.42s/it]\n",
      "[Validating]: Acc_D: 0.7917: 100%|██████████| 24/24 [00:00<00:00, 35.70it/s]\n",
      "  0%|          | 0/27 [00:00<?, ?it/s]"
     ]
    },
    {
     "name": "stdout",
     "output_type": "stream",
     "text": [
      "\n",
      "Valid Acc = 0.7916666666666666\n",
      "Valid Loss = 0.5888022153327862\n",
      "EarlyStopping counter: 2 out of 10\n"
     ]
    },
    {
     "name": "stderr",
     "output_type": "stream",
     "text": [
      "[5/50] Loss_D: 0.2204 Acc_D: 0.8000 Loss_G_class1: 0.0167 Loss_G_class2: 0.0139: 100%|██████████| 27/27 [00:37<00:00,  1.40s/it]\n",
      "[Validating]: Acc_D: 0.6667: 100%|██████████| 24/24 [00:00<00:00, 34.94it/s]\n",
      "  0%|          | 0/27 [00:00<?, ?it/s]"
     ]
    },
    {
     "name": "stdout",
     "output_type": "stream",
     "text": [
      "\n",
      "Valid Acc = 0.6666666666666666\n",
      "Valid Loss = 0.8542049409200748\n",
      "EarlyStopping counter: 3 out of 10\n"
     ]
    },
    {
     "name": "stderr",
     "output_type": "stream",
     "text": [
      "[6/50] Loss_D: 0.1890 Acc_D: 0.8429 Loss_G_class1: 0.0127 Loss_G_class2: 0.0134: 100%|██████████| 27/27 [00:39<00:00,  1.45s/it]\n",
      "[Validating]: Acc_D: 0.7917: 100%|██████████| 24/24 [00:01<00:00, 16.15it/s]\n",
      "  0%|          | 0/27 [00:00<?, ?it/s]"
     ]
    },
    {
     "name": "stdout",
     "output_type": "stream",
     "text": [
      "\n",
      "Valid Acc = 0.7916666666666666\n",
      "Valid Loss = 0.4777667298913002\n"
     ]
    },
    {
     "name": "stderr",
     "output_type": "stream",
     "text": [
      "[7/50] Loss_D: 0.1737 Acc_D: 0.8405 Loss_G_class1: 0.0123 Loss_G_class2: 0.0118: 100%|██████████| 27/27 [00:40<00:00,  1.50s/it]\n",
      "[Validating]: Acc_D: 0.8333: 100%|██████████| 24/24 [00:01<00:00, 14.52it/s]\n",
      "  0%|          | 0/27 [00:00<?, ?it/s]"
     ]
    },
    {
     "name": "stdout",
     "output_type": "stream",
     "text": [
      "\n",
      "Valid Acc = 0.8333333333333334\n",
      "Valid Loss = 0.6290932726114988\n",
      "EarlyStopping counter: 1 out of 10\n"
     ]
    },
    {
     "name": "stderr",
     "output_type": "stream",
     "text": [
      "[8/50] Loss_D: 0.1525 Acc_D: 0.8595 Loss_G_class1: 0.0108 Loss_G_class2: 0.0107: 100%|██████████| 27/27 [00:37<00:00,  1.40s/it]\n",
      "[Validating]: Acc_D: 0.7500: 100%|██████████| 24/24 [00:01<00:00, 15.41it/s]\n",
      "  0%|          | 0/27 [00:00<?, ?it/s]"
     ]
    },
    {
     "name": "stdout",
     "output_type": "stream",
     "text": [
      "\n",
      "Valid Acc = 0.75\n",
      "Valid Loss = 0.736982688618203\n",
      "EarlyStopping counter: 2 out of 10\n"
     ]
    },
    {
     "name": "stderr",
     "output_type": "stream",
     "text": [
      "[9/50] Loss_D: 0.1573 Acc_D: 0.8595 Loss_G_class1: 0.0111 Loss_G_class2: 0.0119: 100%|██████████| 27/27 [00:37<00:00,  1.40s/it]\n",
      "[Validating]: Acc_D: 0.7500: 100%|██████████| 24/24 [00:00<00:00, 34.50it/s]\n",
      "  0%|          | 0/27 [00:00<?, ?it/s]"
     ]
    },
    {
     "name": "stdout",
     "output_type": "stream",
     "text": [
      "\n",
      "Valid Acc = 0.75\n",
      "Valid Loss = 0.4323978318522374\n"
     ]
    },
    {
     "name": "stderr",
     "output_type": "stream",
     "text": [
      "[10/50] Loss_D: 0.1555 Acc_D: 0.8738 Loss_G_class1: 0.0118 Loss_G_class2: 0.0101: 100%|██████████| 27/27 [00:39<00:00,  1.47s/it]\n",
      "[Validating]: Acc_D: 0.7500: 100%|██████████| 24/24 [00:00<00:00, 31.54it/s]\n",
      "  0%|          | 0/27 [00:00<?, ?it/s]"
     ]
    },
    {
     "name": "stdout",
     "output_type": "stream",
     "text": [
      "\n",
      "Valid Acc = 0.75\n",
      "Valid Loss = 0.8123262313505014\n",
      "EarlyStopping counter: 1 out of 10\n"
     ]
    },
    {
     "name": "stderr",
     "output_type": "stream",
     "text": [
      "[11/50] Loss_D: 0.1368 Acc_D: 0.8881 Loss_G_class1: 0.0113 Loss_G_class2: 0.0093: 100%|██████████| 27/27 [00:39<00:00,  1.45s/it]\n",
      "[Validating]: Acc_D: 0.8750: 100%|██████████| 24/24 [00:01<00:00, 14.00it/s]\n",
      "  0%|          | 0/27 [00:00<?, ?it/s]"
     ]
    },
    {
     "name": "stdout",
     "output_type": "stream",
     "text": [
      "\n",
      "Valid Acc = 0.875\n",
      "Valid Loss = 0.4418488061055541\n",
      "EarlyStopping counter: 2 out of 10\n"
     ]
    },
    {
     "name": "stderr",
     "output_type": "stream",
     "text": [
      "[12/50] Loss_D: 0.1444 Acc_D: 0.8810 Loss_G_class1: 0.0103 Loss_G_class2: 0.0106: 100%|██████████| 27/27 [00:38<00:00,  1.44s/it]\n",
      "[Validating]: Acc_D: 0.7917: 100%|██████████| 24/24 [00:00<00:00, 31.99it/s]\n",
      "  0%|          | 0/27 [00:00<?, ?it/s]"
     ]
    },
    {
     "name": "stdout",
     "output_type": "stream",
     "text": [
      "\n",
      "Valid Acc = 0.7916666666666666\n",
      "Valid Loss = 0.4766076131102939\n",
      "EarlyStopping counter: 3 out of 10\n"
     ]
    },
    {
     "name": "stderr",
     "output_type": "stream",
     "text": [
      "[13/50] Loss_D: 0.1229 Acc_D: 0.9048 Loss_G_class1: 0.0083 Loss_G_class2: 0.0091: 100%|██████████| 27/27 [00:37<00:00,  1.40s/it]\n",
      "[Validating]: Acc_D: 0.7917: 100%|██████████| 24/24 [00:00<00:00, 32.92it/s]\n",
      "  0%|          | 0/27 [00:00<?, ?it/s]"
     ]
    },
    {
     "name": "stdout",
     "output_type": "stream",
     "text": [
      "\n",
      "Valid Acc = 0.7916666666666666\n",
      "Valid Loss = 0.5894755534827709\n",
      "EarlyStopping counter: 4 out of 10\n"
     ]
    },
    {
     "name": "stderr",
     "output_type": "stream",
     "text": [
      "[14/50] Loss_D: 0.1307 Acc_D: 0.9048 Loss_G_class1: 0.0097 Loss_G_class2: 0.0087: 100%|██████████| 27/27 [00:37<00:00,  1.40s/it]\n",
      "[Validating]: Acc_D: 0.7917: 100%|██████████| 24/24 [00:00<00:00, 34.70it/s]\n",
      "  0%|          | 0/27 [00:00<?, ?it/s]"
     ]
    },
    {
     "name": "stdout",
     "output_type": "stream",
     "text": [
      "\n",
      "Valid Acc = 0.7916666666666666\n",
      "Valid Loss = 0.6953975247840086\n",
      "EarlyStopping counter: 5 out of 10\n"
     ]
    },
    {
     "name": "stderr",
     "output_type": "stream",
     "text": [
      "[15/50] Loss_D: 0.1481 Acc_D: 0.8810 Loss_G_class1: 0.0092 Loss_G_class2: 0.0106: 100%|██████████| 27/27 [00:38<00:00,  1.44s/it]\n",
      "[Validating]: Acc_D: 0.7500: 100%|██████████| 24/24 [00:01<00:00, 14.66it/s]\n",
      "  0%|          | 0/27 [00:00<?, ?it/s]"
     ]
    },
    {
     "name": "stdout",
     "output_type": "stream",
     "text": [
      "\n",
      "Valid Acc = 0.75\n",
      "Valid Loss = 0.5615521954993407\n",
      "EarlyStopping counter: 6 out of 10\n"
     ]
    },
    {
     "name": "stderr",
     "output_type": "stream",
     "text": [
      "[16/50] Loss_D: 0.1316 Acc_D: 0.8929 Loss_G_class1: 0.0087 Loss_G_class2: 0.0089: 100%|██████████| 27/27 [00:42<00:00,  1.56s/it]\n",
      "[Validating]: Acc_D: 0.8333: 100%|██████████| 24/24 [00:01<00:00, 12.58it/s]\n",
      "  0%|          | 0/27 [00:00<?, ?it/s]"
     ]
    },
    {
     "name": "stdout",
     "output_type": "stream",
     "text": [
      "\n",
      "Valid Acc = 0.8333333333333334\n",
      "Valid Loss = 0.5624654876689116\n",
      "EarlyStopping counter: 7 out of 10\n"
     ]
    },
    {
     "name": "stderr",
     "output_type": "stream",
     "text": [
      "[17/50] Loss_D: 0.1344 Acc_D: 0.8833 Loss_G_class1: 0.0090 Loss_G_class2: 0.0109: 100%|██████████| 27/27 [00:38<00:00,  1.44s/it]\n",
      "[Validating]: Acc_D: 0.7500: 100%|██████████| 24/24 [00:00<00:00, 33.88it/s]\n",
      "  0%|          | 0/27 [00:00<?, ?it/s]"
     ]
    },
    {
     "name": "stdout",
     "output_type": "stream",
     "text": [
      "\n",
      "Valid Acc = 0.75\n",
      "Valid Loss = 0.7692466483761867\n",
      "EarlyStopping counter: 8 out of 10\n"
     ]
    },
    {
     "name": "stderr",
     "output_type": "stream",
     "text": [
      "[18/50] Loss_D: 0.1320 Acc_D: 0.9167 Loss_G_class1: 0.0093 Loss_G_class2: 0.0094: 100%|██████████| 27/27 [00:37<00:00,  1.40s/it]\n",
      "[Validating]: Acc_D: 0.6667: 100%|██████████| 24/24 [00:00<00:00, 32.95it/s]\n",
      "  0%|          | 0/27 [00:00<?, ?it/s]"
     ]
    },
    {
     "name": "stdout",
     "output_type": "stream",
     "text": [
      "\n",
      "Valid Acc = 0.6666666666666666\n",
      "Valid Loss = 0.8964312796015292\n",
      "EarlyStopping counter: 9 out of 10\n"
     ]
    },
    {
     "name": "stderr",
     "output_type": "stream",
     "text": [
      "[19/50] Loss_D: 0.1372 Acc_D: 0.8857 Loss_G_class1: 0.0097 Loss_G_class2: 0.0100: 100%|██████████| 27/27 [00:38<00:00,  1.43s/it]\n",
      "[Validating]: Acc_D: 0.7917: 100%|██████████| 24/24 [00:00<00:00, 33.52it/s]\n",
      "  0%|          | 0/27 [00:00<?, ?it/s]"
     ]
    },
    {
     "name": "stdout",
     "output_type": "stream",
     "text": [
      "\n",
      "Valid Acc = 0.7916666666666666\n",
      "Valid Loss = 0.36004532935718697\n"
     ]
    },
    {
     "name": "stderr",
     "output_type": "stream",
     "text": [
      "[20/50] Loss_D: 0.1264 Acc_D: 0.9119 Loss_G_class1: 0.0082 Loss_G_class2: 0.0095: 100%|██████████| 27/27 [00:38<00:00,  1.42s/it]\n",
      "[Validating]: Acc_D: 0.7500: 100%|██████████| 24/24 [00:02<00:00,  9.64it/s]\n",
      "  0%|          | 0/27 [00:00<?, ?it/s]"
     ]
    },
    {
     "name": "stdout",
     "output_type": "stream",
     "text": [
      "\n",
      "Valid Acc = 0.75\n",
      "Valid Loss = 0.4631953189770381\n",
      "EarlyStopping counter: 1 out of 10\n"
     ]
    },
    {
     "name": "stderr",
     "output_type": "stream",
     "text": [
      "[21/50] Loss_D: 0.1310 Acc_D: 0.8952 Loss_G_class1: 0.0076 Loss_G_class2: 0.0101: 100%|██████████| 27/27 [00:38<00:00,  1.42s/it]\n",
      "[Validating]: Acc_D: 0.8333: 100%|██████████| 24/24 [00:01<00:00, 18.19it/s]\n",
      "  0%|          | 0/27 [00:00<?, ?it/s]"
     ]
    },
    {
     "name": "stdout",
     "output_type": "stream",
     "text": [
      "\n",
      "Valid Acc = 0.8333333333333334\n",
      "Valid Loss = 0.5737002919583271\n",
      "EarlyStopping counter: 2 out of 10\n"
     ]
    },
    {
     "name": "stderr",
     "output_type": "stream",
     "text": [
      "[22/50] Loss_D: 0.1281 Acc_D: 0.9167 Loss_G_class1: 0.0085 Loss_G_class2: 0.0085: 100%|██████████| 27/27 [00:39<00:00,  1.46s/it]\n",
      "[Validating]: Acc_D: 0.7917: 100%|██████████| 24/24 [00:00<00:00, 35.13it/s]\n",
      "  0%|          | 0/27 [00:00<?, ?it/s]"
     ]
    },
    {
     "name": "stdout",
     "output_type": "stream",
     "text": [
      "\n",
      "Valid Acc = 0.7916666666666666\n",
      "Valid Loss = 0.5875272379877666\n",
      "EarlyStopping counter: 3 out of 10\n"
     ]
    },
    {
     "name": "stderr",
     "output_type": "stream",
     "text": [
      "[23/50] Loss_D: 0.1091 Acc_D: 0.9238 Loss_G_class1: 0.0070 Loss_G_class2: 0.0077: 100%|██████████| 27/27 [00:37<00:00,  1.40s/it]\n",
      "[Validating]: Acc_D: 0.6667: 100%|██████████| 24/24 [00:00<00:00, 32.57it/s]\n",
      "  0%|          | 0/27 [00:00<?, ?it/s]"
     ]
    },
    {
     "name": "stdout",
     "output_type": "stream",
     "text": [
      "\n",
      "Valid Acc = 0.6666666666666666\n",
      "Valid Loss = 0.6441383448739847\n",
      "EarlyStopping counter: 4 out of 10\n"
     ]
    },
    {
     "name": "stderr",
     "output_type": "stream",
     "text": [
      "[24/50] Loss_D: 0.1309 Acc_D: 0.8786 Loss_G_class1: 0.0080 Loss_G_class2: 0.0095: 100%|██████████| 27/27 [00:39<00:00,  1.45s/it]\n",
      "[Validating]: Acc_D: 0.7917: 100%|██████████| 24/24 [00:01<00:00, 16.28it/s]\n",
      "  0%|          | 0/27 [00:00<?, ?it/s]"
     ]
    },
    {
     "name": "stdout",
     "output_type": "stream",
     "text": [
      "\n",
      "Valid Acc = 0.7916666666666666\n",
      "Valid Loss = 0.6129590994678438\n",
      "EarlyStopping counter: 5 out of 10\n"
     ]
    },
    {
     "name": "stderr",
     "output_type": "stream",
     "text": [
      "[25/50] Loss_D: 0.1237 Acc_D: 0.8857 Loss_G_class1: 0.0087 Loss_G_class2: 0.0085: 100%|██████████| 27/27 [00:39<00:00,  1.45s/it]\n",
      "[Validating]: Acc_D: 0.7917: 100%|██████████| 24/24 [00:01<00:00, 12.58it/s]\n",
      "  0%|          | 0/27 [00:00<?, ?it/s]"
     ]
    },
    {
     "name": "stdout",
     "output_type": "stream",
     "text": [
      "\n",
      "Valid Acc = 0.7916666666666666\n",
      "Valid Loss = 0.674946780782193\n",
      "EarlyStopping counter: 6 out of 10\n"
     ]
    },
    {
     "name": "stderr",
     "output_type": "stream",
     "text": [
      "[26/50] Loss_D: 0.1390 Acc_D: 0.8857 Loss_G_class1: 0.0100 Loss_G_class2: 0.0092: 100%|██████████| 27/27 [00:38<00:00,  1.43s/it]\n",
      "[Validating]: Acc_D: 0.7917: 100%|██████████| 24/24 [00:02<00:00, 11.16it/s]\n",
      "  0%|          | 0/27 [00:00<?, ?it/s]"
     ]
    },
    {
     "name": "stdout",
     "output_type": "stream",
     "text": [
      "\n",
      "Valid Acc = 0.7916666666666666\n",
      "Valid Loss = 0.5358523917384446\n",
      "EarlyStopping counter: 7 out of 10\n"
     ]
    },
    {
     "name": "stderr",
     "output_type": "stream",
     "text": [
      "[27/50] Loss_D: 0.1406 Acc_D: 0.8786 Loss_G_class1: 0.0117 Loss_G_class2: 0.0090: 100%|██████████| 27/27 [00:38<00:00,  1.44s/it]\n",
      "[Validating]: Acc_D: 0.7500: 100%|██████████| 24/24 [00:00<00:00, 34.91it/s]\n",
      "  0%|          | 0/27 [00:00<?, ?it/s]"
     ]
    },
    {
     "name": "stdout",
     "output_type": "stream",
     "text": [
      "\n",
      "Valid Acc = 0.75\n",
      "Valid Loss = 0.5089286339934915\n",
      "EarlyStopping counter: 8 out of 10\n"
     ]
    },
    {
     "name": "stderr",
     "output_type": "stream",
     "text": [
      "[28/50] Loss_D: 0.1283 Acc_D: 0.8976 Loss_G_class1: 0.0095 Loss_G_class2: 0.0092: 100%|██████████| 27/27 [00:38<00:00,  1.43s/it]\n",
      "[Validating]: Acc_D: 0.8750: 100%|██████████| 24/24 [00:00<00:00, 32.74it/s]\n",
      "  0%|          | 0/27 [00:00<?, ?it/s]"
     ]
    },
    {
     "name": "stdout",
     "output_type": "stream",
     "text": [
      "\n",
      "Valid Acc = 0.875\n",
      "Valid Loss = 0.4670220084177951\n",
      "EarlyStopping counter: 9 out of 10\n"
     ]
    },
    {
     "name": "stderr",
     "output_type": "stream",
     "text": [
      "[29/50] Loss_D: 0.1323 Acc_D: 0.8905 Loss_G_class1: 0.0086 Loss_G_class2: 0.0083: 100%|██████████| 27/27 [00:40<00:00,  1.51s/it]\n",
      "[Validating]: Acc_D: 0.8333: 100%|██████████| 24/24 [00:03<00:00,  7.72it/s]\n",
      "  0%|          | 0/24 [00:00<?, ?it/s]"
     ]
    },
    {
     "name": "stdout",
     "output_type": "stream",
     "text": [
      "\n",
      "Valid Acc = 0.8333333333333334\n",
      "Valid Loss = 0.6151562499192854\n",
      "EarlyStopping counter: 10 out of 10\n",
      "Early stopping, epoch 29\n"
     ]
    },
    {
     "name": "stderr",
     "output_type": "stream",
     "text": [
      "[Validating]: Acc_D: 0.8750: 100%|██████████| 24/24 [00:00<00:00, 31.69it/s]\n"
     ]
    },
    {
     "name": "stdout",
     "output_type": "stream",
     "text": [
      "[INFO] Summary of training for LAMBDA = 0.05 (best model values)\n",
      "Valid Acc = 0.875\n",
      "Valid Loss = 0.505636791077753\n",
      "Test performance client <shfl.private.federated_operation.FederatedDataNode object at 0x7f03425a99e8>: [0.7426223094351807, 0.6608187134502924, {'0': {'precision': 0.9444444444444444, 'recall': 0.6159420289855072, 'f1-score': 0.7456140350877193, 'support': 138}, '1': {'precision': 0.345679012345679, 'recall': 0.8484848484848485, 'f1-score': 0.4912280701754386, 'support': 33}, 'accuracy': 0.6608187134502924, 'macro avg': {'precision': 0.6450617283950617, 'recall': 0.7322134387351779, 'f1-score': 0.618421052631579, 'support': 171}, 'weighted avg': {'precision': 0.8288932207060863, 'recall': 0.6608187134502924, 'f1-score': 0.6965220067713143, 'support': 171}}]\n",
      "Test performance client <shfl.private.federated_operation.FederatedDataNode object at 0x7f03425a9710>: [1.1105456775280962, 0.7543859649122807, {'0': {'precision': 0.9666666666666667, 'recall': 0.6904761904761905, 'f1-score': 0.8055555555555556, 'support': 126}, '1': {'precision': 0.5185185185185185, 'recall': 0.9333333333333333, 'f1-score': 0.6666666666666667, 'support': 45}, 'accuracy': 0.7543859649122807, 'macro avg': {'precision': 0.7425925925925926, 'recall': 0.8119047619047619, 'f1-score': 0.7361111111111112, 'support': 171}, 'weighted avg': {'precision': 0.8487329434697856, 'recall': 0.7543859649122807, 'f1-score': 0.7690058479532164, 'support': 171}}]\n",
      "Test performance client <shfl.private.federated_operation.FederatedDataNode object at 0x7f03425a9780>: [0.7438681056363541, 0.7076023391812866, {'0': {'precision': 0.9111111111111111, 'recall': 0.6612903225806451, 'f1-score': 0.7663551401869159, 'support': 124}, '1': {'precision': 0.48148148148148145, 'recall': 0.8297872340425532, 'f1-score': 0.609375, 'support': 47}, 'accuracy': 0.7076023391812866, 'macro avg': {'precision': 0.6962962962962963, 'recall': 0.7455387783115992, 'f1-score': 0.6878650700934579, 'support': 171}, 'weighted avg': {'precision': 0.793025774312324, 'recall': 0.7076023391812866, 'f1-score': 0.7232085519484068, 'support': 171}}]\n",
      "Global model test performance : [0.7426223080136884, 0.6608187134502924, {'0': {'precision': 0.9444444444444444, 'recall': 0.6159420289855072, 'f1-score': 0.7456140350877193, 'support': 138}, '1': {'precision': 0.345679012345679, 'recall': 0.8484848484848485, 'f1-score': 0.4912280701754386, 'support': 33}, 'accuracy': 0.6608187134502924, 'macro avg': {'precision': 0.6450617283950617, 'recall': 0.7322134387351779, 'f1-score': 0.618421052631579, 'support': 171}, 'weighted avg': {'precision': 0.8288932207060863, 'recall': 0.6608187134502924, 'f1-score': 0.6965220067713143, 'support': 171}}]\n",
      "\n",
      "\n",
      "\n"
     ]
    }
   ],
   "source": [
    "aggregator = shfl.federated_aggregator.FedAvgAggregator()\n",
    "cit_federated_government = shfl.federated_government.FederatedGovernment(cit_builder, federated_data, aggregator)\n",
    "cit_federated_government.run_rounds(args[\"federated_rounds\"], test_data, test_label)"
   ]
  },
  {
   "cell_type": "code",
   "execution_count": 11,
   "metadata": {},
   "outputs": [
    {
     "name": "stdout",
     "output_type": "stream",
     "text": [
      "CIT Classifier Results:\n",
      "Loss: 0.7426223080136884\n",
      "Acc: 0.6608187134502924\n",
      "{'0': {'precision': 0.9444444444444444, 'recall': 0.6159420289855072, 'f1-score': 0.7456140350877193, 'support': 138}, '1': {'precision': 0.345679012345679, 'recall': 0.8484848484848485, 'f1-score': 0.4912280701754386, 'support': 33}, 'accuracy': 0.6608187134502924, 'macro avg': {'precision': 0.6450617283950617, 'recall': 0.7322134387351779, 'f1-score': 0.618421052631579, 'support': 171}, 'weighted avg': {'precision': 0.8288932207060863, 'recall': 0.6608187134502924, 'f1-score': 0.6965220067713143, 'support': 171}}\n"
     ]
    }
   ],
   "source": [
    "metrics = cit_federated_government.global_model.evaluate(test_data, test_label)\n",
    "print(\"CIT Classifier Results:\")\n",
    "print(\"Loss: {}\".format(metrics[0]))\n",
    "print(\"Acc: {}\".format(metrics[1]))\n",
    "print(metrics[2])"
   ]
  },
  {
   "cell_type": "code",
   "execution_count": 12,
   "metadata": {},
   "outputs": [],
   "source": [
    "t_federated_data = get_transformed_data(federated_data, cit_federated_government, lb1, lb2)"
   ]
  },
  {
   "cell_type": "code",
   "execution_count": 13,
   "metadata": {},
   "outputs": [
    {
     "name": "stdout",
     "output_type": "stream",
     "text": [
      "Accuracy round 0\n",
      "Training node 0\n",
      "Epoch 1/50\n",
      "50/50 [==============================] - 24s 489ms/step - loss: 0.9277 - categorical_accuracy: 0.5340 - val_loss: 0.9294 - val_categorical_accuracy: 0.5250\n",
      "Epoch 2/50\n",
      "50/50 [==============================] - 4s 73ms/step - loss: 0.4947 - categorical_accuracy: 0.7859 - val_loss: 1.4414 - val_categorical_accuracy: 0.5500\n",
      "Epoch 3/50\n",
      "50/50 [==============================] - 4s 73ms/step - loss: 0.2868 - categorical_accuracy: 0.9093 - val_loss: 1.0637 - val_categorical_accuracy: 0.5750\n",
      "Epoch 4/50\n",
      "50/50 [==============================] - 4s 71ms/step - loss: 0.1358 - categorical_accuracy: 0.9622 - val_loss: 1.5693 - val_categorical_accuracy: 0.5500\n",
      "Epoch 5/50\n",
      "50/50 [==============================] - 4s 72ms/step - loss: 0.0879 - categorical_accuracy: 0.9798 - val_loss: 1.6455 - val_categorical_accuracy: 0.5500\n",
      "Epoch 6/50\n",
      "50/50 [==============================] - 4s 74ms/step - loss: 0.0811 - categorical_accuracy: 0.9723 - val_loss: 0.8976 - val_categorical_accuracy: 0.6250\n",
      "Epoch 7/50\n",
      "50/50 [==============================] - 4s 73ms/step - loss: 0.0619 - categorical_accuracy: 0.9874 - val_loss: 1.3193 - val_categorical_accuracy: 0.5750\n",
      "Epoch 8/50\n",
      "50/50 [==============================] - 4s 71ms/step - loss: 0.0427 - categorical_accuracy: 0.9950 - val_loss: 1.3757 - val_categorical_accuracy: 0.6000\n",
      "Epoch 9/50\n",
      "50/50 [==============================] - 4s 73ms/step - loss: 0.0623 - categorical_accuracy: 0.9773 - val_loss: 1.5837 - val_categorical_accuracy: 0.5750\n",
      "Epoch 10/50\n",
      "50/50 [==============================] - 4s 72ms/step - loss: 0.0382 - categorical_accuracy: 0.9899 - val_loss: 1.0550 - val_categorical_accuracy: 0.6250\n",
      "Epoch 11/50\n",
      "50/50 [==============================] - 4s 74ms/step - loss: 0.0267 - categorical_accuracy: 0.9925 - val_loss: 1.4235 - val_categorical_accuracy: 0.5250\n",
      "Epoch 12/50\n",
      "50/50 [==============================] - 4s 81ms/step - loss: 0.0387 - categorical_accuracy: 0.9924 - val_loss: 1.6080 - val_categorical_accuracy: 0.5000\n",
      "Epoch 13/50\n",
      "50/50 [==============================] - 4s 73ms/step - loss: 0.0335 - categorical_accuracy: 0.9900 - val_loss: 1.7533 - val_categorical_accuracy: 0.6500\n",
      "Epoch 14/50\n",
      "50/50 [==============================] - 4s 73ms/step - loss: 0.0498 - categorical_accuracy: 0.9873 - val_loss: 1.2566 - val_categorical_accuracy: 0.5750\n",
      "Epoch 15/50\n",
      "50/50 [==============================] - 4s 73ms/step - loss: 0.0304 - categorical_accuracy: 0.9924 - val_loss: 1.3198 - val_categorical_accuracy: 0.6250\n",
      "Epoch 16/50\n",
      "50/50 [==============================] - 4s 72ms/step - loss: 0.0244 - categorical_accuracy: 0.9899 - val_loss: 1.1551 - val_categorical_accuracy: 0.5750\n",
      "Epoch 17/50\n",
      "50/50 [==============================] - 4s 75ms/step - loss: 0.0113 - categorical_accuracy: 1.0000 - val_loss: 1.5753 - val_categorical_accuracy: 0.6000\n",
      "Epoch 18/50\n",
      "50/50 [==============================] - 4s 73ms/step - loss: 0.0125 - categorical_accuracy: 0.9975 - val_loss: 1.4700 - val_categorical_accuracy: 0.5500\n",
      "Epoch 19/50\n",
      "50/50 [==============================] - 4s 73ms/step - loss: 0.0195 - categorical_accuracy: 0.9975 - val_loss: 1.3283 - val_categorical_accuracy: 0.4750\n",
      "Epoch 20/50\n",
      "50/50 [==============================] - 4s 72ms/step - loss: 0.0141 - categorical_accuracy: 0.9950 - val_loss: 1.2600 - val_categorical_accuracy: 0.6250\n",
      "Epoch 21/50\n",
      "50/50 [==============================] - 4s 73ms/step - loss: 0.0305 - categorical_accuracy: 0.9873 - val_loss: 1.6172 - val_categorical_accuracy: 0.5500\n",
      "Epoch 22/50\n",
      "50/50 [==============================] - 4s 74ms/step - loss: 0.0171 - categorical_accuracy: 0.9975 - val_loss: 1.5283 - val_categorical_accuracy: 0.4750\n",
      "Epoch 23/50\n",
      "50/50 [==============================] - 4s 76ms/step - loss: 0.0623 - categorical_accuracy: 0.9772 - val_loss: 1.4972 - val_categorical_accuracy: 0.6250\n",
      "Epoch 24/50\n",
      "50/50 [==============================] - 4s 74ms/step - loss: 0.0234 - categorical_accuracy: 0.9899 - val_loss: 1.6894 - val_categorical_accuracy: 0.6000\n",
      "Epoch 25/50\n",
      "50/50 [==============================] - 4s 72ms/step - loss: 0.0134 - categorical_accuracy: 0.9975 - val_loss: 1.5329 - val_categorical_accuracy: 0.6250\n",
      "Epoch 26/50\n",
      "50/50 [==============================] - 4s 71ms/step - loss: 0.0322 - categorical_accuracy: 0.9850 - val_loss: 1.7147 - val_categorical_accuracy: 0.6500\n",
      "Epoch 27/50\n",
      "50/50 [==============================] - 4s 83ms/step - loss: 0.0383 - categorical_accuracy: 0.9924 - val_loss: 1.1259 - val_categorical_accuracy: 0.6750\n",
      "Epoch 28/50\n",
      "50/50 [==============================] - 4s 86ms/step - loss: 0.0370 - categorical_accuracy: 0.9924 - val_loss: 1.2603 - val_categorical_accuracy: 0.6500\n",
      "Epoch 29/50\n",
      "50/50 [==============================] - 4s 87ms/step - loss: 0.0141 - categorical_accuracy: 1.0000 - val_loss: 1.3749 - val_categorical_accuracy: 0.7000\n",
      "Epoch 30/50\n",
      "50/50 [==============================] - 6s 112ms/step - loss: 0.0145 - categorical_accuracy: 0.9924 - val_loss: 2.1816 - val_categorical_accuracy: 0.6000\n",
      "Epoch 31/50\n",
      "50/50 [==============================] - 4s 73ms/step - loss: 0.0241 - categorical_accuracy: 0.9950 - val_loss: 2.1103 - val_categorical_accuracy: 0.5250\n",
      "Epoch 32/50\n",
      "50/50 [==============================] - 4s 72ms/step - loss: 0.0152 - categorical_accuracy: 0.9975 - val_loss: 2.3077 - val_categorical_accuracy: 0.5000\n",
      "Epoch 33/50\n",
      "50/50 [==============================] - 4s 72ms/step - loss: 0.0090 - categorical_accuracy: 1.0000 - val_loss: 1.8497 - val_categorical_accuracy: 0.5250\n",
      "Epoch 34/50\n",
      "50/50 [==============================] - 4s 72ms/step - loss: 0.0083 - categorical_accuracy: 0.9975 - val_loss: 1.7873 - val_categorical_accuracy: 0.6250\n",
      "Epoch 35/50\n",
      "50/50 [==============================] - 4s 73ms/step - loss: 0.0046 - categorical_accuracy: 1.0000 - val_loss: 1.9652 - val_categorical_accuracy: 0.6000\n",
      "Epoch 36/50\n",
      "50/50 [==============================] - 4s 89ms/step - loss: 0.0086 - categorical_accuracy: 1.0000 - val_loss: 2.0953 - val_categorical_accuracy: 0.6000\n",
      "Epoch 37/50\n",
      "50/50 [==============================] - 4s 71ms/step - loss: 0.0064 - categorical_accuracy: 0.9975 - val_loss: 1.7041 - val_categorical_accuracy: 0.5250\n",
      "Epoch 38/50\n",
      "50/50 [==============================] - 4s 73ms/step - loss: 0.0039 - categorical_accuracy: 1.0000 - val_loss: 2.0069 - val_categorical_accuracy: 0.5750\n",
      "Epoch 39/50\n",
      "50/50 [==============================] - 4s 73ms/step - loss: 0.0049 - categorical_accuracy: 1.0000 - val_loss: 1.9116 - val_categorical_accuracy: 0.5250\n",
      "Epoch 40/50\n",
      "50/50 [==============================] - 4s 77ms/step - loss: 0.0011 - categorical_accuracy: 1.0000 - val_loss: 2.0197 - val_categorical_accuracy: 0.5250\n",
      "Epoch 41/50\n",
      "50/50 [==============================] - 4s 73ms/step - loss: 0.0042 - categorical_accuracy: 0.9975 - val_loss: 1.8871 - val_categorical_accuracy: 0.5750\n",
      "Epoch 42/50\n",
      "50/50 [==============================] - 4s 72ms/step - loss: 0.0031 - categorical_accuracy: 1.0000 - val_loss: 1.8883 - val_categorical_accuracy: 0.5500\n",
      "Epoch 43/50\n",
      "50/50 [==============================] - 4s 73ms/step - loss: 0.0018 - categorical_accuracy: 1.0000 - val_loss: 1.8815 - val_categorical_accuracy: 0.5500\n",
      "Epoch 44/50\n",
      "50/50 [==============================] - 4s 73ms/step - loss: 0.0026 - categorical_accuracy: 1.0000 - val_loss: 1.8985 - val_categorical_accuracy: 0.6000\n",
      "Epoch 45/50\n",
      "50/50 [==============================] - 4s 73ms/step - loss: 0.0055 - categorical_accuracy: 0.9975 - val_loss: 1.8177 - val_categorical_accuracy: 0.6000\n",
      "Epoch 46/50\n",
      "50/50 [==============================] - 4s 76ms/step - loss: 0.0043 - categorical_accuracy: 1.0000 - val_loss: 2.0179 - val_categorical_accuracy: 0.5500\n",
      "Epoch 47/50\n",
      "50/50 [==============================] - 4s 73ms/step - loss: 0.0020 - categorical_accuracy: 1.0000 - val_loss: 2.0445 - val_categorical_accuracy: 0.5500\n",
      "Epoch 48/50\n",
      "50/50 [==============================] - 4s 74ms/step - loss: 0.0024 - categorical_accuracy: 1.0000 - val_loss: 2.0513 - val_categorical_accuracy: 0.5500\n",
      "Epoch 49/50\n",
      "49/50 [============================>.] - ETA: 0s - loss: 0.0063 - categorical_accuracy: 0.9974Restoring model weights from the end of the best epoch.\n",
      "50/50 [==============================] - 4s 75ms/step - loss: 0.0062 - categorical_accuracy: 0.9975 - val_loss: 1.8574 - val_categorical_accuracy: 0.5500\n"
     ]
    },
    {
     "name": "stdout",
     "output_type": "stream",
     "text": [
      "Epoch 00049: early stopping\n",
      "Training node 1\n",
      "Epoch 1/50\n",
      "49/49 [==============================] - 27s 547ms/step - loss: 0.8625 - categorical_accuracy: 0.5995 - val_loss: 1.2031 - val_categorical_accuracy: 0.4500\n",
      "Epoch 2/50\n",
      "49/49 [==============================] - 4s 73ms/step - loss: 0.4763 - categorical_accuracy: 0.7985 - val_loss: 0.7243 - val_categorical_accuracy: 0.6750\n",
      "Epoch 3/50\n",
      "49/49 [==============================] - 4s 82ms/step - loss: 0.2043 - categorical_accuracy: 0.9413 - val_loss: 1.0352 - val_categorical_accuracy: 0.6500\n",
      "Epoch 4/50\n",
      "49/49 [==============================] - 4s 73ms/step - loss: 0.1585 - categorical_accuracy: 0.9515 - val_loss: 0.6011 - val_categorical_accuracy: 0.7750\n",
      "Epoch 5/50\n",
      "49/49 [==============================] - 4s 73ms/step - loss: 0.0621 - categorical_accuracy: 0.9898 - val_loss: 0.7656 - val_categorical_accuracy: 0.8000\n",
      "Epoch 6/50\n",
      "49/49 [==============================] - 4s 73ms/step - loss: 0.0348 - categorical_accuracy: 0.9974 - val_loss: 0.7060 - val_categorical_accuracy: 0.8250\n",
      "Epoch 7/50\n",
      "49/49 [==============================] - 4s 79ms/step - loss: 0.0510 - categorical_accuracy: 0.9872 - val_loss: 0.4719 - val_categorical_accuracy: 0.7500\n",
      "Epoch 8/50\n",
      "49/49 [==============================] - 4s 72ms/step - loss: 0.0250 - categorical_accuracy: 0.9949 - val_loss: 0.6351 - val_categorical_accuracy: 0.8000\n",
      "Epoch 9/50\n",
      "49/49 [==============================] - 4s 74ms/step - loss: 0.0269 - categorical_accuracy: 0.9949 - val_loss: 0.5893 - val_categorical_accuracy: 0.7750\n",
      "Epoch 10/50\n",
      "49/49 [==============================] - 4s 73ms/step - loss: 0.0306 - categorical_accuracy: 0.9949 - val_loss: 1.3247 - val_categorical_accuracy: 0.5500\n",
      "Epoch 11/50\n",
      "49/49 [==============================] - 4s 72ms/step - loss: 0.0404 - categorical_accuracy: 0.9923 - val_loss: 1.1092 - val_categorical_accuracy: 0.6500\n",
      "Epoch 12/50\n",
      "49/49 [==============================] - 4s 75ms/step - loss: 0.0334 - categorical_accuracy: 0.9923 - val_loss: 0.5815 - val_categorical_accuracy: 0.7500\n",
      "Epoch 13/50\n",
      "49/49 [==============================] - 4s 75ms/step - loss: 0.0237 - categorical_accuracy: 0.9949 - val_loss: 0.9173 - val_categorical_accuracy: 0.7000\n",
      "Epoch 14/50\n",
      "49/49 [==============================] - 4s 72ms/step - loss: 0.0170 - categorical_accuracy: 0.9974 - val_loss: 0.5264 - val_categorical_accuracy: 0.8250\n",
      "Epoch 15/50\n",
      "49/49 [==============================] - 4s 72ms/step - loss: 0.0224 - categorical_accuracy: 0.9949 - val_loss: 0.5461 - val_categorical_accuracy: 0.8250\n",
      "Epoch 16/50\n",
      "49/49 [==============================] - 4s 72ms/step - loss: 0.0514 - categorical_accuracy: 0.9796 - val_loss: 0.7576 - val_categorical_accuracy: 0.7500\n",
      "Epoch 17/50\n",
      "49/49 [==============================] - 4s 72ms/step - loss: 0.0393 - categorical_accuracy: 0.9872 - val_loss: 1.5745 - val_categorical_accuracy: 0.5250\n",
      "Epoch 18/50\n",
      "49/49 [==============================] - 4s 75ms/step - loss: 0.0578 - categorical_accuracy: 0.9745 - val_loss: 2.1997 - val_categorical_accuracy: 0.4500\n",
      "Epoch 19/50\n",
      "49/49 [==============================] - 4s 73ms/step - loss: 0.0318 - categorical_accuracy: 0.9898 - val_loss: 0.8584 - val_categorical_accuracy: 0.7250\n",
      "Epoch 20/50\n",
      "49/49 [==============================] - 4s 73ms/step - loss: 0.0244 - categorical_accuracy: 0.9974 - val_loss: 0.6707 - val_categorical_accuracy: 0.8000\n",
      "Epoch 21/50\n",
      "49/49 [==============================] - 4s 78ms/step - loss: 0.0087 - categorical_accuracy: 1.0000 - val_loss: 0.8313 - val_categorical_accuracy: 0.7500\n",
      "Epoch 22/50\n",
      "49/49 [==============================] - 4s 88ms/step - loss: 0.0088 - categorical_accuracy: 1.0000 - val_loss: 1.0252 - val_categorical_accuracy: 0.7250\n",
      "Epoch 23/50\n",
      "49/49 [==============================] - 4s 84ms/step - loss: 0.0084 - categorical_accuracy: 0.9974 - val_loss: 0.7698 - val_categorical_accuracy: 0.6750\n",
      "Epoch 24/50\n",
      "49/49 [==============================] - 4s 74ms/step - loss: 0.0047 - categorical_accuracy: 1.0000 - val_loss: 0.8336 - val_categorical_accuracy: 0.7000\n",
      "Epoch 25/50\n",
      "49/49 [==============================] - 4s 73ms/step - loss: 0.0102 - categorical_accuracy: 0.9974 - val_loss: 1.0739 - val_categorical_accuracy: 0.6500\n",
      "Epoch 26/50\n",
      "48/49 [============================>.] - ETA: 0s - loss: 0.0193 - categorical_accuracy: 0.9922Restoring model weights from the end of the best epoch.\n",
      "49/49 [==============================] - 4s 77ms/step - loss: 0.0193 - categorical_accuracy: 0.9923 - val_loss: 1.0784 - val_categorical_accuracy: 0.7250\n",
      "Epoch 00026: early stopping\n",
      "Training node 2\n",
      "Epoch 1/50\n",
      "52/52 [==============================] - 30s 579ms/step - loss: 0.8977 - categorical_accuracy: 0.5531 - val_loss: 0.6127 - val_categorical_accuracy: 0.7250\n",
      "Epoch 2/50\n",
      "52/52 [==============================] - 5s 91ms/step - loss: 0.4598 - categorical_accuracy: 0.8309 - val_loss: 0.4331 - val_categorical_accuracy: 0.8250\n",
      "Epoch 3/50\n",
      "52/52 [==============================] - 4s 75ms/step - loss: 0.2473 - categorical_accuracy: 0.9300 - val_loss: 0.3087 - val_categorical_accuracy: 0.8750\n",
      "Epoch 4/50\n",
      "52/52 [==============================] - 4s 74ms/step - loss: 0.1245 - categorical_accuracy: 0.9734 - val_loss: 0.5604 - val_categorical_accuracy: 0.7250\n",
      "Epoch 5/50\n",
      "52/52 [==============================] - 4s 75ms/step - loss: 0.1109 - categorical_accuracy: 0.9614 - val_loss: 0.2386 - val_categorical_accuracy: 0.9000\n",
      "Epoch 6/50\n",
      "52/52 [==============================] - 4s 75ms/step - loss: 0.1037 - categorical_accuracy: 0.9686 - val_loss: 0.1667 - val_categorical_accuracy: 0.9500\n",
      "Epoch 7/50\n",
      "52/52 [==============================] - 5s 103ms/step - loss: 0.0542 - categorical_accuracy: 0.9831 - val_loss: 0.3942 - val_categorical_accuracy: 0.9000\n",
      "Epoch 8/50\n",
      "52/52 [==============================] - 4s 73ms/step - loss: 0.0544 - categorical_accuracy: 0.9856 - val_loss: 0.2663 - val_categorical_accuracy: 0.8750\n",
      "Epoch 9/50\n",
      "52/52 [==============================] - 4s 75ms/step - loss: 0.0671 - categorical_accuracy: 0.9782 - val_loss: 0.1986 - val_categorical_accuracy: 0.9000\n",
      "Epoch 10/50\n",
      "52/52 [==============================] - 4s 78ms/step - loss: 0.0387 - categorical_accuracy: 0.9831 - val_loss: 0.2288 - val_categorical_accuracy: 0.9250\n",
      "Epoch 11/50\n",
      "52/52 [==============================] - 4s 76ms/step - loss: 0.0431 - categorical_accuracy: 0.9903 - val_loss: 0.1488 - val_categorical_accuracy: 0.9500\n",
      "Epoch 12/50\n",
      "52/52 [==============================] - 4s 74ms/step - loss: 0.0286 - categorical_accuracy: 0.9976 - val_loss: 0.4771 - val_categorical_accuracy: 0.7750\n",
      "Epoch 13/50\n",
      "52/52 [==============================] - 4s 73ms/step - loss: 0.0156 - categorical_accuracy: 1.0000 - val_loss: 0.3110 - val_categorical_accuracy: 0.8250\n",
      "Epoch 14/50\n",
      "52/52 [==============================] - 4s 75ms/step - loss: 0.0187 - categorical_accuracy: 0.9928 - val_loss: 0.4472 - val_categorical_accuracy: 0.9000\n",
      "Epoch 15/50\n",
      "52/52 [==============================] - 4s 77ms/step - loss: 0.0156 - categorical_accuracy: 0.9928 - val_loss: 0.2891 - val_categorical_accuracy: 0.9000\n",
      "Epoch 16/50\n",
      "52/52 [==============================] - 4s 74ms/step - loss: 0.0171 - categorical_accuracy: 0.9976 - val_loss: 0.3047 - val_categorical_accuracy: 0.9000\n",
      "Epoch 17/50\n",
      "52/52 [==============================] - 4s 74ms/step - loss: 0.0108 - categorical_accuracy: 1.0000 - val_loss: 0.2105 - val_categorical_accuracy: 0.9250\n",
      "Epoch 18/50\n",
      "52/52 [==============================] - 4s 74ms/step - loss: 0.0103 - categorical_accuracy: 0.9952 - val_loss: 0.2261 - val_categorical_accuracy: 0.9250\n",
      "Epoch 19/50\n",
      "52/52 [==============================] - 4s 73ms/step - loss: 0.0323 - categorical_accuracy: 0.9927 - val_loss: 0.2301 - val_categorical_accuracy: 0.8750\n",
      "Epoch 20/50\n",
      "52/52 [==============================] - 5s 106ms/step - loss: 0.0256 - categorical_accuracy: 0.9928 - val_loss: 0.4233 - val_categorical_accuracy: 0.8000\n",
      "Epoch 21/50\n",
      "52/52 [==============================] - 4s 74ms/step - loss: 0.0312 - categorical_accuracy: 0.9856 - val_loss: 0.1693 - val_categorical_accuracy: 0.9250\n",
      "Epoch 22/50\n",
      "52/52 [==============================] - 4s 75ms/step - loss: 0.0106 - categorical_accuracy: 0.9976 - val_loss: 0.1506 - val_categorical_accuracy: 0.9500\n"
     ]
    },
    {
     "name": "stdout",
     "output_type": "stream",
     "text": [
      "Epoch 23/50\n",
      "52/52 [==============================] - 4s 75ms/step - loss: 0.0096 - categorical_accuracy: 1.0000 - val_loss: 0.1914 - val_categorical_accuracy: 0.9500\n",
      "Epoch 24/50\n",
      "52/52 [==============================] - 4s 77ms/step - loss: 0.0111 - categorical_accuracy: 0.9952 - val_loss: 0.1867 - val_categorical_accuracy: 0.8750\n",
      "Epoch 25/50\n",
      "52/52 [==============================] - 4s 76ms/step - loss: 0.0066 - categorical_accuracy: 1.0000 - val_loss: 0.1080 - val_categorical_accuracy: 0.9750\n",
      "Epoch 26/50\n",
      "52/52 [==============================] - 4s 75ms/step - loss: 0.0103 - categorical_accuracy: 0.9976 - val_loss: 0.4009 - val_categorical_accuracy: 0.8750\n",
      "Epoch 27/50\n",
      "52/52 [==============================] - 4s 75ms/step - loss: 0.0275 - categorical_accuracy: 0.9879 - val_loss: 0.3844 - val_categorical_accuracy: 0.8500\n",
      "Epoch 28/50\n",
      "52/52 [==============================] - 4s 81ms/step - loss: 0.0195 - categorical_accuracy: 0.9976 - val_loss: 0.3591 - val_categorical_accuracy: 0.8750\n",
      "Epoch 29/50\n",
      "52/52 [==============================] - 5s 104ms/step - loss: 0.0026 - categorical_accuracy: 1.0000 - val_loss: 0.1598 - val_categorical_accuracy: 0.9500\n",
      "Epoch 30/50\n",
      "52/52 [==============================] - 4s 74ms/step - loss: 0.0044 - categorical_accuracy: 1.0000 - val_loss: 0.1979 - val_categorical_accuracy: 0.9500\n",
      "Epoch 31/50\n",
      "52/52 [==============================] - 4s 74ms/step - loss: 0.0023 - categorical_accuracy: 1.0000 - val_loss: 0.2140 - val_categorical_accuracy: 0.9500\n",
      "Epoch 32/50\n",
      "52/52 [==============================] - 4s 74ms/step - loss: 0.0026 - categorical_accuracy: 1.0000 - val_loss: 0.2104 - val_categorical_accuracy: 0.9250\n",
      "Epoch 33/50\n",
      "52/52 [==============================] - 4s 75ms/step - loss: 0.0021 - categorical_accuracy: 1.0000 - val_loss: 0.2492 - val_categorical_accuracy: 0.9250\n",
      "Epoch 34/50\n",
      "52/52 [==============================] - 4s 77ms/step - loss: 0.0015 - categorical_accuracy: 1.0000 - val_loss: 0.2393 - val_categorical_accuracy: 0.9250\n",
      "Epoch 35/50\n",
      "52/52 [==============================] - 4s 73ms/step - loss: 0.0017 - categorical_accuracy: 1.0000 - val_loss: 0.2703 - val_categorical_accuracy: 0.9250\n",
      "Epoch 36/50\n",
      "52/52 [==============================] - 4s 74ms/step - loss: 0.0033 - categorical_accuracy: 1.0000 - val_loss: 0.2464 - val_categorical_accuracy: 0.9250\n",
      "Epoch 37/50\n",
      "52/52 [==============================] - 4s 76ms/step - loss: 0.0057 - categorical_accuracy: 1.0000 - val_loss: 0.2813 - val_categorical_accuracy: 0.9250\n",
      "Epoch 38/50\n",
      "52/52 [==============================] - 4s 75ms/step - loss: 9.5263e-04 - categorical_accuracy: 1.0000 - val_loss: 0.2655 - val_categorical_accuracy: 0.9250\n",
      "Epoch 39/50\n",
      "52/52 [==============================] - 4s 74ms/step - loss: 0.0045 - categorical_accuracy: 0.9976 - val_loss: 0.2654 - val_categorical_accuracy: 0.9250\n",
      "Epoch 40/50\n",
      "52/52 [==============================] - 4s 75ms/step - loss: 0.0104 - categorical_accuracy: 0.9976 - val_loss: 0.4081 - val_categorical_accuracy: 0.9000\n",
      "Epoch 41/50\n",
      "52/52 [==============================] - 4s 74ms/step - loss: 0.0030 - categorical_accuracy: 1.0000 - val_loss: 0.3602 - val_categorical_accuracy: 0.8750\n",
      "Epoch 42/50\n",
      "52/52 [==============================] - 4s 75ms/step - loss: 0.0035 - categorical_accuracy: 1.0000 - val_loss: 0.2358 - val_categorical_accuracy: 0.9500\n",
      "Epoch 43/50\n",
      "52/52 [==============================] - 4s 75ms/step - loss: 0.0012 - categorical_accuracy: 1.0000 - val_loss: 0.2338 - val_categorical_accuracy: 0.9250\n",
      "Epoch 44/50\n",
      "52/52 [==============================] - 5s 90ms/step - loss: 0.0031 - categorical_accuracy: 1.0000 - val_loss: 0.1670 - val_categorical_accuracy: 0.9500\n",
      "Epoch 45/50\n",
      "51/52 [============================>.] - ETA: 0s - loss: 0.0075 - categorical_accuracy: 1.0000Restoring model weights from the end of the best epoch.\n",
      "52/52 [==============================] - 4s 76ms/step - loss: 0.0074 - categorical_accuracy: 1.0000 - val_loss: 0.2058 - val_categorical_accuracy: 0.9250\n",
      "Epoch 00045: early stopping\n",
      "Test performance client <shfl.private.federated_operation.FederatedDataNode object at 0x7f03f844a588>: [0.6491228070175439, 0.6374269005847953, 50, {'0': {'precision': 0.7777777777777778, 'recall': 0.4666666666666667, 'f1-score': 0.5833333333333334, 'support': 90}, '1': {'precision': 0.5897435897435898, 'recall': 0.8518518518518519, 'f1-score': 0.6969696969696971, 'support': 81}, 'accuracy': 0.6491228070175439, 'macro avg': {'precision': 0.6837606837606838, 'recall': 0.6592592592592592, 'f1-score': 0.6401515151515152, 'support': 171}, 'weighted avg': {'precision': 0.6887089518668467, 'recall': 0.6491228070175439, 'f1-score': 0.6371610845295057, 'support': 171}}]\n",
      "Test performance client <shfl.private.federated_operation.FederatedDataNode object at 0x7ef4f4f91860>: [0.7134502923976608, 0.6754385964912281, 49, {'0': {'precision': 0.7530864197530864, 'recall': 0.6777777777777778, 'f1-score': 0.7134502923976608, 'support': 90}, '1': {'precision': 0.6777777777777778, 'recall': 0.7530864197530864, 'f1-score': 0.7134502923976608, 'support': 81}, 'accuracy': 0.7134502923976608, 'macro avg': {'precision': 0.7154320987654321, 'recall': 0.7154320987654321, 'f1-score': 0.7134502923976608, 'support': 171}, 'weighted avg': {'precision': 0.7174139051332035, 'recall': 0.7134502923976608, 'f1-score': 0.7134502923976608, 'support': 171}}]\n",
      "Test performance client <shfl.private.federated_operation.FederatedDataNode object at 0x7ef87bac2940>: [0.7134502923976608, 0.6871345029239766, 45, {'0': {'precision': 0.7971014492753623, 'recall': 0.6111111111111112, 'f1-score': 0.6918238993710693, 'support': 90}, '1': {'precision': 0.6568627450980392, 'recall': 0.8271604938271605, 'f1-score': 0.7322404371584699, 'support': 81}, 'accuracy': 0.7134502923976608, 'macro avg': {'precision': 0.7269820971867007, 'recall': 0.7191358024691359, 'f1-score': 0.7120321682647696, 'support': 171}, 'weighted avg': {'precision': 0.7306725894018935, 'recall': 0.7134502923976608, 'f1-score': 0.710968575165101, 'support': 171}}]\n",
      "Global model test performance : [0.7368421052631579, 0.716374269005848, 39, {'0': {'precision': 0.8260869565217391, 'recall': 0.6333333333333333, 'f1-score': 0.7169811320754716, 'support': 90}, '1': {'precision': 0.6764705882352942, 'recall': 0.8518518518518519, 'f1-score': 0.7540983606557378, 'support': 81}, 'accuracy': 0.7368421052631579, 'macro avg': {'precision': 0.7512787723785166, 'recall': 0.7425925925925926, 'f1-score': 0.7355397463656047, 'support': 171}, 'weighted avg': {'precision': 0.7552160452281599, 'recall': 0.7368421052631579, 'f1-score': 0.7345629771924398, 'support': 171}}]\n",
      "\n",
      "\n",
      "\n",
      "[INFO] done\n"
     ]
    }
   ],
   "source": [
    "aggregator = shfl.federated_aggregator.FedAvgAggregator()\n",
    "G_dict = cit_federated_government.global_model._G_dict\n",
    "x = lambda : classifier_builder(G_dict)\n",
    "classifier_federated_government = shfl.federated_government.FederatedGovernment(x, t_federated_data, aggregator)\n",
    "#classifier_federated_government = FederatedGovernment_2(classifier_builder(G_dict), t_federated_data, aggregator)\n",
    "classifier_federated_government.run_rounds(args[\"federated_rounds\"], test_data, test_label)\n",
    "\n",
    "#print(\"[INFO] saving model ...\")\n",
    "#federated_government.global_model._model.save( os.path.join(args[\"output_path\"], args[\"model_name\"]) )\n",
    "print(\"[INFO] done\")"
   ]
  },
  {
   "cell_type": "code",
   "execution_count": 10,
   "metadata": {},
   "outputs": [
    {
     "name": "stdout",
     "output_type": "stream",
     "text": [
      "SDNET Classifier Results:\n",
      "Acc: 0.7543859649122807\n",
      "Acc_4: 0.7660818713450293\n",
      "No concuerda: 20\n",
      "{'0': {'precision': 0.7264150943396226, 'recall': 0.8555555555555555, 'f1-score': 0.7857142857142856, 'support': 90}, '1': {'precision': 0.8, 'recall': 0.6419753086419753, 'f1-score': 0.7123287671232877, 'support': 81}, 'accuracy': 0.7543859649122807, 'macro avg': {'precision': 0.7632075471698113, 'recall': 0.7487654320987653, 'f1-score': 0.7490215264187867, 'support': 171}, 'weighted avg': {'precision': 0.761271102284012, 'recall': 0.7543859649122807, 'f1-score': 0.7509527242764447, 'support': 171}}\n"
     ]
    }
   ],
   "source": [
    "metrics = classifier_federated_government.global_model.evaluate(test_data, test_label)\n",
    "print(\"SDNET Classifier Results:\")\n",
    "print(\"Acc: {}\".format(metrics[0]))\n",
    "print(\"Acc_4: {}\".format(metrics[1]))\n",
    "print(\"No concuerda: {}\".format(metrics[2]))\n",
    "print(metrics[3])"
   ]
  },
  {
   "cell_type": "code",
   "execution_count": null,
   "metadata": {},
   "outputs": [],
   "source": []
  }
 ],
 "metadata": {
  "kernelspec": {
   "display_name": "Python 3",
   "language": "python",
   "name": "python3"
  },
  "language_info": {
   "codemirror_mode": {
    "name": "ipython",
    "version": 3
   },
   "file_extension": ".py",
   "mimetype": "text/x-python",
   "name": "python",
   "nbconvert_exporter": "python",
   "pygments_lexer": "ipython3",
   "version": "3.6.10"
  }
 },
 "nbformat": 4,
 "nbformat_minor": 4
}
