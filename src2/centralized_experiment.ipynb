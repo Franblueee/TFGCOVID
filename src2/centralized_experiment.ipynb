{
 "cells": [
  {
   "cell_type": "code",
   "execution_count": 1,
   "metadata": {},
   "outputs": [
    {
     "name": "stderr",
     "output_type": "stream",
     "text": [
      "/mnt/sdd/fcastro/envs/TF/lib/python3.6/site-packages/tensorflow/python/framework/dtypes.py:516: FutureWarning: Passing (type, 1) or '1type' as a synonym of type is deprecated; in a future version of numpy, it will be understood as (type, (1,)) / '(1,)type'.\n",
      "  _np_qint8 = np.dtype([(\"qint8\", np.int8, 1)])\n",
      "/mnt/sdd/fcastro/envs/TF/lib/python3.6/site-packages/tensorflow/python/framework/dtypes.py:517: FutureWarning: Passing (type, 1) or '1type' as a synonym of type is deprecated; in a future version of numpy, it will be understood as (type, (1,)) / '(1,)type'.\n",
      "  _np_quint8 = np.dtype([(\"quint8\", np.uint8, 1)])\n",
      "/mnt/sdd/fcastro/envs/TF/lib/python3.6/site-packages/tensorflow/python/framework/dtypes.py:518: FutureWarning: Passing (type, 1) or '1type' as a synonym of type is deprecated; in a future version of numpy, it will be understood as (type, (1,)) / '(1,)type'.\n",
      "  _np_qint16 = np.dtype([(\"qint16\", np.int16, 1)])\n",
      "/mnt/sdd/fcastro/envs/TF/lib/python3.6/site-packages/tensorflow/python/framework/dtypes.py:519: FutureWarning: Passing (type, 1) or '1type' as a synonym of type is deprecated; in a future version of numpy, it will be understood as (type, (1,)) / '(1,)type'.\n",
      "  _np_quint16 = np.dtype([(\"quint16\", np.uint16, 1)])\n",
      "/mnt/sdd/fcastro/envs/TF/lib/python3.6/site-packages/tensorflow/python/framework/dtypes.py:520: FutureWarning: Passing (type, 1) or '1type' as a synonym of type is deprecated; in a future version of numpy, it will be understood as (type, (1,)) / '(1,)type'.\n",
      "  _np_qint32 = np.dtype([(\"qint32\", np.int32, 1)])\n",
      "/mnt/sdd/fcastro/envs/TF/lib/python3.6/site-packages/tensorflow/python/framework/dtypes.py:525: FutureWarning: Passing (type, 1) or '1type' as a synonym of type is deprecated; in a future version of numpy, it will be understood as (type, (1,)) / '(1,)type'.\n",
      "  np_resource = np.dtype([(\"resource\", np.ubyte, 1)])\n"
     ]
    }
   ],
   "source": [
    "import os\n",
    "os.environ[\"CUDA_DEVICE_ORDER\"]=\"PCI_BUS_ID\"\n",
    "os.environ[\"CUDA_VISIBLE_DEVICES\"]=\"3\"\n",
    "import shfl\n",
    "import torch\n",
    "import copy\n",
    "import numpy as np\n",
    "\n",
    "from sklearn.preprocessing import LabelBinarizer\n",
    "\n",
    "from shfl.private import UnprotectedAccess\n",
    "from CIT.model import CITModel\n",
    "from utils import get_federated_data_csv, get_data_csv\n",
    "from ClassifierModel import ClassifierModel"
   ]
  },
  {
   "cell_type": "code",
   "execution_count": 2,
   "metadata": {},
   "outputs": [],
   "source": [
    "#\"../data/COVIDGR1.0/centralized/cropped\"\n",
    "#partition_iid_3nodes_1.csv\n",
    "args = {\"data_path\":\"../data/COVIDGR1.0-cropped\", \n",
    "        \"csv_path\": \"../partitions/partition_iid_3nodes_1.csv\",\n",
    "        \"output_path\": \"../weights\",\n",
    "        \"input_path\": \"\",\n",
    "        \"model_name\":\"transferlearning.model\", \n",
    "        \"label_bin\": \"lb.pickle\", \n",
    "        \"batch_size\": 8,\n",
    "        \"federated_rounds\": 1,\n",
    "        \"epochs_per_FL_round\": 100,\n",
    "        \"num_nodes\": 3,\n",
    "        \"size_averaging\": 1,\n",
    "        \"random_rotation\": 0,\n",
    "        \"random_shift\": 0, \n",
    "        \"random_zoom\": 0,\n",
    "        \"horizontal_flip\": False,        \n",
    "        \"finetune\": True,\n",
    "        \"train_network\": True}\n",
    "\n",
    "device = torch.device('cuda' if torch.cuda.is_available() else 'cpu')"
   ]
  },
  {
   "cell_type": "code",
   "execution_count": 10,
   "metadata": {},
   "outputs": [
    {
     "name": "stdout",
     "output_type": "stream",
     "text": [
      "[0.1, 0.01, 0.001, 0.0001, 1e-05, 1e-06, 1e-07, 1e-08, 1e-09]\n"
     ]
    }
   ],
   "source": [
    "lambda_values = [float(10**(-n)) for n in range(1, 10)]\n",
    "\n",
    "print(lambda_values)"
   ]
  },
  {
   "cell_type": "code",
   "execution_count": 3,
   "metadata": {},
   "outputs": [],
   "source": [
    "def cit_builder():    \n",
    "    return CITModel(['N', 'P'], classifier_name = \"resnet18\", lambda_values = [0.05], batch_size=args[\"batch_size\"], epochs=args[\"epochs_per_FL_round\"], device=device)\n",
    "\n",
    "def classifier_builder():\n",
    "    return ClassifierModel(batch_size=args[\"batch_size\"], epochs=args[\"epochs_per_FL_round\"], finetune = args[\"finetune\"])\n",
    "\n",
    "def get_transformed_data(federated_data, cit_federated_government, lb1, lb2):\n",
    "    t_federated_data = copy.deepcopy(federated_data)\n",
    "\n",
    "    for i in range(federated_data.num_nodes()):\n",
    "        data_node = federated_data[i]\n",
    "        t_data_node = t_federated_data[i]\n",
    "        data = data_node.query()._data\n",
    "        labels = data_node.query()._label\n",
    "        t_data, t_labels = cit_federated_government.global_model.transform_data(data, labels, lb1, lb2)\n",
    "        t_data_node.query()._data = t_data\n",
    "        t_data_node.query()._label = t_labels\n",
    "\n",
    "    t_test_data, t_test_label = cit_federated_government.global_model.transform_data(test_data, test_label, lb1, lb2)\n",
    "\n",
    "    return t_federated_data, t_test_data, t_test_label"
   ]
  },
  {
   "cell_type": "code",
   "execution_count": 4,
   "metadata": {
    "scrolled": true
   },
   "outputs": [
    {
     "name": "stdout",
     "output_type": "stream",
     "text": [
      "16\n",
      "4\n"
     ]
    }
   ],
   "source": [
    "a = ['N', 'P']\n",
    "b = ['NTN', 'NTP', 'PTP', 'PTN']\n",
    "lb1 = LabelBinarizer()\n",
    "lb2 = LabelBinarizer()\n",
    "lb1.fit(a)\n",
    "lb2.fit(b)\n",
    "\n",
    "data, label, train_data, train_label, test_data, test_label, train_files, test_files = get_data_csv(args[\"data_path\"], args[\"csv_path\"], lb1)\n",
    "\n",
    "print(len(train_data))\n",
    "print(len(test_data))"
   ]
  },
  {
   "cell_type": "code",
   "execution_count": 5,
   "metadata": {
    "scrolled": true
   },
   "outputs": [
    {
     "name": "stdout",
     "output_type": "stream",
     "text": [
      "[INFO] FREEZING\n",
      "[INFO] FREEZING\n",
      "[INFO] FREEZING\n",
      "[INFO] FREEZING\n",
      "[INFO] FREEZING\n",
      "[INFO] FREEZING\n",
      "[INFO] FREEZING\n",
      "[INFO] FREEZING\n",
      "[INFO] FREEZING\n",
      "[INFO] FREEZING\n",
      "[INFO] weights = [1. 1.]\n",
      "LAMBDA: 0.05\n",
      "FOLD: 0\n"
     ]
    },
    {
     "name": "stderr",
     "output_type": "stream",
     "text": [
      "\r",
      "  0%|          | 0/10 [00:00<?, ?it/s]"
     ]
    },
    {
     "name": "stdout",
     "output_type": "stream",
     "text": [
      "[INFO] FREEZING\n",
      "[INFO] FREEZING\n",
      "[INFO] FREEZING\n",
      "[INFO] FREEZING\n",
      "[INFO] FREEZING\n",
      "[INFO] FREEZING\n",
      "[INFO] FREEZING\n",
      "[INFO] FREEZING\n",
      "[INFO] FREEZING\n",
      "[INFO] FREEZING\n"
     ]
    },
    {
     "name": "stderr",
     "output_type": "stream",
     "text": [
      "[1/2] Loss_D: 0.5534 Acc_D: 0.4500 Loss_G_class1: 0.3941 Loss_G_class2: 0.2606: 100%|██████████| 10/10 [00:02<00:00,  4.15it/s]\n",
      "[Validating]: Acc_D: 0.5000: 100%|██████████| 6/6 [00:00<00:00, 14.05it/s]\n"
     ]
    },
    {
     "name": "stdout",
     "output_type": "stream",
     "text": [
      "Valid Loss = 1.0360544870297115\n",
      "Valid Acc = 0.5\n"
     ]
    },
    {
     "name": "stderr",
     "output_type": "stream",
     "text": [
      "[2/2] Loss_D: 0.4889 Acc_D: 0.5000 Loss_G_class1: 0.3919 Loss_G_class2: 0.2655: 100%|██████████| 10/10 [00:02<00:00,  4.33it/s]\n",
      "[Validating]: Acc_D: 0.5000: 100%|██████████| 6/6 [00:00<00:00, 14.60it/s]\n"
     ]
    },
    {
     "name": "stdout",
     "output_type": "stream",
     "text": [
      "Valid Loss = 1.9953247606754303\n",
      "Valid Acc = 0.5\n",
      "EarlyStopping counter: 1 out of 20\n",
      "FOLD: 1\n"
     ]
    },
    {
     "name": "stderr",
     "output_type": "stream",
     "text": [
      "\r",
      "  0%|          | 0/11 [00:00<?, ?it/s]"
     ]
    },
    {
     "name": "stdout",
     "output_type": "stream",
     "text": [
      "[INFO] FREEZING\n",
      "[INFO] FREEZING\n",
      "[INFO] FREEZING\n",
      "[INFO] FREEZING\n",
      "[INFO] FREEZING\n",
      "[INFO] FREEZING\n",
      "[INFO] FREEZING\n",
      "[INFO] FREEZING\n",
      "[INFO] FREEZING\n",
      "[INFO] FREEZING\n"
     ]
    },
    {
     "name": "stderr",
     "output_type": "stream",
     "text": [
      "[1/2] Loss_D: 0.6549 Acc_D: 0.3636 Loss_G_class1: 0.6080 Loss_G_class2: 0.3569: 100%|██████████| 11/11 [00:02<00:00,  4.31it/s]\n",
      "[Validating]: Acc_D: 0.4000: 100%|██████████| 5/5 [00:00<00:00, 12.98it/s]\n",
      "  0%|          | 0/11 [00:00<?, ?it/s]"
     ]
    },
    {
     "name": "stdout",
     "output_type": "stream",
     "text": [
      "Valid Loss = 1.941357183456421\n",
      "Valid Acc = 0.4\n"
     ]
    },
    {
     "name": "stderr",
     "output_type": "stream",
     "text": [
      "[2/2] Loss_D: 0.4413 Acc_D: 0.4091 Loss_G_class1: 0.6105 Loss_G_class2: 0.3443: 100%|██████████| 11/11 [00:02<00:00,  4.31it/s]\n",
      "[Validating]: Acc_D: 0.4000: 100%|██████████| 5/5 [00:00<00:00, 13.07it/s]\n"
     ]
    },
    {
     "name": "stdout",
     "output_type": "stream",
     "text": [
      "Valid Loss = 1.0907709717750549\n",
      "Valid Acc = 0.4\n",
      "FOLD: 2\n"
     ]
    },
    {
     "name": "stderr",
     "output_type": "stream",
     "text": [
      "\r",
      "  0%|          | 0/11 [00:00<?, ?it/s]"
     ]
    },
    {
     "name": "stdout",
     "output_type": "stream",
     "text": [
      "[INFO] FREEZING\n",
      "[INFO] FREEZING\n",
      "[INFO] FREEZING\n",
      "[INFO] FREEZING\n",
      "[INFO] FREEZING\n",
      "[INFO] FREEZING\n",
      "[INFO] FREEZING\n",
      "[INFO] FREEZING\n",
      "[INFO] FREEZING\n",
      "[INFO] FREEZING\n"
     ]
    },
    {
     "name": "stderr",
     "output_type": "stream",
     "text": [
      "[1/2] Loss_D: 0.5562 Acc_D: 0.4545 Loss_G_class1: 0.5824 Loss_G_class2: 0.4605: 100%|██████████| 11/11 [00:02<00:00,  4.34it/s]\n",
      "[Validating]: Acc_D: 0.4000: 100%|██████████| 5/5 [00:00<00:00, 12.73it/s]\n",
      "  0%|          | 0/11 [00:00<?, ?it/s]"
     ]
    },
    {
     "name": "stdout",
     "output_type": "stream",
     "text": [
      "Valid Loss = 1.7610604286193847\n",
      "Valid Acc = 0.4\n"
     ]
    },
    {
     "name": "stderr",
     "output_type": "stream",
     "text": [
      "[2/2] Loss_D: 0.3827 Acc_D: 0.4091 Loss_G_class1: 0.5719 Loss_G_class2: 0.4607: 100%|██████████| 11/11 [00:02<00:00,  4.32it/s]\n",
      "[Validating]: Acc_D: 0.6000: 100%|██████████| 5/5 [00:00<00:00, 12.80it/s]\n"
     ]
    },
    {
     "name": "stdout",
     "output_type": "stream",
     "text": [
      "Valid Loss = 0.7169366955757142\n",
      "Valid Acc = 0.6\n",
      "BEST LAMBDA: 0.05\n"
     ]
    }
   ],
   "source": [
    "cit_model = cit_builder()\n",
    "cit_model.train(train_data, train_label)\n",
    "\n",
    "t_train_data, t_train_label = cit_model.transform_data(train_data, train_label, lb1, lb2)\n",
    "t_test_data, t_test_label = cit_model.transform_data(test_data, test_label, lb1, lb2)"
   ]
  },
  {
   "cell_type": "code",
   "execution_count": 6,
   "metadata": {},
   "outputs": [
    {
     "name": "stdout",
     "output_type": "stream",
     "text": [
      "WARNING:tensorflow:From /mnt/sdd/fcastro/envs/TF/lib/python3.6/site-packages/tensorflow/python/ops/init_ops.py:1251: calling VarianceScaling.__init__ (from tensorflow.python.ops.init_ops) with dtype is deprecated and will be removed in a future version.\n",
      "Instructions for updating:\n",
      "Call initializer instance with the dtype argument instead of passing it to the constructor\n",
      "Epoch 1/2\n",
      "25/25 [==============================] - 17s 678ms/step - loss: 1.6695 - categorical_accuracy: 0.3200 - val_loss: 1.5236 - val_categorical_accuracy: 0.3333\n",
      "Epoch 2/2\n",
      "25/25 [==============================] - 1s 54ms/step - loss: 1.5135 - categorical_accuracy: 0.2800 - val_loss: 1.6180 - val_categorical_accuracy: 0.3333\n"
     ]
    }
   ],
   "source": [
    "from ClassifierModel import ClassifierModel\n",
    "\n",
    "classifier_model = classifier_builder()\n",
    "classifier_model.train(t_train_data, t_train_label)"
   ]
  },
  {
   "cell_type": "code",
   "execution_count": 7,
   "metadata": {},
   "outputs": [
    {
     "name": "stdout",
     "output_type": "stream",
     "text": [
      "Accuracy 4 clases: 0.25\n",
      "Numero de veces no concuerda: 4\n",
      "{'N': {'precision': 0.5, 'recall': 1.0, 'f1-score': 0.6666666666666666, 'support': 2}, 'P': {'precision': 0.0, 'recall': 0.0, 'f1-score': 0.0, 'support': 2}, 'accuracy': 0.5, 'macro avg': {'precision': 0.25, 'recall': 0.5, 'f1-score': 0.3333333333333333, 'support': 4}, 'weighted avg': {'precision': 0.25, 'recall': 0.5, 'f1-score': 0.3333333333333333, 'support': 4}}\n",
      "0.5\n"
     ]
    },
    {
     "name": "stderr",
     "output_type": "stream",
     "text": [
      "/mnt/sdd/fcastro/envs/TF/lib/python3.6/site-packages/sklearn/metrics/_classification.py:1221: UndefinedMetricWarning: Precision and F-score are ill-defined and being set to 0.0 in labels with no predicted samples. Use `zero_division` parameter to control this behavior.\n",
      "  _warn_prf(average, modifier, msg_start, len(result))\n"
     ]
    }
   ],
   "source": [
    "dict_labels = { 'PTP' : np.argmax(lb2.transform(['PTP'])[0]) , 'PTN' : np.argmax(lb2.transform(['PTN'])[0]) , \n",
    "                'NTP' : np.argmax(lb2.transform(['NTP'])[0]) , 'NTN' : np.argmax(lb2.transform(['NTN'])[0])\n",
    "              } \n",
    "G_dict = cit_model._G_dict\n",
    "\n",
    "for key, _ in G_dict.items():\n",
    "    G_dict[key].to(\"cpu\")\n",
    "\n",
    "classifier_model.get_classification_report(test_files, dict_labels, G_dict)"
   ]
  }
 ],
 "metadata": {
  "kernelspec": {
   "display_name": "Python 3",
   "language": "python",
   "name": "python3"
  },
  "language_info": {
   "codemirror_mode": {
    "name": "ipython",
    "version": 3
   },
   "file_extension": ".py",
   "mimetype": "text/x-python",
   "name": "python",
   "nbconvert_exporter": "python",
   "pygments_lexer": "ipython3",
   "version": "3.6.10"
  }
 },
 "nbformat": 4,
 "nbformat_minor": 4
}
