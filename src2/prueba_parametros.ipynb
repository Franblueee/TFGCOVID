{
 "cells": [
  {
   "cell_type": "code",
   "execution_count": 69,
   "metadata": {},
   "outputs": [],
   "source": [
    "import os\n",
    "os.environ[\"CUDA_DEVICE_ORDER\"]=\"PCI_BUS_ID\"\n",
    "os.environ[\"CUDA_VISIBLE_DEVICES\"]=\"1\"\n",
    "import shfl\n",
    "import torch\n",
    "import copy\n",
    "import cv2\n",
    "import numpy as np\n",
    "\n",
    "from sklearn.preprocessing import LabelBinarizer\n",
    "\n",
    "from shfl.private import UnprotectedAccess\n",
    "from CIT.model import CITModel\n",
    "from utils import get_federated_data_csv, get_data_csv\n",
    "from ClassifierModel import ClassifierModel"
   ]
  },
  {
   "cell_type": "code",
   "execution_count": 70,
   "metadata": {},
   "outputs": [],
   "source": [
    "def cit_builder():    \n",
    "    return CITModel(['N', 'P'], classifier_name = \"resnet18\", folds=1, lambda_values = [0.05], batch_size=1, epochs=1, device='cpu')\n"
   ]
  },
  {
   "cell_type": "code",
   "execution_count": null,
   "metadata": {
    "scrolled": false
   },
   "outputs": [],
   "source": [
    "\"\"\"\n",
    "cit1 = cit_builder()\n",
    "cit2 = cit_builder()\n",
    "cit3 = cit_builder()\n",
    "\n",
    "cit2._G_dict['P'].to('cpu')\n",
    "\n",
    "#for p in cit2._G_dict['P'].parameters():\n",
    "#    print(p)\n",
    "\n",
    "state_dict = cit2._G_dict['P'].state_dict()\n",
    "new_state_dict = copy.deepcopy(state_dict)\n",
    "\n",
    "for k in state_dict:\n",
    "    print(state_dict[k])\n",
    "\"\"\""
   ]
  },
  {
   "cell_type": "code",
   "execution_count": null,
   "metadata": {},
   "outputs": [],
   "source": [
    "\"\"\"\n",
    "with torch.no_grad():\n",
    "    \n",
    "    for k in state_dict:\n",
    "        #print(k)\n",
    "        new_state_dict[k] = 2*state_dict[k]\n",
    "        #print(new_state_dict[k])\n",
    "    cit2._G_dict['P'].load_state_dict(new_state_dict)\n",
    "    \n",
    "\n",
    "\"\"\"\n",
    "    "
   ]
  },
  {
   "cell_type": "code",
   "execution_count": null,
   "metadata": {},
   "outputs": [],
   "source": [
    "\"\"\"\n",
    "state_dict = cit2._G_dict['P'].state_dict()\n",
    "for k in state_dict:\n",
    "    print(state_dict[k])\n",
    "\"\"\""
   ]
  },
  {
   "cell_type": "code",
   "execution_count": 71,
   "metadata": {},
   "outputs": [
    {
     "name": "stdout",
     "output_type": "stream",
     "text": [
      "tensor([-0.0183,  0.0027, -0.0244, -0.0293, -0.0254,  0.0475,  0.0497, -0.0322,\n",
      "        -0.0335])\n",
      "tensor([-0.0339, -0.0061, -0.0563,  0.0572, -0.0450,  0.0153,  0.0257,  0.0483,\n",
      "         0.0178])\n",
      "tensor([ 0.0006,  0.0314,  0.0198,  0.0197,  0.0403,  0.0529, -0.0147, -0.0295,\n",
      "         0.0562])\n",
      "bbb\n",
      "tensor([-0.0172,  0.0093, -0.0203,  0.0159, -0.0100,  0.0386,  0.0202, -0.0045,\n",
      "         0.0135])\n"
     ]
    }
   ],
   "source": [
    "cit1 = cit_builder()\n",
    "cit2 = cit_builder()\n",
    "cit3 = cit_builder()\n",
    "\n",
    "for cit in [cit1, cit2, cit3]:\n",
    "    state_dict = cit._G_dict['P'].state_dict()\n",
    "    k = \"block1.0.weight\"\n",
    "    print(state_dict[k][0][0][0])\n",
    "\n",
    "aggregator = shfl.federated_aggregator.FedAvgAggregator()\n",
    "agg = aggregator.aggregate_weights([cit1.get_model_params(), cit2.get_model_params(), cit3.get_model_params()])\n",
    "cit1.set_model_params(agg)\n",
    "\n",
    "print(\"bbb\")\n",
    "state_dict = cit1._G_dict['P'].state_dict()\n",
    "k = \"block1.0.weight\"\n",
    "print(state_dict[k][0][0][0])\n"
   ]
  },
  {
   "cell_type": "code",
   "execution_count": 77,
   "metadata": {},
   "outputs": [
    {
     "name": "stdout",
     "output_type": "stream",
     "text": [
      "tensor([-0.0104, -0.0061, -0.0018,  0.0748,  0.0566,  0.0171, -0.0127])\n",
      "tensor([-0.0104, -0.0061, -0.0018,  0.0748,  0.0566,  0.0171, -0.0127])\n",
      "tensor([-0.0104, -0.0061, -0.0018,  0.0748,  0.0566,  0.0171, -0.0127])\n",
      "bbb\n",
      "tensor([ 1.9965e+00, -6.1356e-03, -1.8098e-03,  7.4841e-02,  5.6615e-02,\n",
      "         1.7083e-02, -1.2694e-02])\n"
     ]
    }
   ],
   "source": [
    "cit1 = cit_builder()\n",
    "cit2 = cit_builder()\n",
    "cit3 = cit_builder()\n",
    "\n",
    "state_dict = cit1._classifier.state_dict()\n",
    "state_dict[k][0][0][0][0] = 3\n",
    "cit1._classifier.load_state_dict(state_dict)\n",
    "\n",
    "k = \"conv1.weight\"\n",
    "for cit in [cit1, cit2, cit3]:\n",
    "    state_dict = cit._classifier.state_dict()\n",
    "    print(state_dict[k][0][0][0])\n",
    "\n",
    "state_dict[k][0][0][0][0] = 3\n",
    "cit1._classifier.load_state_dict(state_dict)\n",
    "    \n",
    "aggregator = shfl.federated_aggregator.FedAvgAggregator()\n",
    "agg = aggregator.aggregate_weights([cit1.get_model_params(), cit2.get_model_params(), cit3.get_model_params()])\n",
    "cit1.set_model_params(agg)\n",
    "\n",
    "print(\"bbb\")\n",
    "state_dict = cit1._classifier.state_dict()\n",
    "k = \"conv1.weight\"\n",
    "print(state_dict[k][0][0][0])"
   ]
  },
  {
   "cell_type": "code",
   "execution_count": null,
   "metadata": {},
   "outputs": [],
   "source": []
  }
 ],
 "metadata": {
  "kernelspec": {
   "display_name": "Python 3",
   "language": "python",
   "name": "python3"
  },
  "language_info": {
   "codemirror_mode": {
    "name": "ipython",
    "version": 3
   },
   "file_extension": ".py",
   "mimetype": "text/x-python",
   "name": "python",
   "nbconvert_exporter": "python",
   "pygments_lexer": "ipython3",
   "version": "3.6.10"
  }
 },
 "nbformat": 4,
 "nbformat_minor": 4
}
