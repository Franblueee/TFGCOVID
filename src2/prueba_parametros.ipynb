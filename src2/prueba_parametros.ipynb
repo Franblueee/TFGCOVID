{
 "cells": [
  {
   "cell_type": "code",
   "execution_count": 1,
   "metadata": {},
   "outputs": [
    {
     "name": "stderr",
     "output_type": "stream",
     "text": [
      "/mnt/sdd/fcastro/envs/TF/lib/python3.6/site-packages/tensorflow/python/framework/dtypes.py:516: FutureWarning: Passing (type, 1) or '1type' as a synonym of type is deprecated; in a future version of numpy, it will be understood as (type, (1,)) / '(1,)type'.\n",
      "  _np_qint8 = np.dtype([(\"qint8\", np.int8, 1)])\n",
      "/mnt/sdd/fcastro/envs/TF/lib/python3.6/site-packages/tensorflow/python/framework/dtypes.py:517: FutureWarning: Passing (type, 1) or '1type' as a synonym of type is deprecated; in a future version of numpy, it will be understood as (type, (1,)) / '(1,)type'.\n",
      "  _np_quint8 = np.dtype([(\"quint8\", np.uint8, 1)])\n",
      "/mnt/sdd/fcastro/envs/TF/lib/python3.6/site-packages/tensorflow/python/framework/dtypes.py:518: FutureWarning: Passing (type, 1) or '1type' as a synonym of type is deprecated; in a future version of numpy, it will be understood as (type, (1,)) / '(1,)type'.\n",
      "  _np_qint16 = np.dtype([(\"qint16\", np.int16, 1)])\n",
      "/mnt/sdd/fcastro/envs/TF/lib/python3.6/site-packages/tensorflow/python/framework/dtypes.py:519: FutureWarning: Passing (type, 1) or '1type' as a synonym of type is deprecated; in a future version of numpy, it will be understood as (type, (1,)) / '(1,)type'.\n",
      "  _np_quint16 = np.dtype([(\"quint16\", np.uint16, 1)])\n",
      "/mnt/sdd/fcastro/envs/TF/lib/python3.6/site-packages/tensorflow/python/framework/dtypes.py:520: FutureWarning: Passing (type, 1) or '1type' as a synonym of type is deprecated; in a future version of numpy, it will be understood as (type, (1,)) / '(1,)type'.\n",
      "  _np_qint32 = np.dtype([(\"qint32\", np.int32, 1)])\n",
      "/mnt/sdd/fcastro/envs/TF/lib/python3.6/site-packages/tensorflow/python/framework/dtypes.py:525: FutureWarning: Passing (type, 1) or '1type' as a synonym of type is deprecated; in a future version of numpy, it will be understood as (type, (1,)) / '(1,)type'.\n",
      "  np_resource = np.dtype([(\"resource\", np.ubyte, 1)])\n"
     ]
    }
   ],
   "source": [
    "import os\n",
    "os.environ[\"CUDA_DEVICE_ORDER\"]=\"PCI_BUS_ID\"\n",
    "os.environ[\"CUDA_VISIBLE_DEVICES\"]=\"5\"\n",
    "import shfl\n",
    "import torch\n",
    "import copy\n",
    "import cv2\n",
    "import numpy as np\n",
    "\n",
    "from sklearn.preprocessing import LabelBinarizer\n",
    "\n",
    "from shfl.private import UnprotectedAccess\n",
    "from CIT.model import CITModel\n",
    "from utils import get_federated_data_csv, get_data_csv\n",
    "from ClassifierModel import ClassifierModel"
   ]
  },
  {
   "cell_type": "code",
   "execution_count": 2,
   "metadata": {},
   "outputs": [],
   "source": [
    "args = {\"data_path\":\"../data/COVIDGR1.0-Segmentadas\", \n",
    "        \"csv_path\": \"../partitions/partition_reducido_fed.csv\",\n",
    "        \"output_path\": \"../weights\",\n",
    "        \"input_path\": \"\",\n",
    "        \"model_name\":\"transferlearning.model\", \n",
    "        \"label_bin\": \"lb.pickle\", \n",
    "        \"batch_size\": 1,\n",
    "        \"federated_rounds\": 1,\n",
    "        \"epochs_per_FL_round\": 1,\n",
    "        \"num_nodes\": 3,\n",
    "        \"size_averaging\": 1,\n",
    "        \"random_rotation\": 0,\n",
    "        \"random_shift\": 0, \n",
    "        \"random_zoom\": 0,\n",
    "        \"horizontal_flip\": False,        \n",
    "        \"finetune\": True,\n",
    "        \"train_network\": True}\n",
    "\n",
    "device = torch.device('cuda' if torch.cuda.is_available() else 'cpu')"
   ]
  },
  {
   "cell_type": "code",
   "execution_count": 3,
   "metadata": {},
   "outputs": [
    {
     "name": "stdout",
     "output_type": "stream",
     "text": [
      "[INFO] Fetching federated data...\n",
      "16\n",
      "4\n",
      "1\n",
      "16\n",
      "[INFO] done\n"
     ]
    }
   ],
   "source": [
    "a = ['N', 'P']\n",
    "b = ['NTN', 'NTP', 'PTP', 'PTN']\n",
    "lb1 = LabelBinarizer()\n",
    "lb2 = LabelBinarizer()\n",
    "lb1.fit(a)\n",
    "lb2.fit(b)\n",
    "\n",
    "print(\"[INFO] Fetching federated data...\")\n",
    "federated_data, train_data, train_label, test_data, test_label, train_files, test_files, args[\"num_nodes\"] = get_federated_data_csv(args[\"data_path\"], args[\"csv_path\"], lb1)\n",
    "federated_data.configure_data_access(UnprotectedAccess())\n",
    "print(len(train_data))\n",
    "print(len(test_data))\n",
    "print(args[\"num_nodes\"])\n",
    "\n",
    "for i in range(federated_data.num_nodes()):\n",
    "    data = federated_data[i].query()._data\n",
    "    print(len(data))\n",
    "\n",
    "print(\"[INFO] done\")"
   ]
  },
  {
   "cell_type": "code",
   "execution_count": 4,
   "metadata": {},
   "outputs": [],
   "source": [
    "def cit_builder():    \n",
    "    return CITModel(['N', 'P'], classifier_name = \"resnet18\", folds=1, lambda_values = [0.05], batch_size=args[\"batch_size\"], epochs=args[\"epochs_per_FL_round\"], device=device)\n"
   ]
  },
  {
   "cell_type": "code",
   "execution_count": 5,
   "metadata": {},
   "outputs": [
    {
     "name": "stdout",
     "output_type": "stream",
     "text": [
      "Accuracy round 0\n",
      "Training node 0\n",
      "[INFO] weights = [1. 1.]\n"
     ]
    },
    {
     "name": "stderr",
     "output_type": "stream",
     "text": [
      "[Validating]: Acc_D: 1.0000: 100%|██████████| 2/2 [00:01<00:00,  1.47it/s]\n"
     ]
    },
    {
     "name": "stdout",
     "output_type": "stream",
     "text": [
      "[INFO] LAMBDA: 0.05\n"
     ]
    },
    {
     "name": "stderr",
     "output_type": "stream",
     "text": [
      "[Validating]: Acc_D: 1.0000: 100%|██████████| 2/2 [00:00<00:00,  2.20it/s]\n",
      "[1/1] Loss_D: 0.4824 Acc_D: 0.3571 Loss_G_class1: 0.1903 Loss_G_class2: 0.1667: 100%|██████████| 14/14 [00:03<00:00,  4.21it/s]\n",
      "[Validating]: Acc_D: 0.5000: 100%|██████████| 2/2 [00:00<00:00,  5.85it/s]\n",
      "  0%|          | 0/2 [00:00<?, ?it/s]"
     ]
    },
    {
     "name": "stdout",
     "output_type": "stream",
     "text": [
      "\n",
      "Valid Acc = 0.5\n",
      "Valid Loss = 1.01156884431839\n"
     ]
    },
    {
     "name": "stderr",
     "output_type": "stream",
     "text": [
      "[Validating]: Acc_D: 1.0000: 100%|██████████| 2/2 [00:00<00:00,  7.87it/s]"
     ]
    },
    {
     "name": "stdout",
     "output_type": "stream",
     "text": [
      "[INFO] Summary of training for LAMBDA = 0.05 (best model values)\n",
      "Valid Acc = 1.0\n",
      "Valid Loss = 0.6437866687774658\n"
     ]
    },
    {
     "name": "stderr",
     "output_type": "stream",
     "text": [
      "\n"
     ]
    },
    {
     "name": "stdout",
     "output_type": "stream",
     "text": [
      "Test performance client <shfl.private.federated_operation.FederatedDataNode object at 0x7f2ed47b1320>: [0.6898781061172485, 0.75, {'0': {'precision': 0.5, 'recall': 1.0, 'f1-score': 0.6666666666666666, 'support': 1}, '1': {'precision': 1.0, 'recall': 0.6666666666666666, 'f1-score': 0.8, 'support': 3}, 'accuracy': 0.75, 'macro avg': {'precision': 0.75, 'recall': 0.8333333333333333, 'f1-score': 0.7333333333333334, 'support': 4}, 'weighted avg': {'precision': 0.875, 'recall': 0.75, 'f1-score': 0.7666666666666667, 'support': 4}}]\n",
      "Global model test performance : [0.6898781061172485, 0.75, {'0': {'precision': 0.5, 'recall': 1.0, 'f1-score': 0.6666666666666666, 'support': 1}, '1': {'precision': 1.0, 'recall': 0.6666666666666666, 'f1-score': 0.8, 'support': 3}, 'accuracy': 0.75, 'macro avg': {'precision': 0.75, 'recall': 0.8333333333333333, 'f1-score': 0.7333333333333334, 'support': 4}, 'weighted avg': {'precision': 0.875, 'recall': 0.75, 'f1-score': 0.7666666666666667, 'support': 4}}]\n",
      "\n",
      "\n",
      "\n"
     ]
    }
   ],
   "source": [
    "aggregator = shfl.federated_aggregator.FedAvgAggregator()\n",
    "cit_federated_government = shfl.federated_government.FederatedGovernment(cit_builder, federated_data, aggregator)\n",
    "cit_federated_government.run_rounds(args[\"federated_rounds\"], test_data, test_label)"
   ]
  },
  {
   "cell_type": "code",
   "execution_count": 6,
   "metadata": {
    "scrolled": false
   },
   "outputs": [
    {
     "data": {
      "text/plain": [
       "\"\\ncit1 = cit_builder()\\ncit2 = cit_builder()\\ncit3 = cit_builder()\\n\\ncit2._G_dict['P'].to('cpu')\\n\\n#for p in cit2._G_dict['P'].parameters():\\n#    print(p)\\n\\nstate_dict = cit2._G_dict['P'].state_dict()\\nnew_state_dict = copy.deepcopy(state_dict)\\n\\nfor k in state_dict:\\n    print(state_dict[k])\\n\""
      ]
     },
     "execution_count": 6,
     "metadata": {},
     "output_type": "execute_result"
    }
   ],
   "source": [
    "\"\"\"\n",
    "cit1 = cit_builder()\n",
    "cit2 = cit_builder()\n",
    "cit3 = cit_builder()\n",
    "\n",
    "cit2._G_dict['P'].to('cpu')\n",
    "\n",
    "#for p in cit2._G_dict['P'].parameters():\n",
    "#    print(p)\n",
    "\n",
    "state_dict = cit2._G_dict['P'].state_dict()\n",
    "new_state_dict = copy.deepcopy(state_dict)\n",
    "\n",
    "for k in state_dict:\n",
    "    print(state_dict[k])\n",
    "\"\"\""
   ]
  },
  {
   "cell_type": "code",
   "execution_count": 7,
   "metadata": {},
   "outputs": [
    {
     "data": {
      "text/plain": [
       "\"\\nwith torch.no_grad():\\n    \\n    for k in state_dict:\\n        #print(k)\\n        new_state_dict[k] = 2*state_dict[k]\\n        #print(new_state_dict[k])\\n    cit2._G_dict['P'].load_state_dict(new_state_dict)\\n    \\n\\n\""
      ]
     },
     "execution_count": 7,
     "metadata": {},
     "output_type": "execute_result"
    }
   ],
   "source": [
    "\"\"\"\n",
    "with torch.no_grad():\n",
    "    \n",
    "    for k in state_dict:\n",
    "        #print(k)\n",
    "        new_state_dict[k] = 2*state_dict[k]\n",
    "        #print(new_state_dict[k])\n",
    "    cit2._G_dict['P'].load_state_dict(new_state_dict)\n",
    "    \n",
    "\n",
    "\"\"\"\n",
    "    "
   ]
  },
  {
   "cell_type": "code",
   "execution_count": 8,
   "metadata": {},
   "outputs": [
    {
     "data": {
      "text/plain": [
       "\"\\nstate_dict = cit2._G_dict['P'].state_dict()\\nfor k in state_dict:\\n    print(state_dict[k])\\n\""
      ]
     },
     "execution_count": 8,
     "metadata": {},
     "output_type": "execute_result"
    }
   ],
   "source": [
    "\"\"\"\n",
    "state_dict = cit2._G_dict['P'].state_dict()\n",
    "for k in state_dict:\n",
    "    print(state_dict[k])\n",
    "\"\"\""
   ]
  },
  {
   "cell_type": "code",
   "execution_count": 9,
   "metadata": {},
   "outputs": [
    {
     "data": {
      "text/plain": [
       "'\\ncit1 = cit_builder()\\ncit2 = cit_builder()\\ncit3 = cit_builder()\\n\\nfor cit in [cit1, cit2, cit3]:\\n    state_dict = cit._G_dict[\\'P\\'].state_dict()\\n    k = \"block1.0.weight\"\\n    print(state_dict[k][0][0][0])\\n\\naggregator = shfl.federated_aggregator.FedAvgAggregator()\\nagg = aggregator.aggregate_weights([cit1.get_model_params(), cit2.get_model_params(), cit3.get_model_params()])\\ncit1.set_model_params(agg)\\n\\nprint(\"bbb\")\\nstate_dict = cit1._G_dict[\\'P\\'].state_dict()\\nk = \"block1.0.weight\"\\nprint(state_dict[k][0][0][0])\\n'"
      ]
     },
     "execution_count": 9,
     "metadata": {},
     "output_type": "execute_result"
    }
   ],
   "source": [
    "\"\"\"\n",
    "cit1 = cit_builder()\n",
    "cit2 = cit_builder()\n",
    "cit3 = cit_builder()\n",
    "\n",
    "for cit in [cit1, cit2, cit3]:\n",
    "    state_dict = cit._G_dict['P'].state_dict()\n",
    "    k = \"block1.0.weight\"\n",
    "    print(state_dict[k][0][0][0])\n",
    "\n",
    "aggregator = shfl.federated_aggregator.FedAvgAggregator()\n",
    "agg = aggregator.aggregate_weights([cit1.get_model_params(), cit2.get_model_params(), cit3.get_model_params()])\n",
    "cit1.set_model_params(agg)\n",
    "\n",
    "print(\"bbb\")\n",
    "state_dict = cit1._G_dict['P'].state_dict()\n",
    "k = \"block1.0.weight\"\n",
    "print(state_dict[k][0][0][0])\n",
    "\"\"\"\n"
   ]
  },
  {
   "cell_type": "code",
   "execution_count": 10,
   "metadata": {},
   "outputs": [
    {
     "data": {
      "text/plain": [
       "'\\ncit1 = cit_builder()\\ncit2 = cit_builder()\\ncit3 = cit_builder()\\n\\nstate_dict = cit1._classifier.state_dict()\\nstate_dict[k][0][0][0][0] = 3\\ncit1._classifier.load_state_dict(state_dict)\\n\\nk = \"conv1.weight\"\\nfor cit in [cit1, cit2, cit3]:\\n    state_dict = cit._classifier.state_dict()\\n    print(state_dict[k][0][0][0])\\n\\nstate_dict[k][0][0][0][0] = 3\\ncit1._classifier.load_state_dict(state_dict)\\n    \\naggregator = shfl.federated_aggregator.FedAvgAggregator()\\nagg = aggregator.aggregate_weights([cit1.get_model_params(), cit2.get_model_params(), cit3.get_model_params()])\\ncit1.set_model_params(agg)\\n\\nprint(\"bbb\")\\nstate_dict = cit1._classifier.state_dict()\\nk = \"conv1.weight\"\\nprint(state_dict[k][0][0][0])\\n'"
      ]
     },
     "execution_count": 10,
     "metadata": {},
     "output_type": "execute_result"
    }
   ],
   "source": [
    "\"\"\"\n",
    "cit1 = cit_builder()\n",
    "cit2 = cit_builder()\n",
    "cit3 = cit_builder()\n",
    "\n",
    "state_dict = cit1._classifier.state_dict()\n",
    "state_dict[k][0][0][0][0] = 3\n",
    "cit1._classifier.load_state_dict(state_dict)\n",
    "\n",
    "k = \"conv1.weight\"\n",
    "for cit in [cit1, cit2, cit3]:\n",
    "    state_dict = cit._classifier.state_dict()\n",
    "    print(state_dict[k][0][0][0])\n",
    "\n",
    "state_dict[k][0][0][0][0] = 3\n",
    "cit1._classifier.load_state_dict(state_dict)\n",
    "    \n",
    "aggregator = shfl.federated_aggregator.FedAvgAggregator()\n",
    "agg = aggregator.aggregate_weights([cit1.get_model_params(), cit2.get_model_params(), cit3.get_model_params()])\n",
    "cit1.set_model_params(agg)\n",
    "\n",
    "print(\"bbb\")\n",
    "state_dict = cit1._classifier.state_dict()\n",
    "k = \"conv1.weight\"\n",
    "print(state_dict[k][0][0][0])\n",
    "\"\"\""
   ]
  },
  {
   "cell_type": "code",
   "execution_count": null,
   "metadata": {},
   "outputs": [],
   "source": []
  }
 ],
 "metadata": {
  "kernelspec": {
   "display_name": "Python 3",
   "language": "python",
   "name": "python3"
  },
  "language_info": {
   "codemirror_mode": {
    "name": "ipython",
    "version": 3
   },
   "file_extension": ".py",
   "mimetype": "text/x-python",
   "name": "python",
   "nbconvert_exporter": "python",
   "pygments_lexer": "ipython3",
   "version": "3.6.10"
  }
 },
 "nbformat": 4,
 "nbformat_minor": 4
}
