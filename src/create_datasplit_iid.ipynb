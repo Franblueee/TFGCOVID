{
 "cells": [
  {
   "cell_type": "code",
   "execution_count": null,
   "metadata": {},
   "outputs": [],
   "source": [
    "import numpy as np\n",
    "import os\n",
    "from imutils import paths\n",
    "import csv\n",
    "\n",
    "from utils_data import federate_data_iid, shuffle, federate_data_iid_balanced"
   ]
  },
  {
   "cell_type": "code",
   "execution_count": null,
   "metadata": {},
   "outputs": [],
   "source": [
    "path = \"../data/Revisadas-Clasificadas-Recortadas\"\n",
    "\n",
    "train_prop = 0.8\n",
    "num_nodes = 9\n",
    "\n",
    "for s in [1, 2, 3]:\n",
    "    np.random.seed(s)\n",
    "\n",
    "    csv_file_path = \"../partitions/partition_iid_\"+str(num_nodes)+\"nodes_\"+str(s)+\".csv\"\n",
    "\n",
    "    image_paths = list(paths.list_images(path))\n",
    "\n",
    "    train_dim = int(train_prop * len(image_paths))\n",
    "\n",
    "    new_image_paths = shuffle(image_paths)\n",
    "\n",
    "    train_image_paths = new_image_paths[0:train_dim]\n",
    "    test_image_paths = new_image_paths[train_dim:]\n",
    "\n",
    "    federated_data = federate_data_iid(train_image_paths, num_nodes)\n",
    "\n",
    "    with open(csv_file_path, mode='w') as csv_file:\n",
    "        fieldnames = ['name', 'class', 'set', 'node']\n",
    "        writer = csv.DictWriter(csv_file, fieldnames=fieldnames)\n",
    "        writer.writeheader()\n",
    "\n",
    "        set_w = 'test'\n",
    "        node = '-1'\n",
    "        for image_path in test_image_paths:\n",
    "            name = image_path.split(os.path.sep)[-1].split('.')[0]\n",
    "            label = image_path.split(os.path.sep)[-2]\n",
    "            writer.writerow({'name': name, 'class': label, 'set': set_w, 'node': node})\n",
    "\n",
    "        \n",
    "        set_w = 'train'\n",
    "        for n in range(num_nodes):\n",
    "            node = str(n)\n",
    "            for image_path in federated_data[n]:\n",
    "                name = image_path.split(os.path.sep)[-1].split('.')[0]\n",
    "                label = image_path.split(os.path.sep)[-2]\n",
    "                writer.writerow({'name': name, 'class': label, 'set': set_w, 'node': node})"
   ]
  },
  {
   "cell_type": "code",
   "execution_count": null,
   "metadata": {
    "tags": [
     "outputPrepend"
    ]
   },
   "outputs": [],
   "source": [
    "csv_file = \"../partitions/partition_iid_3nodes_1.csv\"\n",
    "with open(csv_file_path, mode='r') as csv_file:\n",
    "    csv_reader = csv.DictReader(csv_file)\n",
    "    line_count = 0\n",
    "    for row in csv_reader:\n",
    "        if line_count == 0:\n",
    "            line_count = line_count + 1\n",
    "        else:\n",
    "            image_path = path + os.sep + row['class'] + os.sep + row['name'] + '.jpg'"
   ]
  }
 ],
 "metadata": {
  "interpreter": {
   "hash": "d0c987a270aa9829755f545f2ee8bcdf0274568a91ef6f4a3e2b9b26f9469fd1"
  },
  "kernelspec": {
   "display_name": "Python 3.6.10 64-bit (conda)",
   "name": "python3"
  },
  "language_info": {
   "name": "python",
   "version": ""
  }
 },
 "nbformat": 4,
 "nbformat_minor": 5
}