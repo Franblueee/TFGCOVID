{
 "cells": [
  {
   "cell_type": "code",
   "execution_count": null,
   "metadata": {},
   "outputs": [],
   "source": [
    "import numpy as np\n",
    "import os\n",
    "from utils_data import get_hospital_dict, get_rale_dict, get_demograf_dict, get_neg_pos, federate_data_hospital, federate_data_nivelesrale, federate_data_puntosrale, federate_data_demograf, write_csv_file  "
   ]
  },
  {
   "cell_type": "code",
   "execution_count": null,
   "metadata": {
    "tags": []
   },
   "outputs": [],
   "source": [
    "metadata_file = \"../data/Metadatos.csv\"\n",
    "#data_path = \"../data/COVIDGR1.0-Segmentadas\"\n",
    "data_path = \"../data/Revisadas-Clasificadas\"\n",
    "\n",
    "hospital_dict = get_hospital_dict(data_path, metadata_file)\n",
    "niveles_rale_dict, puntos_rale_dict = get_rale_dict(data_path, metadata_file)\n",
    "demograf_dict = get_demograf_dict(data_path, metadata_file)"
   ]
  },
  {
   "cell_type": "code",
   "execution_count": null,
   "metadata": {},
   "outputs": [],
   "source": [
    "print(\"Hospitales\")\n",
    "for k in [\"San Cecilio\", \"MOTRIL\", \"ELCHE\", \"BAZA\"]:\n",
    "    image_paths = hospital_dict[k]\n",
    "    neg, pos = get_neg_pos(image_paths)\n",
    "    print(k + \" N: \" + str(neg) + \" P: \" + str(pos))\n",
    "\n",
    "print(\"Puntos RALE\")\n",
    "for k in puntos_rale_dict.keys():\n",
    "    image_paths = puntos_rale_dict[k]\n",
    "    neg, pos = get_neg_pos(image_paths)\n",
    "    print(str(k) + \" N: \" + str(neg) + \" P: \" + str(pos))\n",
    "\n",
    "print(\"Niveles RALE\")\n",
    "for k in niveles_rale_dict.keys():\n",
    "    image_paths = niveles_rale_dict[k]\n",
    "    neg, pos = get_neg_pos(image_paths)\n",
    "    print(str(k) + \" N: \" + str(neg) + \" P: \" + str(pos))\n",
    "\n",
    "print(\"Demográfica\")\n",
    "for k in demograf_dict.keys():\n",
    "    image_paths = demograf_dict[k]\n",
    "    neg, pos = get_neg_pos(image_paths)\n",
    "    print(str(k) + \" N: \" + str(neg) + \" P: \" + str(pos))"
   ]
  },
  {
   "cell_type": "code",
   "execution_count": null,
   "metadata": {
    "tags": []
   },
   "outputs": [],
   "source": [
    "\n",
    "for s in [1, 2, 3]:\n",
    "    np.random.seed(s)\n",
    "    federated_data, test_data = federate_data_hospital(hospital_dict)\n",
    "\n",
    "    for i in range(len(federated_data)):\n",
    "        image_paths = federated_data[i]\n",
    "        neg, pos = get_neg_pos(image_paths)\n",
    "\n",
    "    csv_file_path = \"../partitions/partition_noniid_hospital_\" + str(s) + \".csv\"\n",
    "    write_csv_file(federated_data, test_data, csv_file_path)"
   ]
  },
  {
   "cell_type": "code",
   "execution_count": null,
   "metadata": {},
   "outputs": [],
   "source": [
    "\n",
    "for s in [1, 2, 3]:\n",
    "    np.random.seed(s)\n",
    "    federated_data, test_data = federate_data_nivelesrale(niveles_rale_dict)\n",
    "\n",
    "    for i in range(len(federated_data)):\n",
    "        image_paths = federated_data[i]\n",
    "        neg, pos = get_neg_pos(image_paths)\n",
    "\n",
    "    csv_file_path = \"../partitions/partition_noniid_nivelesrale_\" + str(s) + \".csv\"\n",
    "    write_csv_file(federated_data, test_data, csv_file_path)"
   ]
  },
  {
   "cell_type": "code",
   "execution_count": null,
   "metadata": {},
   "outputs": [],
   "source": [
    "for s in [1, 2, 3]:\n",
    "    np.random.seed(s)\n",
    "    federated_data, test_data = federate_data_puntosrale(puntos_rale_dict)\n",
    "\n",
    "    for i in range(len(federated_data)):\n",
    "        image_paths = federated_data[i]\n",
    "        neg, pos = get_neg_pos(image_paths)\n",
    "\n",
    "    csv_file_path = \"../partitions/partition_noniid_puntosrale_\" + str(s) +\".csv\"\n",
    "    write_csv_file(federated_data, test_data, csv_file_path)"
   ]
  },
  {
   "cell_type": "code",
   "execution_count": null,
   "metadata": {},
   "outputs": [],
   "source": [
    "for s in [1, 2, 3]:\n",
    "    np.random.seed(s)\n",
    "    federated_data, test_data = federate_data_demograf(demograf_dict)\n",
    "\n",
    "    for i in range(len(federated_data)):\n",
    "        image_paths = federated_data[i]\n",
    "        neg, pos = get_neg_pos(image_paths)\n",
    "\n",
    "    csv_file_path = \"../partitions/partition_noniid_demograf_\" + str(s) + \".csv\"\n",
    "    write_csv_file(federated_data, test_data, csv_file_path)"
   ]
  }
 ],
 "metadata": {
  "interpreter": {
   "hash": "d0c987a270aa9829755f545f2ee8bcdf0274568a91ef6f4a3e2b9b26f9469fd1"
  },
  "kernelspec": {
   "display_name": "Python 3.6.10 64-bit (conda)",
   "name": "python3"
  },
  "language_info": {
   "name": "python",
   "version": ""
  }
 },
 "nbformat": 4,
 "nbformat_minor": 5
}