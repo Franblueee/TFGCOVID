{
 "cells": [
  {
   "cell_type": "code",
   "execution_count": 1,
   "metadata": {},
   "outputs": [
    {
     "output_type": "stream",
     "name": "stderr",
     "text": [
      "/home/usuario1/Facultad/conda-environments/envs/TF/lib/python3.6/site-packages/tensorflow/python/framework/dtypes.py:516: FutureWarning: Passing (type, 1) or '1type' as a synonym of type is deprecated; in a future version of numpy, it will be understood as (type, (1,)) / '(1,)type'.\n  _np_qint8 = np.dtype([(\"qint8\", np.int8, 1)])\n/home/usuario1/Facultad/conda-environments/envs/TF/lib/python3.6/site-packages/tensorflow/python/framework/dtypes.py:517: FutureWarning: Passing (type, 1) or '1type' as a synonym of type is deprecated; in a future version of numpy, it will be understood as (type, (1,)) / '(1,)type'.\n  _np_quint8 = np.dtype([(\"quint8\", np.uint8, 1)])\n/home/usuario1/Facultad/conda-environments/envs/TF/lib/python3.6/site-packages/tensorflow/python/framework/dtypes.py:518: FutureWarning: Passing (type, 1) or '1type' as a synonym of type is deprecated; in a future version of numpy, it will be understood as (type, (1,)) / '(1,)type'.\n  _np_qint16 = np.dtype([(\"qint16\", np.int16, 1)])\n/home/usuario1/Facultad/conda-environments/envs/TF/lib/python3.6/site-packages/tensorflow/python/framework/dtypes.py:519: FutureWarning: Passing (type, 1) or '1type' as a synonym of type is deprecated; in a future version of numpy, it will be understood as (type, (1,)) / '(1,)type'.\n  _np_quint16 = np.dtype([(\"quint16\", np.uint16, 1)])\n/home/usuario1/Facultad/conda-environments/envs/TF/lib/python3.6/site-packages/tensorflow/python/framework/dtypes.py:520: FutureWarning: Passing (type, 1) or '1type' as a synonym of type is deprecated; in a future version of numpy, it will be understood as (type, (1,)) / '(1,)type'.\n  _np_qint32 = np.dtype([(\"qint32\", np.int32, 1)])\n/home/usuario1/Facultad/conda-environments/envs/TF/lib/python3.6/site-packages/tensorflow/python/framework/dtypes.py:525: FutureWarning: Passing (type, 1) or '1type' as a synonym of type is deprecated; in a future version of numpy, it will be understood as (type, (1,)) / '(1,)type'.\n  np_resource = np.dtype([(\"resource\", np.ubyte, 1)])\n"
     ]
    }
   ],
   "source": [
    "import numpy as np\n",
    "import os\n",
    "from imutils import paths\n",
    "import csv\n",
    "import copy\n",
    "from utils import *"
   ]
  },
  {
   "cell_type": "code",
   "execution_count": 2,
   "metadata": {
    "tags": []
   },
   "outputs": [
    {
     "output_type": "stream",
     "name": "stdout",
     "text": [
      "0: 79\n1: 62\n2: 71\n3: 71\n4: 54\n5: 64\n6: 48\n7: 25\n8: 16\nN: 450\nHombres<=50: 172\nMujeres<=50: 228\nHombres(50,65]: 135\nMujeres(50,65]: 148\nHombres>65: 158\nMujeres>65: 99\n"
     ]
    }
   ],
   "source": [
    "metadata_file = \"../data/Metadatos.csv\"\n",
    "#data_path = \"../data/COVIDGR1.0-Segmentadas\"\n",
    "data_path = \"../data/Revisadas-Clasificadas\"\n",
    "\n",
    "hospital_dict = get_hospital_dict(data_path, metadata_file)\n",
    "niveles_rale_dict, puntos_rale_dict = get_rale_dict(data_path, metadata_file)\n",
    "demograf_dict = get_demograf_dict(data_path, metadata_file)\n",
    "\n",
    "for k in puntos_rale_dict.keys():\n",
    "    print(str(k) + \": \" + str( len(puntos_rale_dict[k]) ) )\n",
    "for k in demograf_dict.keys():\n",
    "    print(str(k) + \": \" + str( len(demograf_dict[k]) ) )"
   ]
  },
  {
   "cell_type": "code",
   "execution_count": 8,
   "metadata": {},
   "outputs": [
    {
     "output_type": "stream",
     "name": "stdout",
     "text": [
      "San Cecilio N: 449 P: 334\nMOTRIL N: 29 P: 68\nELCHE N: 8 P: 24\nBAZA N: 2 P: 19\n0 N: 0 P: 79\n1 N: 13 P: 49\n2 N: 18 P: 53\n3 N: 3 P: 68\n4 N: 4 P: 50\n5 N: 1 P: 63\n6 N: 0 P: 48\n7 N: 0 P: 25\n8 N: 1 P: 15\nN N: 450 P: 0\nNEGATIVE N: 450 P: 0\nNORMAL-PCR+ N: 0 P: 79\nLEVE N: 31 P: 102\nMODERADO N: 8 P: 183\nGRAVE N: 1 P: 86\nHombres<=50 N: 112 P: 60\nMujeres<=50 N: 166 P: 62\nHombres(50,65] N: 46 P: 89\nMujeres(50,65] N: 79 P: 69\nHombres>65 N: 57 P: 101\nMujeres>65 N: 30 P: 69\n"
     ]
    }
   ],
   "source": [
    "def get_neg_pos(image_paths):\n",
    "    neg = 0\n",
    "    pos = 0\n",
    "    for img in image_paths:\n",
    "        label = img.split(os.sep)[-2]\n",
    "        if label == 'N':\n",
    "            neg = neg + 1\n",
    "        else:\n",
    "            pos = pos + 1\n",
    "    \n",
    "    return neg, pos\n",
    "\n",
    "for k in [\"San Cecilio\", \"MOTRIL\", \"ELCHE\", \"BAZA\"]:\n",
    "    image_paths = hospital_dict[k]\n",
    "    neg, pos = get_neg_pos(image_paths)\n",
    "    print(k + \" N: \" + str(neg) + \" P: \" + str(pos))\n",
    "\n",
    "for k in puntos_rale_dict.keys():\n",
    "    image_paths = puntos_rale_dict[k]\n",
    "    neg, pos = get_neg_pos(image_paths)\n",
    "    print(str(k) + \" N: \" + str(neg) + \" P: \" + str(pos))\n",
    "\n",
    "for k in niveles_rale_dict.keys():\n",
    "    image_paths = niveles_rale_dict[k]\n",
    "    neg, pos = get_neg_pos(image_paths)\n",
    "    print(str(k) + \" N: \" + str(neg) + \" P: \" + str(pos))\n",
    "\n",
    "for k in demograf_dict.keys():\n",
    "    image_paths = demograf_dict[k]\n",
    "    neg, pos = get_neg_pos(image_paths)\n",
    "    print(str(k) + \" N: \" + str(neg) + \" P: \" + str(pos))\n"
   ]
  },
  {
   "cell_type": "code",
   "execution_count": 12,
   "metadata": {
    "tags": []
   },
   "outputs": [
    {
     "output_type": "stream",
     "name": "stdout",
     "text": [
      "0 N: 346 P: 280\n1 N: 23 P: 54\n2 N: 8 P: 17\n3 N: 2 P: 14\n"
     ]
    }
   ],
   "source": [
    "s = 3\n",
    "np.random.seed(s)\n",
    "federated_data, test_data = federate_data_hospital(hospital_dict)\n",
    "\n",
    "for i in range(len(federated_data)):\n",
    "    image_paths = federated_data[i]\n",
    "    neg, pos = get_neg_pos(image_paths)\n",
    "    print(str(i) + \" N: \" + str(neg) + \" P: \" + str(pos))\n",
    "\n",
    "#csv_file_path = \"../partitions/partition_noniid_hospital_\" + str(s) + \".csv\"\n",
    "#write_csv_file(federated_data, test_data, csv_file_path)"
   ]
  },
  {
   "cell_type": "code",
   "execution_count": 4,
   "metadata": {},
   "outputs": [
    {
     "output_type": "stream",
     "name": "stdout",
     "text": [
      "0 N: 63 P: 57\n1 N: 118 P: 87\n2 N: 153 P: 139\n3 N: 67 P: 65\n"
     ]
    }
   ],
   "source": [
    "s = 3\n",
    "np.random.seed(s)\n",
    "federated_data, test_data = federate_data_nivelesrale(niveles_rale_dict)\n",
    "\n",
    "for i in range(len(federated_data)):\n",
    "    image_paths = federated_data[i]\n",
    "    neg, pos = get_neg_pos(image_paths)\n",
    "    print(str(i) + \" N: \" + str(neg) + \" P: \" + str(pos))\n",
    "\n",
    "#csv_file_path = \"../partitions/partition_noniid_nivelesrale_\" + str(s) + \".csv\"\n",
    "#write_csv_file(federated_data, test_data, csv_file_path)"
   ]
  },
  {
   "cell_type": "code",
   "execution_count": 19,
   "metadata": {},
   "outputs": [
    {
     "output_type": "stream",
     "name": "stdout",
     "text": [
      "0 N: 62 P: 59\n1 N: 53 P: 41\n2 N: 70 P: 39\n3 N: 56 P: 52\n4 N: 44 P: 39\n5 N: 48 P: 49\n6 N: 31 P: 42\n7 N: 16 P: 21\n8 N: 15 P: 10\n"
     ]
    }
   ],
   "source": [
    "s = 3\n",
    "np.random.seed(s)\n",
    "federated_data, test_data = federate_data_puntosrale(puntos_rale_dict)\n",
    "\n",
    "for i in range(len(federated_data)):\n",
    "    image_paths = federated_data[i]\n",
    "    neg, pos = get_neg_pos(image_paths)\n",
    "    print(str(i) + \" N: \" + str(neg) + \" P: \" + str(pos))\n",
    "\n",
    "csv_file_path = \"../partitions/partition_noniid_puntosrale_\" + str(s) +\".csv\"\n",
    "write_csv_file(federated_data, test_data, csv_file_path)"
   ]
  },
  {
   "cell_type": "code",
   "execution_count": 21,
   "metadata": {},
   "outputs": [
    {
     "output_type": "stream",
     "name": "stdout",
     "text": [
      "0 N: 87 P: 50\n1 N: 133 P: 49\n2 N: 34 P: 74\n3 N: 68 P: 50\n4 N: 45 P: 81\n5 N: 24 P: 55\n"
     ]
    }
   ],
   "source": [
    "s = 3\n",
    "np.random.seed(s)\n",
    "federated_data, test_data = federate_data_demograf(demograf_dict)\n",
    "\n",
    "for i in range(len(federated_data)):\n",
    "    image_paths = federated_data[i]\n",
    "    neg, pos = get_neg_pos(image_paths)\n",
    "    print(str(i) + \" N: \" + str(neg) + \" P: \" + str(pos))\n",
    "\n",
    "csv_file_path = \"../partitions/partition_noniid_demograf_\" + str(s) + \".csv\"\n",
    "write_csv_file(federated_data, test_data, csv_file_path)"
   ]
  },
  {
   "cell_type": "code",
   "execution_count": null,
   "metadata": {},
   "outputs": [],
   "source": []
  }
 ],
 "metadata": {
  "kernelspec": {
   "name": "python3",
   "display_name": "Python 3.6.10 64-bit ('TF')"
  },
  "language_info": {
   "codemirror_mode": {
    "name": "ipython",
    "version": 3
   },
   "file_extension": ".py",
   "mimetype": "text/x-python",
   "name": "python",
   "nbconvert_exporter": "python",
   "pygments_lexer": "ipython3",
   "version": "3.6.10"
  },
  "interpreter": {
   "hash": "bd261618c8cfea6550bede02b9cc7566219b0b23bef3d26d0af20f52dc361611"
  }
 },
 "nbformat": 4,
 "nbformat_minor": 5
}