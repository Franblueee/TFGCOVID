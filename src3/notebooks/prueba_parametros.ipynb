{
 "cells": [
  {
   "cell_type": "code",
   "execution_count": 1,
   "metadata": {},
   "outputs": [
    {
     "name": "stderr",
     "output_type": "stream",
     "text": [
      "/mnt/sdd/fcastro/envs/TF/lib/python3.6/site-packages/tensorflow/python/framework/dtypes.py:516: FutureWarning: Passing (type, 1) or '1type' as a synonym of type is deprecated; in a future version of numpy, it will be understood as (type, (1,)) / '(1,)type'.\n",
      "  _np_qint8 = np.dtype([(\"qint8\", np.int8, 1)])\n",
      "/mnt/sdd/fcastro/envs/TF/lib/python3.6/site-packages/tensorflow/python/framework/dtypes.py:517: FutureWarning: Passing (type, 1) or '1type' as a synonym of type is deprecated; in a future version of numpy, it will be understood as (type, (1,)) / '(1,)type'.\n",
      "  _np_quint8 = np.dtype([(\"quint8\", np.uint8, 1)])\n",
      "/mnt/sdd/fcastro/envs/TF/lib/python3.6/site-packages/tensorflow/python/framework/dtypes.py:518: FutureWarning: Passing (type, 1) or '1type' as a synonym of type is deprecated; in a future version of numpy, it will be understood as (type, (1,)) / '(1,)type'.\n",
      "  _np_qint16 = np.dtype([(\"qint16\", np.int16, 1)])\n",
      "/mnt/sdd/fcastro/envs/TF/lib/python3.6/site-packages/tensorflow/python/framework/dtypes.py:519: FutureWarning: Passing (type, 1) or '1type' as a synonym of type is deprecated; in a future version of numpy, it will be understood as (type, (1,)) / '(1,)type'.\n",
      "  _np_quint16 = np.dtype([(\"quint16\", np.uint16, 1)])\n",
      "/mnt/sdd/fcastro/envs/TF/lib/python3.6/site-packages/tensorflow/python/framework/dtypes.py:520: FutureWarning: Passing (type, 1) or '1type' as a synonym of type is deprecated; in a future version of numpy, it will be understood as (type, (1,)) / '(1,)type'.\n",
      "  _np_qint32 = np.dtype([(\"qint32\", np.int32, 1)])\n",
      "/mnt/sdd/fcastro/envs/TF/lib/python3.6/site-packages/tensorflow/python/framework/dtypes.py:525: FutureWarning: Passing (type, 1) or '1type' as a synonym of type is deprecated; in a future version of numpy, it will be understood as (type, (1,)) / '(1,)type'.\n",
      "  np_resource = np.dtype([(\"resource\", np.ubyte, 1)])\n"
     ]
    }
   ],
   "source": [
    "import os\n",
    "os.environ[\"CUDA_DEVICE_ORDER\"]=\"PCI_BUS_ID\"\n",
    "os.environ[\"CUDA_VISIBLE_DEVICES\"]=\"1\"\n",
    "import shfl\n",
    "import torch\n",
    "import copy\n",
    "import cv2\n",
    "import numpy as np\n",
    "\n",
    "from sklearn.preprocessing import LabelBinarizer\n",
    "\n",
    "from shfl.private import UnprotectedAccess\n",
    "from CIT.model import CITModel\n",
    "from utils import get_federated_data_csv, get_data_csv\n",
    "from ClassifierModel import ClassifierModel"
   ]
  },
  {
   "cell_type": "code",
   "execution_count": 2,
   "metadata": {},
   "outputs": [],
   "source": [
    "args = {\"data_path\":\"../data/COVIDGR1.0-Segmentadas\", \n",
    "        \"csv_path\": \"../partitions/partition_iid_3nodes_1.csv\",\n",
    "        \"output_path\": \"../weights\",\n",
    "        \"input_path\": \"\",\n",
    "        \"model_name\":\"transferlearning.model\", \n",
    "        \"label_bin\": \"lb.pickle\", \n",
    "        \"batch_size\": 8,\n",
    "        \"federated_rounds\": 3,\n",
    "        \"epochs_per_FL_round\": 20,\n",
    "        \"num_nodes\": 3,\n",
    "        \"size_averaging\": 1,\n",
    "        \"random_rotation\": 0,\n",
    "        \"random_shift\": 0, \n",
    "        \"random_zoom\": 0,\n",
    "        \"horizontal_flip\": False,        \n",
    "        \"finetune\": True,\n",
    "        \"train_network\": True}\n",
    "\n",
    "device = torch.device('cuda' if torch.cuda.is_available() else 'cpu')"
   ]
  },
  {
   "cell_type": "code",
   "execution_count": 3,
   "metadata": {},
   "outputs": [
    {
     "name": "stdout",
     "output_type": "stream",
     "text": [
      "[INFO] Fetching federated data...\n",
      "681\n",
      "171\n",
      "3\n",
      "225\n",
      "222\n",
      "234\n",
      "[INFO] done\n"
     ]
    }
   ],
   "source": [
    "a = ['N', 'P']\n",
    "b = ['NTN', 'NTP', 'PTP', 'PTN']\n",
    "lb1 = LabelBinarizer()\n",
    "lb2 = LabelBinarizer()\n",
    "lb1.fit(a)\n",
    "lb2.fit(b)\n",
    "\n",
    "print(\"[INFO] Fetching federated data...\")\n",
    "federated_data, train_data, train_label, test_data, test_label, train_files, test_files, args[\"num_nodes\"] = get_federated_data_csv(args[\"data_path\"], args[\"csv_path\"], lb1)\n",
    "federated_data.configure_data_access(UnprotectedAccess())\n",
    "print(len(train_data))\n",
    "print(len(test_data))\n",
    "print(args[\"num_nodes\"])\n",
    "\n",
    "for i in range(federated_data.num_nodes()):\n",
    "    data = federated_data[i].query()._data\n",
    "    print(len(data))\n",
    "\n",
    "print(\"[INFO] done\")"
   ]
  },
  {
   "cell_type": "code",
   "execution_count": 4,
   "metadata": {},
   "outputs": [],
   "source": [
    "def cit_builder():    \n",
    "    return CITModel(['N', 'P'], classifier_name = \"resnet18\", folds=1, lambda_values = [0.05], batch_size=args[\"batch_size\"], epochs=args[\"epochs_per_FL_round\"], device=device)\n"
   ]
  },
  {
   "cell_type": "code",
   "execution_count": null,
   "metadata": {},
   "outputs": [
    {
     "name": "stdout",
     "output_type": "stream",
     "text": [
      "Accuracy round 0\n"
     ]
    },
    {
     "name": "stderr",
     "output_type": "stream",
     "text": [
      "\r",
      "  0%|          | 0/23 [00:00<?, ?it/s]"
     ]
    },
    {
     "name": "stdout",
     "output_type": "stream",
     "text": [
      "Training node 0\n",
      "[INFO] weights = [1.         0.93965517]\n"
     ]
    },
    {
     "name": "stderr",
     "output_type": "stream",
     "text": [
      "[Validating]: Acc_D: 0.5217: 100%|██████████| 23/23 [00:00<00:00, 26.71it/s]\n"
     ]
    },
    {
     "name": "stdout",
     "output_type": "stream",
     "text": [
      "[INFO] Initial Valid Scores: \n",
      "Valid Acc = 0.5217391304347826\n",
      "Valid Loss = 0.8046197476594344\n",
      "[INFO] LAMBDA: 0.05\n"
     ]
    },
    {
     "name": "stderr",
     "output_type": "stream",
     "text": [
      "[Validating]: Acc_D: 0.5217: 100%|██████████| 23/23 [00:00<00:00, 30.67it/s]\n",
      "[1/20] Loss_D: 0.4642 Acc_D: 0.5668 Loss_G_class1: 0.1416 Loss_G_class2: 0.1560: 100%|██████████| 26/26 [00:36<00:00,  1.40s/it]\n",
      "[Validating]: Acc_D: 0.6087: 100%|██████████| 23/23 [00:00<00:00, 32.45it/s]\n",
      "  0%|          | 0/26 [00:00<?, ?it/s]"
     ]
    },
    {
     "name": "stdout",
     "output_type": "stream",
     "text": [
      "\n",
      "Valid Acc = 0.6086956521739131\n",
      "Valid Loss = 0.7492736487284951\n"
     ]
    },
    {
     "name": "stderr",
     "output_type": "stream",
     "text": [
      "[2/20] Loss_D: 0.3028 Acc_D: 0.7005 Loss_G_class1: 0.0284 Loss_G_class2: 0.0293: 100%|██████████| 26/26 [00:36<00:00,  1.39s/it]\n",
      "[Validating]: Acc_D: 0.6087: 100%|██████████| 23/23 [00:00<00:00, 32.44it/s]\n",
      "  0%|          | 0/26 [00:00<?, ?it/s]"
     ]
    },
    {
     "name": "stdout",
     "output_type": "stream",
     "text": [
      "\n",
      "Valid Acc = 0.6086956521739131\n",
      "Valid Loss = 0.8185062654640364\n",
      "EarlyStopping counter: 1 out of 10\n"
     ]
    },
    {
     "name": "stderr",
     "output_type": "stream",
     "text": [
      "[3/20] Loss_D: 0.2760 Acc_D: 0.7228 Loss_G_class1: 0.0186 Loss_G_class2: 0.0197: 100%|██████████| 26/26 [00:36<00:00,  1.39s/it]\n",
      "[Validating]: Acc_D: 0.5652: 100%|██████████| 23/23 [00:00<00:00, 30.72it/s]\n",
      "  0%|          | 0/26 [00:00<?, ?it/s]"
     ]
    },
    {
     "name": "stdout",
     "output_type": "stream",
     "text": [
      "\n",
      "Valid Acc = 0.5652173913043478\n",
      "Valid Loss = 1.5514604280824247\n",
      "EarlyStopping counter: 2 out of 10\n"
     ]
    },
    {
     "name": "stderr",
     "output_type": "stream",
     "text": [
      "[4/20] Loss_D: 0.2672 Acc_D: 0.7450 Loss_G_class1: 0.0202 Loss_G_class2: 0.0185: 100%|██████████| 26/26 [00:36<00:00,  1.39s/it]\n",
      "[Validating]: Acc_D: 0.6087: 100%|██████████| 23/23 [00:00<00:00, 32.47it/s]\n",
      "  0%|          | 0/26 [00:00<?, ?it/s]"
     ]
    },
    {
     "name": "stdout",
     "output_type": "stream",
     "text": [
      "\n",
      "Valid Acc = 0.6086956521739131\n",
      "Valid Loss = 1.0504046704458154\n",
      "EarlyStopping counter: 3 out of 10\n"
     ]
    },
    {
     "name": "stderr",
     "output_type": "stream",
     "text": [
      "[5/20] Loss_D: 0.2718 Acc_D: 0.7673 Loss_G_class1: 0.0171 Loss_G_class2: 0.0177: 100%|██████████| 26/26 [00:36<00:00,  1.39s/it]\n",
      "[Validating]: Acc_D: 0.6087: 100%|██████████| 23/23 [00:00<00:00, 32.24it/s]\n",
      "  0%|          | 0/26 [00:00<?, ?it/s]"
     ]
    },
    {
     "name": "stdout",
     "output_type": "stream",
     "text": [
      "\n",
      "Valid Acc = 0.6086956521739131\n",
      "Valid Loss = 0.9506891628970271\n",
      "EarlyStopping counter: 4 out of 10\n"
     ]
    },
    {
     "name": "stderr",
     "output_type": "stream",
     "text": [
      "[6/20] Loss_D: 0.2195 Acc_D: 0.8119 Loss_G_class1: 0.0127 Loss_G_class2: 0.0157: 100%|██████████| 26/26 [00:36<00:00,  1.39s/it]\n",
      "[Validating]: Acc_D: 0.6087: 100%|██████████| 23/23 [00:00<00:00, 30.44it/s]\n",
      "  0%|          | 0/26 [00:00<?, ?it/s]"
     ]
    },
    {
     "name": "stdout",
     "output_type": "stream",
     "text": [
      "\n",
      "Valid Acc = 0.6086956521739131\n",
      "Valid Loss = 0.6445851491197295\n"
     ]
    },
    {
     "name": "stderr",
     "output_type": "stream",
     "text": [
      "[7/20] Loss_D: 0.1853 Acc_D: 0.8441 Loss_G_class1: 0.0116 Loss_G_class2: 0.0119: 100%|██████████| 26/26 [00:36<00:00,  1.39s/it]\n",
      "[Validating]: Acc_D: 0.7391: 100%|██████████| 23/23 [00:00<00:00, 32.41it/s]\n",
      "  0%|          | 0/26 [00:00<?, ?it/s]"
     ]
    },
    {
     "name": "stdout",
     "output_type": "stream",
     "text": [
      "\n",
      "Valid Acc = 0.7391304347826086\n",
      "Valid Loss = 0.6841571235462375\n",
      "EarlyStopping counter: 1 out of 10\n"
     ]
    },
    {
     "name": "stderr",
     "output_type": "stream",
     "text": [
      "[8/20] Loss_D: 0.1772 Acc_D: 0.8416 Loss_G_class1: 0.0112 Loss_G_class2: 0.0106: 100%|██████████| 26/26 [00:36<00:00,  1.39s/it]\n",
      "[Validating]: Acc_D: 0.6957: 100%|██████████| 23/23 [00:00<00:00, 29.55it/s]\n",
      "  0%|          | 0/26 [00:00<?, ?it/s]"
     ]
    },
    {
     "name": "stdout",
     "output_type": "stream",
     "text": [
      "\n",
      "Valid Acc = 0.6956521739130435\n",
      "Valid Loss = 0.7249868287016517\n",
      "EarlyStopping counter: 2 out of 10\n"
     ]
    },
    {
     "name": "stderr",
     "output_type": "stream",
     "text": [
      "[9/20] Loss_D: 0.1802 Acc_D: 0.8639 Loss_G_class1: 0.0115 Loss_G_class2: 0.0106: 100%|██████████| 26/26 [00:36<00:00,  1.39s/it]\n",
      "[Validating]: Acc_D: 0.6522: 100%|██████████| 23/23 [00:00<00:00, 33.01it/s]\n",
      "  0%|          | 0/26 [00:00<?, ?it/s]"
     ]
    },
    {
     "name": "stdout",
     "output_type": "stream",
     "text": [
      "\n",
      "Valid Acc = 0.6521739130434783\n",
      "Valid Loss = 0.8092112099022969\n",
      "EarlyStopping counter: 3 out of 10\n"
     ]
    },
    {
     "name": "stderr",
     "output_type": "stream",
     "text": [
      "[10/20] Loss_D: 0.1770 Acc_D: 0.8416 Loss_G_class1: 0.0112 Loss_G_class2: 0.0116: 100%|██████████| 26/26 [00:36<00:00,  1.39s/it]\n",
      "[Validating]: Acc_D: 0.5652: 100%|██████████| 23/23 [00:00<00:00, 31.06it/s]\n",
      "  0%|          | 0/26 [00:00<?, ?it/s]"
     ]
    },
    {
     "name": "stdout",
     "output_type": "stream",
     "text": [
      "\n",
      "Valid Acc = 0.5652173913043478\n",
      "Valid Loss = 0.7678570819451757\n",
      "EarlyStopping counter: 4 out of 10\n"
     ]
    },
    {
     "name": "stderr",
     "output_type": "stream",
     "text": [
      "[11/20] Loss_D: 0.1558 Acc_D: 0.8738 Loss_G_class1: 0.0100 Loss_G_class2: 0.0091: 100%|██████████| 26/26 [00:36<00:00,  1.39s/it]\n",
      "[Validating]: Acc_D: 0.6522: 100%|██████████| 23/23 [00:00<00:00, 31.48it/s]\n",
      "  0%|          | 0/26 [00:00<?, ?it/s]"
     ]
    },
    {
     "name": "stdout",
     "output_type": "stream",
     "text": [
      "\n",
      "Valid Acc = 0.6521739130434783\n",
      "Valid Loss = 0.8993360697413268\n",
      "EarlyStopping counter: 5 out of 10\n"
     ]
    },
    {
     "name": "stderr",
     "output_type": "stream",
     "text": [
      "[12/20] Loss_D: 0.1410 Acc_D: 0.9010 Loss_G_class1: 0.0095 Loss_G_class2: 0.0079: 100%|██████████| 26/26 [00:36<00:00,  1.39s/it]\n",
      "[Validating]: Acc_D: 0.6522: 100%|██████████| 23/23 [00:00<00:00, 31.20it/s]\n",
      "  0%|          | 0/26 [00:00<?, ?it/s]"
     ]
    },
    {
     "name": "stdout",
     "output_type": "stream",
     "text": [
      "\n",
      "Valid Acc = 0.6521739130434783\n",
      "Valid Loss = 0.7223509147601284\n",
      "EarlyStopping counter: 6 out of 10\n"
     ]
    },
    {
     "name": "stderr",
     "output_type": "stream",
     "text": [
      "[13/20] Loss_D: 0.1459 Acc_D: 0.8738 Loss_G_class1: 0.0089 Loss_G_class2: 0.0089: 100%|██████████| 26/26 [00:36<00:00,  1.39s/it]\n",
      "[Validating]: Acc_D: 0.6522: 100%|██████████| 23/23 [00:00<00:00, 32.96it/s]\n",
      "  0%|          | 0/26 [00:00<?, ?it/s]"
     ]
    },
    {
     "name": "stdout",
     "output_type": "stream",
     "text": [
      "\n",
      "Valid Acc = 0.6521739130434783\n",
      "Valid Loss = 0.9562223142255908\n",
      "EarlyStopping counter: 7 out of 10\n"
     ]
    },
    {
     "name": "stderr",
     "output_type": "stream",
     "text": [
      "[14/20] Loss_D: 0.1374 Acc_D: 0.8960 Loss_G_class1: 0.0087 Loss_G_class2: 0.0087: 100%|██████████| 26/26 [00:36<00:00,  1.39s/it]\n",
      "[Validating]: Acc_D: 0.6522: 100%|██████████| 23/23 [00:00<00:00, 30.35it/s]\n",
      "  0%|          | 0/26 [00:00<?, ?it/s]"
     ]
    },
    {
     "name": "stdout",
     "output_type": "stream",
     "text": [
      "\n",
      "Valid Acc = 0.6521739130434783\n",
      "Valid Loss = 0.975662217353997\n",
      "EarlyStopping counter: 8 out of 10\n"
     ]
    },
    {
     "name": "stderr",
     "output_type": "stream",
     "text": [
      "[15/20] Loss_D: 0.1538 Acc_D: 0.8713 Loss_G_class1: 0.0095 Loss_G_class2: 0.0095: 100%|██████████| 26/26 [00:36<00:00,  1.39s/it]\n",
      "[Validating]: Acc_D: 0.6087: 100%|██████████| 23/23 [00:00<00:00, 30.66it/s]\n",
      "  0%|          | 0/26 [00:00<?, ?it/s]"
     ]
    },
    {
     "name": "stdout",
     "output_type": "stream",
     "text": [
      "\n",
      "Valid Acc = 0.6086956521739131\n",
      "Valid Loss = 0.9678013473344238\n",
      "EarlyStopping counter: 9 out of 10\n"
     ]
    },
    {
     "name": "stderr",
     "output_type": "stream",
     "text": [
      "[16/20] Loss_D: 0.1478 Acc_D: 0.8812 Loss_G_class1: 0.0093 Loss_G_class2: 0.0083: 100%|██████████| 26/26 [00:36<00:00,  1.39s/it]\n",
      "[Validating]: Acc_D: 0.7391: 100%|██████████| 23/23 [00:00<00:00, 32.19it/s]\n",
      "  0%|          | 0/23 [00:00<?, ?it/s]"
     ]
    },
    {
     "name": "stdout",
     "output_type": "stream",
     "text": [
      "\n",
      "Valid Acc = 0.7391304347826086\n",
      "Valid Loss = 0.7497970727474793\n",
      "EarlyStopping counter: 10 out of 10\n",
      "Early stopping, epoch 16\n"
     ]
    },
    {
     "name": "stderr",
     "output_type": "stream",
     "text": [
      "[Validating]: Acc_D: 0.6522: 100%|██████████| 23/23 [00:00<00:00, 34.95it/s]\n",
      "  0%|          | 0/23 [00:00<?, ?it/s]"
     ]
    },
    {
     "name": "stdout",
     "output_type": "stream",
     "text": [
      "[INFO] Summary of training for LAMBDA = 0.05 (best model values)\n",
      "Valid Acc = 0.6521739130434783\n",
      "Valid Loss = 0.793949225836474\n",
      "Training node 1\n",
      "[INFO] weights = [0.83471074 1.        ]\n"
     ]
    },
    {
     "name": "stderr",
     "output_type": "stream",
     "text": [
      "[Validating]: Acc_D: 0.4783: 100%|██████████| 23/23 [00:00<00:00, 33.19it/s]\n"
     ]
    },
    {
     "name": "stdout",
     "output_type": "stream",
     "text": [
      "[INFO] Initial Valid Scores: \n",
      "Valid Acc = 0.4782608695652174\n",
      "Valid Loss = 0.8390094132527061\n",
      "[INFO] LAMBDA: 0.05\n"
     ]
    },
    {
     "name": "stderr",
     "output_type": "stream",
     "text": [
      "[Validating]: Acc_D: 0.4783: 100%|██████████| 23/23 [00:00<00:00, 28.80it/s]\n",
      "[1/20] Loss_D: 0.4340 Acc_D: 0.5829 Loss_G_class1: 0.1428 Loss_G_class2: 0.1533: 100%|██████████| 25/25 [00:35<00:00,  1.42s/it]\n",
      "[Validating]: Acc_D: 0.5652: 100%|██████████| 23/23 [00:00<00:00, 34.61it/s]\n",
      "  0%|          | 0/25 [00:00<?, ?it/s]"
     ]
    },
    {
     "name": "stdout",
     "output_type": "stream",
     "text": [
      "\n",
      "Valid Acc = 0.5652173913043478\n",
      "Valid Loss = 0.8746322587780331\n"
     ]
    },
    {
     "name": "stderr",
     "output_type": "stream",
     "text": [
      "[2/20] Loss_D: 0.2663 Acc_D: 0.7412 Loss_G_class1: 0.0283 Loss_G_class2: 0.0292: 100%|██████████| 25/25 [00:35<00:00,  1.42s/it]\n",
      "[Validating]: Acc_D: 0.6522: 100%|██████████| 23/23 [00:00<00:00, 35.11it/s]\n",
      "  0%|          | 0/25 [00:00<?, ?it/s]"
     ]
    },
    {
     "name": "stdout",
     "output_type": "stream",
     "text": [
      "\n",
      "Valid Acc = 0.6521739130434783\n",
      "Valid Loss = 0.7831738377394883\n"
     ]
    },
    {
     "name": "stderr",
     "output_type": "stream",
     "text": [
      "[3/20] Loss_D: 0.2686 Acc_D: 0.7462 Loss_G_class1: 0.0192 Loss_G_class2: 0.0204: 100%|██████████| 25/25 [00:35<00:00,  1.42s/it]\n",
      "[Validating]: Acc_D: 0.5217: 100%|██████████| 23/23 [00:00<00:00, 30.99it/s]\n",
      "  0%|          | 0/25 [00:00<?, ?it/s]"
     ]
    },
    {
     "name": "stdout",
     "output_type": "stream",
     "text": [
      "\n",
      "Valid Acc = 0.5217391304347826\n",
      "Valid Loss = 0.718564417699109\n"
     ]
    },
    {
     "name": "stderr",
     "output_type": "stream",
     "text": [
      "[4/20] Loss_D: 0.2227 Acc_D: 0.8040 Loss_G_class1: 0.0157 Loss_G_class2: 0.0170: 100%|██████████| 25/25 [00:35<00:00,  1.42s/it]\n",
      "[Validating]: Acc_D: 0.5217: 100%|██████████| 23/23 [00:00<00:00, 33.99it/s]\n",
      "  0%|          | 0/25 [00:00<?, ?it/s]"
     ]
    },
    {
     "name": "stdout",
     "output_type": "stream",
     "text": [
      "\n",
      "Valid Acc = 0.5217391304347826\n",
      "Valid Loss = 1.2189899682998657\n",
      "EarlyStopping counter: 1 out of 10\n"
     ]
    },
    {
     "name": "stderr",
     "output_type": "stream",
     "text": [
      "[5/20] Loss_D: 0.2108 Acc_D: 0.8191 Loss_G_class1: 0.0163 Loss_G_class2: 0.0145: 100%|██████████| 25/25 [00:35<00:00,  1.42s/it]\n",
      "[Validating]: Acc_D: 0.5652: 100%|██████████| 23/23 [00:00<00:00, 34.10it/s]\n",
      "  0%|          | 0/25 [00:00<?, ?it/s]"
     ]
    },
    {
     "name": "stdout",
     "output_type": "stream",
     "text": [
      "\n",
      "Valid Acc = 0.5652173913043478\n",
      "Valid Loss = 0.8167724483039068\n",
      "EarlyStopping counter: 2 out of 10\n"
     ]
    },
    {
     "name": "stderr",
     "output_type": "stream",
     "text": [
      "[6/20] Loss_D: 0.1595 Acc_D: 0.8869 Loss_G_class1: 0.0110 Loss_G_class2: 0.0115: 100%|██████████| 25/25 [00:35<00:00,  1.42s/it]\n",
      "[Validating]: Acc_D: 0.6087: 100%|██████████| 23/23 [00:00<00:00, 32.67it/s]\n",
      "  0%|          | 0/25 [00:00<?, ?it/s]"
     ]
    },
    {
     "name": "stdout",
     "output_type": "stream",
     "text": [
      "\n",
      "Valid Acc = 0.6086956521739131\n",
      "Valid Loss = 0.6410856519056403\n"
     ]
    },
    {
     "name": "stderr",
     "output_type": "stream",
     "text": [
      "[7/20] Loss_D: 0.1482 Acc_D: 0.8945 Loss_G_class1: 0.0101 Loss_G_class2: 0.0115: 100%|██████████| 25/25 [00:35<00:00,  1.42s/it]\n",
      "[Validating]: Acc_D: 0.6522: 100%|██████████| 23/23 [00:00<00:00, 33.07it/s]\n",
      "  0%|          | 0/25 [00:00<?, ?it/s]"
     ]
    },
    {
     "name": "stdout",
     "output_type": "stream",
     "text": [
      "\n",
      "Valid Acc = 0.6521739130434783\n",
      "Valid Loss = 0.7337059988235326\n",
      "EarlyStopping counter: 1 out of 10\n"
     ]
    },
    {
     "name": "stderr",
     "output_type": "stream",
     "text": [
      "[8/20] Loss_D: 0.1382 Acc_D: 0.9095 Loss_G_class1: 0.0094 Loss_G_class2: 0.0108: 100%|██████████| 25/25 [00:35<00:00,  1.42s/it]\n",
      "[Validating]: Acc_D: 0.6522: 100%|██████████| 23/23 [00:00<00:00, 35.06it/s]\n",
      "  0%|          | 0/25 [00:00<?, ?it/s]"
     ]
    },
    {
     "name": "stdout",
     "output_type": "stream",
     "text": [
      "\n",
      "Valid Acc = 0.6521739130434783\n",
      "Valid Loss = 0.7937514182666073\n",
      "EarlyStopping counter: 2 out of 10\n"
     ]
    },
    {
     "name": "stderr",
     "output_type": "stream",
     "text": [
      "[9/20] Loss_D: 0.1102 Acc_D: 0.9020 Loss_G_class1: 0.0090 Loss_G_class2: 0.0075: 100%|██████████| 25/25 [00:35<00:00,  1.42s/it]\n",
      "[Validating]: Acc_D: 0.6087: 100%|██████████| 23/23 [00:00<00:00, 34.52it/s]\n",
      "  0%|          | 0/25 [00:00<?, ?it/s]"
     ]
    },
    {
     "name": "stdout",
     "output_type": "stream",
     "text": [
      "\n",
      "Valid Acc = 0.6086956521739131\n",
      "Valid Loss = 0.7839117639738581\n",
      "EarlyStopping counter: 3 out of 10\n"
     ]
    },
    {
     "name": "stderr",
     "output_type": "stream",
     "text": [
      "[10/20] Loss_D: 0.1228 Acc_D: 0.9045 Loss_G_class1: 0.0083 Loss_G_class2: 0.0095: 100%|██████████| 25/25 [00:35<00:00,  1.42s/it]\n",
      "[Validating]: Acc_D: 0.5217: 100%|██████████| 23/23 [00:00<00:00, 34.00it/s]\n",
      "  0%|          | 0/25 [00:00<?, ?it/s]"
     ]
    },
    {
     "name": "stdout",
     "output_type": "stream",
     "text": [
      "\n",
      "Valid Acc = 0.5217391304347826\n",
      "Valid Loss = 0.7506458888478253\n",
      "EarlyStopping counter: 4 out of 10\n"
     ]
    },
    {
     "name": "stderr",
     "output_type": "stream",
     "text": [
      "[11/20] Loss_D: 0.1352 Acc_D: 0.8970 Loss_G_class1: 0.0090 Loss_G_class2: 0.0105: 100%|██████████| 25/25 [00:35<00:00,  1.42s/it]\n",
      "[Validating]: Acc_D: 0.6957: 100%|██████████| 23/23 [00:00<00:00, 32.71it/s]\n",
      "  0%|          | 0/25 [00:00<?, ?it/s]"
     ]
    },
    {
     "name": "stdout",
     "output_type": "stream",
     "text": [
      "\n",
      "Valid Acc = 0.6956521739130435\n",
      "Valid Loss = 0.7463941279312839\n",
      "EarlyStopping counter: 5 out of 10\n"
     ]
    },
    {
     "name": "stderr",
     "output_type": "stream",
     "text": [
      "[12/20] Loss_D: 0.1092 Acc_D: 0.9221 Loss_G_class1: 0.0076 Loss_G_class2: 0.0089: 100%|██████████| 25/25 [00:35<00:00,  1.42s/it]\n",
      "[Validating]: Acc_D: 0.6087: 100%|██████████| 23/23 [00:00<00:00, 32.00it/s]\n",
      "  0%|          | 0/25 [00:00<?, ?it/s]"
     ]
    },
    {
     "name": "stdout",
     "output_type": "stream",
     "text": [
      "\n",
      "Valid Acc = 0.6086956521739131\n",
      "Valid Loss = 0.8487373694129612\n",
      "EarlyStopping counter: 6 out of 10\n"
     ]
    },
    {
     "name": "stderr",
     "output_type": "stream",
     "text": [
      "[13/20] Loss_D: 0.1080 Acc_D: 0.9196 Loss_G_class1: 0.0071 Loss_G_class2: 0.0088: 100%|██████████| 25/25 [00:35<00:00,  1.42s/it]\n",
      "[Validating]: Acc_D: 0.5652: 100%|██████████| 23/23 [00:00<00:00, 33.62it/s]\n",
      "  0%|          | 0/25 [00:00<?, ?it/s]"
     ]
    },
    {
     "name": "stdout",
     "output_type": "stream",
     "text": [
      "\n",
      "Valid Acc = 0.5652173913043478\n",
      "Valid Loss = 0.7875488257723982\n",
      "EarlyStopping counter: 7 out of 10\n"
     ]
    },
    {
     "name": "stderr",
     "output_type": "stream",
     "text": [
      "[14/20] Loss_D: 0.1007 Acc_D: 0.9221 Loss_G_class1: 0.0072 Loss_G_class2: 0.0076: 100%|██████████| 25/25 [00:35<00:00,  1.42s/it]\n",
      "[Validating]: Acc_D: 0.6522: 100%|██████████| 23/23 [00:00<00:00, 34.22it/s]\n",
      "  0%|          | 0/25 [00:00<?, ?it/s]"
     ]
    },
    {
     "name": "stdout",
     "output_type": "stream",
     "text": [
      "\n",
      "Valid Acc = 0.6521739130434783\n",
      "Valid Loss = 0.673385707580525\n",
      "EarlyStopping counter: 8 out of 10\n"
     ]
    },
    {
     "name": "stderr",
     "output_type": "stream",
     "text": [
      "[15/20] Loss_D: 0.1143 Acc_D: 0.9146 Loss_G_class1: 0.0075 Loss_G_class2: 0.0087: 100%|██████████| 25/25 [00:35<00:00,  1.42s/it]\n",
      "[Validating]: Acc_D: 0.6957: 100%|██████████| 23/23 [00:00<00:00, 32.31it/s]\n",
      "  0%|          | 0/25 [00:00<?, ?it/s]"
     ]
    },
    {
     "name": "stdout",
     "output_type": "stream",
     "text": [
      "\n",
      "Valid Acc = 0.6956521739130435\n",
      "Valid Loss = 0.8598640859127045\n",
      "EarlyStopping counter: 9 out of 10\n"
     ]
    },
    {
     "name": "stderr",
     "output_type": "stream",
     "text": [
      "[16/20] Loss_D: 0.1121 Acc_D: 0.9121 Loss_G_class1: 0.0084 Loss_G_class2: 0.0087: 100%|██████████| 25/25 [00:35<00:00,  1.42s/it]\n",
      "[Validating]: Acc_D: 0.6087: 100%|██████████| 23/23 [00:00<00:00, 31.55it/s]\n",
      "  0%|          | 0/23 [00:00<?, ?it/s]"
     ]
    },
    {
     "name": "stdout",
     "output_type": "stream",
     "text": [
      "\n",
      "Valid Acc = 0.6086956521739131\n",
      "Valid Loss = 1.0685359456616899\n",
      "EarlyStopping counter: 10 out of 10\n",
      "Early stopping, epoch 16\n"
     ]
    },
    {
     "name": "stderr",
     "output_type": "stream",
     "text": [
      "[Validating]: Acc_D: 0.6522: 100%|██████████| 23/23 [00:00<00:00, 31.34it/s]\n",
      "  0%|          | 0/24 [00:00<?, ?it/s]"
     ]
    },
    {
     "name": "stdout",
     "output_type": "stream",
     "text": [
      "[INFO] Summary of training for LAMBDA = 0.05 (best model values)\n",
      "Valid Acc = 0.6521739130434783\n",
      "Valid Loss = 0.9070882100368971\n",
      "Training node 2\n",
      "[INFO] weights = [1.       0.828125]\n"
     ]
    },
    {
     "name": "stderr",
     "output_type": "stream",
     "text": [
      "[Validating]: Acc_D: 0.4583: 100%|██████████| 24/24 [00:00<00:00, 35.53it/s]\n"
     ]
    },
    {
     "name": "stdout",
     "output_type": "stream",
     "text": [
      "[INFO] Initial Valid Scores: \n",
      "Valid Acc = 0.4583333333333333\n",
      "Valid Loss = 0.8612320696314176\n",
      "[INFO] LAMBDA: 0.05\n"
     ]
    },
    {
     "name": "stderr",
     "output_type": "stream",
     "text": [
      "[Validating]: Acc_D: 0.4583: 100%|██████████| 24/24 [00:00<00:00, 29.17it/s]\n",
      "[1/20] Loss_D: 0.5055 Acc_D: 0.5139 Loss_G_class1: 0.1699 Loss_G_class2: 0.1753:  67%|██████▋   | 18/27 [00:25<00:12,  1.41s/it]"
     ]
    }
   ],
   "source": [
    "aggregator = shfl.federated_aggregator.FedAvgAggregator()\n",
    "cit_federated_government = shfl.federated_government.FederatedGovernment(cit_builder, federated_data, aggregator)\n",
    "cit_federated_government.run_rounds(args[\"federated_rounds\"], test_data, test_label)\n"
   ]
  },
  {
   "cell_type": "code",
   "execution_count": null,
   "metadata": {},
   "outputs": [],
   "source": [
    "\"\"\"\n",
    "cit1 = cit_builder()\n",
    "cit2 = cit_builder()\n",
    "cit3 = cit_builder()\n",
    "\n",
    "cit2._G_dict['P'].to('cpu')\n",
    "\n",
    "#for p in cit2._G_dict['P'].parameters():\n",
    "#    print(p)\n",
    "\n",
    "state_dict = cit2._G_dict['P'].state_dict()\n",
    "new_state_dict = copy.deepcopy(state_dict)\n",
    "\n",
    "for k in state_dict:\n",
    "    print(state_dict[k])\n",
    "\"\"\""
   ]
  },
  {
   "cell_type": "code",
   "execution_count": null,
   "metadata": {},
   "outputs": [],
   "source": [
    "\"\"\"\n",
    "with torch.no_grad():\n",
    "    \n",
    "    for k in state_dict:\n",
    "        #print(k)\n",
    "        new_state_dict[k] = 2*state_dict[k]\n",
    "        #print(new_state_dict[k])\n",
    "    cit2._G_dict['P'].load_state_dict(new_state_dict)\n",
    "    \n",
    "\n",
    "\"\"\"\n",
    "    "
   ]
  },
  {
   "cell_type": "code",
   "execution_count": null,
   "metadata": {},
   "outputs": [],
   "source": [
    "\"\"\"\n",
    "state_dict = cit2._G_dict['P'].state_dict()\n",
    "for k in state_dict:\n",
    "    print(state_dict[k])\n",
    "\"\"\""
   ]
  },
  {
   "cell_type": "code",
   "execution_count": null,
   "metadata": {},
   "outputs": [],
   "source": [
    "cit1 = cit_builder()\n",
    "cit2 = cit_builder()\n",
    "cit3 = cit_builder()\n",
    "\n",
    "for cit in [cit1, cit2, cit3]:\n",
    "    state_dict = cit._G_dict['P'].state_dict()\n",
    "    k = \"block1.0.weight\"\n",
    "    print(state_dict[k][0][0][0])\n",
    "\n",
    "aggregator = shfl.federated_aggregator.FedAvgAggregator()\n",
    "aggregated_weights = aggregator.aggregate_weights([cit1.get_model_params(), cit2.get_model_params(), cit3.get_model_params()])\n",
    "\n",
    "cit1.set_model_params(aggregated_weights)\n",
    "\n",
    "print(\"bbb\")\n",
    "state_dict = cit1._G_dict['P'].state_dict()\n",
    "k = \"block1.0.weight\"\n",
    "print(state_dict[k][0][0][0])\n"
   ]
  },
  {
   "cell_type": "code",
   "execution_count": null,
   "metadata": {},
   "outputs": [],
   "source": [
    "\n",
    "cit1 = cit_builder()\n",
    "cit2 = cit_builder()\n",
    "cit3 = cit_builder()\n",
    "k = \"conv1.weight\"\n",
    "state_dict = cit1._classifier.state_dict()\n",
    "state_dict[k][0][0][0][0] = 3\n",
    "cit1._classifier.load_state_dict(state_dict)\n",
    "\n",
    "k = \"conv1.weight\"\n",
    "for cit in [cit1, cit2, cit3]:\n",
    "    state_dict = cit._classifier.state_dict()\n",
    "    print(state_dict[k][0][0][0])\n",
    "\n",
    "state_dict[k][0][0][0][0] = 3\n",
    "cit1._classifier.load_state_dict(state_dict)\n",
    "    \n",
    "aggregator = shfl.federated_aggregator.FedAvgAggregator()\n",
    "agg = aggregator.aggregate_weights([cit1.get_model_params(), cit2.get_model_params(), cit3.get_model_params()])\n",
    "cit1.set_model_params(agg)\n",
    "\n",
    "print(\"bbb\")\n",
    "state_dict = cit1._classifier.state_dict()\n",
    "k = \"conv1.weight\"\n",
    "print(state_dict[k][0][0][0])\n"
   ]
  },
  {
   "cell_type": "code",
   "execution_count": null,
   "metadata": {},
   "outputs": [],
   "source": []
  }
 ],
 "metadata": {
  "kernelspec": {
   "display_name": "Python 3",
   "language": "python",
   "name": "python3"
  },
  "language_info": {
   "codemirror_mode": {
    "name": "ipython",
    "version": 3
   },
   "file_extension": ".py",
   "mimetype": "text/x-python",
   "name": "python",
   "nbconvert_exporter": "python",
   "pygments_lexer": "ipython3",
   "version": "3.6.10"
  }
 },
 "nbformat": 4,
 "nbformat_minor": 4
}
